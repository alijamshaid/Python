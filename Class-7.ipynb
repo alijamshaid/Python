{
 "cells": [
  {
   "cell_type": "markdown",
   "metadata": {},
   "source": [
    "# FUNCTIONS"
   ]
  },
  {
   "cell_type": "code",
   "execution_count": 14,
   "metadata": {},
   "outputs": [
    {
     "data": {
      "text/plain": [
       "6"
      ]
     },
     "execution_count": 14,
     "metadata": {},
     "output_type": "execute_result"
    }
   ],
   "source": [
    "def abc(a,b,c):\n",
    "    return (a+b+c)\n",
    "abc(1,2,3)\n",
    "#def dat():\n",
    " #   return datetime()\n",
    "#dat()"
   ]
  },
  {
   "cell_type": "markdown",
   "metadata": {},
   "source": [
    "# Predefine function"
   ]
  },
  {
   "cell_type": "code",
   "execution_count": 18,
   "metadata": {},
   "outputs": [
    {
     "name": "stdout",
     "output_type": "stream",
     "text": [
      "muhammad ali\n",
      "<class 'str'>\n",
      "67025376\n",
      "['a', 'b', 'd', 'o', 's']\n",
      "16\n"
     ]
    }
   ],
   "source": [
    "print(\"muhammad ali\")\n",
    "#input(\"enter : \")\n",
    "print(type((\"abc\")))\n",
    "print(id(\"aa\"))\n",
    "print(sorted(\"abdos\"))\n",
    "print(sum([7,9]))"
   ]
  },
  {
   "cell_type": "markdown",
   "metadata": {},
   "source": [
    "# User defined function"
   ]
  },
  {
   "cell_type": "code",
   "execution_count": 1,
   "metadata": {},
   "outputs": [
    {
     "name": "stdout",
     "output_type": "stream",
     "text": [
      "Pakistan zindabad\n",
      "we are pakistani\n",
      "welove our country\n"
     ]
    }
   ],
   "source": [
    "print(\"Pakistan zindabad\")\n",
    "print(\"we are pakistani\")\n",
    "print(\"welove our country\")\n"
   ]
  },
  {
   "cell_type": "code",
   "execution_count": 4,
   "metadata": {},
   "outputs": [
    {
     "name": "stdout",
     "output_type": "stream",
     "text": [
      "Pakistan zindabad\n",
      "we are pakistani youthprint\n",
      "welove our country\n",
      "Pakistan zindabad\n",
      "we are pakistani youthprint\n",
      "welove our country\n",
      "Pakistan zindabad\n",
      "we are pakistani youthprint\n",
      "welove our country\n"
     ]
    }
   ],
   "source": [
    "def abc():  #functin decelartion\n",
    "    print(\"Pakistan zindabad\")   #Body Start Statement\n",
    "    print(\"we are pakistani youthprint\")\n",
    "    print(\"welove our country\")\n",
    "abc()\n",
    "abc()\n",
    "abc() #this function is default function which does not take argument"
   ]
  },
  {
   "cell_type": "code",
   "execution_count": 14,
   "metadata": {},
   "outputs": [
    {
     "name": "stdout",
     "output_type": "stream",
     "text": [
      "\n",
      "    PIAIC Islamabad\n",
      "    student id : 1\n",
      "    Name : ali\n",
      "    Father Name : jamshaid khan\n",
      "    course : ai\n",
      "    time:12 to 3\n",
      "    \n",
      "\n",
      "    PIAIC Islamabad\n",
      "    student id : 2\n",
      "    Name : ali jamshaid\n",
      "    Father Name : jamshaid khan\n",
      "    course : ai\n",
      "    time:12 to 3\n",
      "    \n",
      "\n",
      "    PIAIC Islamabad\n",
      "    student id : 3\n",
      "    Name : waheed\n",
      "    Father Name : jamshaid khan\n",
      "    course : ai\n",
      "    time:12 to 3\n",
      "    \n"
     ]
    }
   ],
   "source": [
    "def id_card(sid,sname,fname,course,time):#parameters inside parenthesis\n",
    "    print(f\"\"\"\n",
    "    PIAIC Islamabad\n",
    "    student id : {sid}\n",
    "    Name : {sname}\n",
    "    Father Name : {fname}\n",
    "    course : {course}\n",
    "    time:{time}\n",
    "    \"\"\")\n",
    "id_card(1,\"ali\",\"jamshaid khan\",\"ai\",\"12 to 3\")\n",
    "id_card(2,\"ali jamshaid\",\"jamshaid khan\",\"ai\",\"12 to 3\")\n",
    "id_card(3,\"waheed\",\"jamshaid khan\",\"ai\",\"12 to 3\")"
   ]
  },
  {
   "cell_type": "markdown",
   "metadata": {},
   "source": [
    "# Optional Arguments"
   ]
  },
  {
   "cell_type": "code",
   "execution_count": 21,
   "metadata": {},
   "outputs": [
    {
     "name": "stdout",
     "output_type": "stream",
     "text": [
      "5 0 0\n",
      "5\n",
      "5 7 0\n",
      "12\n",
      "8 5 9\n",
      "22\n",
      "22 0 0\n",
      "22\n"
     ]
    }
   ],
   "source": [
    "def plz(a,b=0,c=0):\n",
    "    print (a,b,c)\n",
    "    print(a+b+c)\n",
    "plz(5)\n",
    "plz(5,7)\n",
    "plz(8,5,9)\n",
    "plz(22)"
   ]
  },
  {
   "cell_type": "markdown",
   "metadata": {},
   "source": [
    "# Return Function"
   ]
  },
  {
   "cell_type": "code",
   "execution_count": 25,
   "metadata": {},
   "outputs": [
    {
     "name": "stdout",
     "output_type": "stream",
     "text": [
      "pakistani\n",
      "None\n"
     ]
    }
   ],
   "source": [
    "a=print(\"pakistani\") #non return function\n",
    "print(a)#print non return function"
   ]
  },
  {
   "cell_type": "code",
   "execution_count": 28,
   "metadata": {},
   "outputs": [
    {
     "name": "stdout",
     "output_type": "stream",
     "text": [
      "15 15\n"
     ]
    }
   ],
   "source": [
    "def pls(x=0,y=0,z=0):\n",
    "    return(x+y+z) #always return first return statement\n",
    "    return(x*y*z) \n",
    "    return(x+y*z)\n",
    "a=pls(7,8)\n",
    "b=pls(8,4,3)\n",
    "print(a,b)"
   ]
  },
  {
   "cell_type": "code",
   "execution_count": 32,
   "metadata": {},
   "outputs": [
    {
     "name": "stdout",
     "output_type": "stream",
     "text": [
      "(5, 0, 2)\n",
      "(9, 24, 14)\n"
     ]
    }
   ],
   "source": [
    "def pls(x=0,y=0,z=0):\n",
    "    return(x+y+z) , (x*y*z) , (x+y*z)\n",
    "print(pls(2,3))\n",
    "print(pls(2,3,4))"
   ]
  },
  {
   "cell_type": "markdown",
   "metadata": {},
   "source": [
    "# Keyword Arguments"
   ]
  },
  {
   "cell_type": "code",
   "execution_count": 37,
   "metadata": {},
   "outputs": [
    {
     "name": "stdout",
     "output_type": "stream",
     "text": [
      "\n",
      "    PIAIC Islamabad\n",
      "    student id : 33\n",
      "    Name : jamshaid\n",
      "    Father Name : a.i\n",
      "    course : 12 to 3\n",
      "    time:muhammad ali\n",
      "    \n",
      "\n",
      "    PIAIC Islamabad\n",
      "    student id : 33\n",
      "    Name : muhammad ali\n",
      "    Father Name : jamshaid\n",
      "    course : a.i\n",
      "    time:12 to 3\n",
      "    \n",
      "\n",
      "    PIAIC Islamabad\n",
      "    student id : 33\n",
      "    Name : jamshaid\n",
      "    Father Name : muhammad ali\n",
      "    course : a.i\n",
      "    time:12 to 3\n",
      "    \n"
     ]
    }
   ],
   "source": [
    "def id_card(sid,sname,fname,course,time):#parameters inside parenthesis\n",
    "    print(f\"\"\"\n",
    "    PIAIC Islamabad\n",
    "    student id : {sid}\n",
    "    Name : {sname}\n",
    "    Father Name : {fname}\n",
    "    course : {course}\n",
    "    time:{time}\n",
    "    \"\"\")\n",
    "    \n",
    "id_card(33,\"jamshaid\",\"a.i\",\"12 to 3\",\"muhammad ali\")\n",
    "id_card(33,fname=\"jamshaid\",course=\"a.i\",time=\"12 to 3\",sname=\"muhammad ali\")\n",
    "id_card(33,\"jamshaid\",course=\"a.i\",time=\"12 to 3\",fname=\"muhammad ali\")"
   ]
  },
  {
   "cell_type": "markdown",
   "metadata": {},
   "source": [
    "# Pass argument by list"
   ]
  },
  {
   "cell_type": "code",
   "execution_count": 41,
   "metadata": {},
   "outputs": [
    {
     "name": "stdout",
     "output_type": "stream",
     "text": [
      "\n",
      "    PIAIC Islamabad\n",
      "    student id : 8\n",
      "    Name : a\n",
      "    Father Name : b\n",
      "    course : c\n",
      "    time:d\n",
      "    \n",
      "\n",
      "    PIAIC Islamabad\n",
      "    student id : 81\n",
      "    Name : A1\n",
      "    Father Name : b1\n",
      "    course : c1\n",
      "    time:d1\n",
      "    \n",
      "8 a b c d\n"
     ]
    }
   ],
   "source": [
    "def id_card(sid,sname,fname,course,time):#parameters inside parenthesis\n",
    "    print(f\"\"\"\n",
    "    PIAIC Islamabad\n",
    "    student id : {sid}\n",
    "    Name : {sname}\n",
    "    Father Name : {fname}\n",
    "    course : {course}\n",
    "    time:{time}\n",
    "    \"\"\")\n",
    "l1=[8,\"a\",\"b\",\"c\",\"d\"]\n",
    "l2=[81,\"A1\",\"b1\",\"c1\",\"d1\"]\n",
    "id_card(l1[0],l1[1],l1[2],l1[3],l1[4])\n",
    "id_card(*l2)\n",
    "print(*l1)"
   ]
  },
  {
   "cell_type": "markdown",
   "metadata": {},
   "source": [
    "# Pass argument by dictionary"
   ]
  },
  {
   "cell_type": "code",
   "execution_count": 45,
   "metadata": {},
   "outputs": [
    {
     "name": "stdout",
     "output_type": "stream",
     "text": [
      "\n",
      "    PIAIC Islamabad\n",
      "    student id : 13\n",
      "    Name : ali\n",
      "    Father Name : jamshaid khan\n",
      "    course : a.i\n",
      "    time:12 to 3\n",
      "    \n"
     ]
    }
   ],
   "source": [
    "def id_card(sid,sname,fname,course,time):#parameters inside parenthesis\n",
    "    print(f\"\"\"\n",
    "    PIAIC Islamabad\n",
    "    student id : {sid}\n",
    "    Name : {sname}\n",
    "    Father Name : {fname}\n",
    "    course : {course}\n",
    "    time:{time}\n",
    "    \"\"\")\n",
    "d1={\n",
    "    'course':\"a.i\",\n",
    "    'time':\"12 to 3\",\n",
    "    \"sname\":\"ali\",\n",
    "    \"fname\":\"jamshaid khan\",\n",
    "    \"sid\":13\n",
    "}\n",
    "id_card(**d1)"
   ]
  },
  {
   "cell_type": "markdown",
   "metadata": {},
   "source": [
    "# optional parameters with list"
   ]
  },
  {
   "cell_type": "code",
   "execution_count": 54,
   "metadata": {},
   "outputs": [
    {
     "ename": "TypeError",
     "evalue": "abc() got multiple values for argument 'name'",
     "output_type": "error",
     "traceback": [
      "\u001b[1;31m---------------------------------------------------------------------------\u001b[0m",
      "\u001b[1;31mTypeError\u001b[0m                                 Traceback (most recent call last)",
      "\u001b[1;32m<ipython-input-54-8e83b35811a9>\u001b[0m in \u001b[0;36m<module>\u001b[1;34m\u001b[0m\n\u001b[0;32m      4\u001b[0m     \u001b[0mprint\u001b[0m\u001b[1;33m(\u001b[0m\u001b[0msum\u001b[0m\u001b[1;33m(\u001b[0m\u001b[0mnumber\u001b[0m\u001b[1;33m)\u001b[0m\u001b[1;33m)\u001b[0m\u001b[1;33m\u001b[0m\u001b[1;33m\u001b[0m\u001b[0m\n\u001b[0;32m      5\u001b[0m \u001b[1;31m#abc(\"ali\",5,4,3,5,7)\u001b[0m\u001b[1;33m\u001b[0m\u001b[1;33m\u001b[0m\u001b[1;33m\u001b[0m\u001b[0m\n\u001b[1;32m----> 6\u001b[1;33m \u001b[0mabc\u001b[0m\u001b[1;33m(\u001b[0m\u001b[1;36m9\u001b[0m\u001b[1;33m,\u001b[0m\u001b[1;36m8\u001b[0m\u001b[1;33m,\u001b[0m\u001b[1;36m7\u001b[0m\u001b[1;33m,\u001b[0m\u001b[1;36m6\u001b[0m\u001b[1;33m,\u001b[0m \u001b[0mname\u001b[0m\u001b[1;33m=\u001b[0m\u001b[1;34m\"ali\"\u001b[0m\u001b[1;33m)\u001b[0m\u001b[1;33m\u001b[0m\u001b[1;33m\u001b[0m\u001b[0m\n\u001b[0m",
      "\u001b[1;31mTypeError\u001b[0m: abc() got multiple values for argument 'name'"
     ]
    }
   ],
   "source": [
    "def abc(name, *number):\n",
    "    print(name)\n",
    "    print(number)\n",
    "    print(sum(number))\n",
    "#abc(\"ali\",5,4,3,5,7)\n",
    "abc(9,8,7,6, name=\"ali\")"
   ]
  },
  {
   "cell_type": "markdown",
   "metadata": {},
   "source": [
    "# Optional parameter with dictionary"
   ]
  },
  {
   "cell_type": "code",
   "execution_count": 59,
   "metadata": {},
   "outputs": [
    {
     "name": "stdout",
     "output_type": "stream",
     "text": [
      "ali\n",
      "{'a': 'aa', 'b': 'bb', 'c': 'cc'}\n"
     ]
    }
   ],
   "source": [
    "def abc(name,**kv):\n",
    "    print(name)\n",
    "    print(kv)\n",
    "    if b in kv.keys():\n",
    "        print(\"pakistan\")\n",
    "abc('ali',a='aa',b='bb',c='cc')"
   ]
  },
  {
   "cell_type": "markdown",
   "metadata": {},
   "source": [
    "# Recursive Function"
   ]
  },
  {
   "cell_type": "code",
   "execution_count": 61,
   "metadata": {},
   "outputs": [
    {
     "data": {
      "text/plain": [
       "120"
      ]
     },
     "execution_count": 61,
     "metadata": {},
     "output_type": "execute_result"
    }
   ],
   "source": [
    "def xyz(n):\n",
    "    if n==1:\n",
    "        return 1\n",
    "    return n*xyz(n-1)\n",
    "xyz(5)"
   ]
  },
  {
   "cell_type": "markdown",
   "metadata": {},
   "source": [
    "# Generator function"
   ]
  },
  {
   "cell_type": "code",
   "execution_count": 72,
   "metadata": {},
   "outputs": [
    {
     "name": "stdout",
     "output_type": "stream",
     "text": [
      "1\n",
      "2\n",
      "3\n",
      "4\n"
     ]
    },
    {
     "data": {
      "text/plain": [
       "[5, 6, 7, 8, 9, 10]"
      ]
     },
     "execution_count": 72,
     "metadata": {},
     "output_type": "execute_result"
    }
   ],
   "source": [
    "def my_range(n):\n",
    "    for i in range(1,n+1):\n",
    "        yield i #yield identity of generator function\n",
    "        \n",
    "a = my_range(10)\n",
    "print(next(a))\n",
    "print(next(a))\n",
    "print(next(a))\n",
    "print(next(a))\n",
    "list(a)"
   ]
  },
  {
   "cell_type": "code",
   "execution_count": 81,
   "metadata": {},
   "outputs": [
    {
     "name": "stdout",
     "output_type": "stream",
     "text": [
      "105\n"
     ]
    },
    {
     "data": {
      "text/plain": [
       "[210, 315, 420, 525, 630, 735, 840, 945, 1050, 1155, 1260, 1365, 1470]"
      ]
     },
     "execution_count": 81,
     "metadata": {},
     "output_type": "execute_result"
    }
   ],
   "source": [
    "def my_range(n):\n",
    "    for i in range(1,n+1):\n",
    "        if (i%7==0 and i%5==0 and i%15==0):\n",
    "            yield i\n",
    "a=my_range(1500)\n",
    "print(next(a))\n",
    "list(a)"
   ]
  },
  {
   "cell_type": "markdown",
   "metadata": {},
   "source": [
    "# Lambda Function"
   ]
  },
  {
   "cell_type": "code",
   "execution_count": 82,
   "metadata": {},
   "outputs": [
    {
     "data": {
      "text/plain": [
       "12"
      ]
     },
     "execution_count": 82,
     "metadata": {},
     "output_type": "execute_result"
    }
   ],
   "source": [
    "def abc(x,y): return (x+y)\n",
    "abc(7,5)"
   ]
  },
  {
   "cell_type": "code",
   "execution_count": 83,
   "metadata": {},
   "outputs": [
    {
     "data": {
      "text/plain": [
       "21"
      ]
     },
     "execution_count": 83,
     "metadata": {},
     "output_type": "execute_result"
    }
   ],
   "source": [
    "abc =lambda x,y,z: x+y+z\n",
    "abc(7,7,7)"
   ]
  },
  {
   "cell_type": "code",
   "execution_count": 89,
   "metadata": {},
   "outputs": [
    {
     "ename": "SyntaxError",
     "evalue": "invalid syntax (<ipython-input-89-1789ca24814b>, line 1)",
     "output_type": "error",
     "traceback": [
      "\u001b[1;36m  File \u001b[1;32m\"<ipython-input-89-1789ca24814b>\"\u001b[1;36m, line \u001b[1;32m1\u001b[0m\n\u001b[1;33m    gret= lambda x,y:x>y if x > y y else x\u001b[0m\n\u001b[1;37m                                  ^\u001b[0m\n\u001b[1;31mSyntaxError\u001b[0m\u001b[1;31m:\u001b[0m invalid syntax\n"
     ]
    }
   ],
   "source": [
    "gret= lambda x,y:x>y if x > y y else x\n",
    "gret(3,6)"
   ]
  }
 ],
 "metadata": {
  "kernelspec": {
   "display_name": "Python 3",
   "language": "python",
   "name": "python3"
  },
  "language_info": {
   "codemirror_mode": {
    "name": "ipython",
    "version": 3
   },
   "file_extension": ".py",
   "mimetype": "text/x-python",
   "name": "python",
   "nbconvert_exporter": "python",
   "pygments_lexer": "ipython3",
   "version": "3.7.3"
  }
 },
 "nbformat": 4,
 "nbformat_minor": 2
}
