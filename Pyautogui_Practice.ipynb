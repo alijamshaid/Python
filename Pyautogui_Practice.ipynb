{
 "cells": [
  {
   "cell_type": "code",
   "execution_count": 11,
   "metadata": {},
   "outputs": [
    {
     "data": {
      "text/plain": [
       "Point(x=1346, y=16)"
      ]
     },
     "execution_count": 11,
     "metadata": {},
     "output_type": "execute_result"
    }
   ],
   "source": [
    "import pyautogui as pag\n",
    "pag.position()\n",
    "#pag.click(484,16)\n",
    "#pag.alert(text=\"your coding file being saved to the disk\",title=\"alert box\",button=\"ok\")"
   ]
  },
  {
   "cell_type": "code",
   "execution_count": 16,
   "metadata": {},
   "outputs": [
    {
     "data": {
      "text/plain": [
       "'alright'"
      ]
     },
     "execution_count": 16,
     "metadata": {},
     "output_type": "execute_result"
    }
   ],
   "source": [
    "pag.alert(text=\"your coding file being saved to the disk\",title='alert box',button=\"alright\")"
   ]
  },
  {
   "cell_type": "code",
   "execution_count": 22,
   "metadata": {},
   "outputs": [
    {
     "name": "stdout",
     "output_type": "stream",
     "text": [
      "selected to the group\n"
     ]
    }
   ],
   "source": [
    "x=pag.confirm(text=\"muhammad ali\",title=\"Confirmation box\",buttons=['ok','cancel'])\n",
    "if x==\"ok\":\n",
    "    print(\"selected to the group\")\n",
    "else:\n",
    "    print(\"not selected\")"
   ]
  },
  {
   "cell_type": "code",
   "execution_count": 25,
   "metadata": {},
   "outputs": [
    {
     "data": {
      "text/plain": [
       "'coursera'"
      ]
     },
     "execution_count": 25,
     "metadata": {},
     "output_type": "execute_result"
    }
   ],
   "source": [
    "a=pag.prompt(text=\"course\",title=\"course name\",default=\"ai for everyone\")\n",
    "a"
   ]
  },
  {
   "cell_type": "code",
   "execution_count": 27,
   "metadata": {},
   "outputs": [
    {
     "data": {
      "text/plain": [
       "'usama jamsahid'"
      ]
     },
     "execution_count": 27,
     "metadata": {},
     "output_type": "execute_result"
    }
   ],
   "source": [
    "pag.password(text=\"\",title=\"\",default=\"\",mask=\"*\")"
   ]
  },
  {
   "cell_type": "code",
   "execution_count": 35,
   "metadata": {},
   "outputs": [
    {
     "name": "stdout",
     "output_type": "stream",
     "text": [
      "Login successful\n"
     ]
    }
   ],
   "source": [
    "pwd=pag.password(text='Kindly enter the password:', title='Login', default='', mask='*')\n",
    "if pwd == 'pakistan321':\n",
    "    print('Login successful')\n",
    "elif pwd == None:\n",
    "    print('Cancelled the login procedure')\n",
    "else:\n",
    "    print('Invalid Password!')"
   ]
  },
  {
   "cell_type": "code",
   "execution_count": null,
   "metadata": {},
   "outputs": [],
   "source": [
    "mmm.mp4\n"
   ]
  },
  {
   "cell_type": "code",
   "execution_count": 11,
   "metadata": {},
   "outputs": [],
   "source": [
    "import pyautogui as pag\n",
    "import time\n",
    "#pag.position(121,751)\n",
    "pag.click(121,751)\n",
    "pag.write('This PC')\n",
    "pag.moveTo(171,190,2)\n",
    "pag.click()\n",
    "pag.moveTo(1150,120,1)\n",
    "pag.click()\n",
    "pag.moveTo(1000,162,1)\n",
    "pag.click()\n",
    "pag.write(\"downloads\")\n",
    "pag.press('enter')\n",
    "pag.moveTo(1000,162,4)\n",
    "pag.write(\"mmm.mp4\")\n",
    "pag.press(\"enter\")\n",
    "time.sleep(2)\n",
    "#pag.moveTo(1200,0)\n",
    "#pag.click()\n",
    "#pag.moveto(1346,16)\n",
    "#pag.click()\n",
    "pag.hotkey('alt','f4')\n",
    "pag.moveTo(121,751)\n",
    "pag.click()\n",
    "pag.write(\"google chrome\")\n",
    "pag.moveTo(171,190,2)\n",
    "pag.click()"
   ]
  }
 ],
 "metadata": {
  "kernelspec": {
   "display_name": "Python 3",
   "language": "python",
   "name": "python3"
  },
  "language_info": {
   "codemirror_mode": {
    "name": "ipython",
    "version": 3
   },
   "file_extension": ".py",
   "mimetype": "text/x-python",
   "name": "python",
   "nbconvert_exporter": "python",
   "pygments_lexer": "ipython3",
   "version": "3.7.3"
  }
 },
 "nbformat": 4,
 "nbformat_minor": 2
}
