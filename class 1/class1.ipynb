{
 "cells": [
  {
   "cell_type": "markdown",
   "metadata": {},
   "source": [
    "print(\"pakistan zindabad\")\n",
    "print(\"i am pakistani\")"
   ]
  },
  {
   "cell_type": "code",
   "execution_count": 10,
   "metadata": {},
   "outputs": [
    {
     "name": "stdout",
     "output_type": "stream",
     "text": [
      "nowshera\n",
      "japan pakistan\n",
      "japan pakistan bahria\n"
     ]
    }
   ],
   "source": [
    "print(\"nowshera\")\n",
    "print(\"japan pakistan\")\n",
    "print(\"japan pakistan bahria\")"
   ]
  },
  {
   "cell_type": "code",
   "execution_count": null,
   "metadata": {},
   "outputs": [],
   "source": []
  },
  {
   "cell_type": "code",
   "execution_count": 4,
   "metadata": {},
   "outputs": [
    {
     "name": "stdout",
     "output_type": "stream",
     "text": [
      "japan\n"
     ]
    }
   ],
   "source": [
    "print(\"japan\")"
   ]
  },
  {
   "cell_type": "code",
   "execution_count": 9,
   "metadata": {},
   "outputs": [
    {
     "name": "stdout",
     "output_type": "stream",
     "text": [
      "japan pakistan\n"
     ]
    }
   ],
   "source": [
    "print(\"japan pakistan\")"
   ]
  },
  {
   "cell_type": "code",
   "execution_count": 7,
   "metadata": {},
   "outputs": [
    {
     "name": "stdout",
     "output_type": "stream",
     "text": [
      "japan pakistan\n"
     ]
    }
   ],
   "source": [
    "print(\"japan pakistan\")"
   ]
  },
  {
   "cell_type": "markdown",
   "metadata": {},
   "source": [
    "# bahria university\n",
    "- 12:15 to 03:15"
   ]
  },
  {
   "cell_type": "raw",
   "metadata": {},
   "source": [
    "function addition(a,b){\n",
    "    return a+b\n",
    "}"
   ]
  },
  {
   "cell_type": "code",
   "execution_count": null,
   "metadata": {},
   "outputs": [],
   "source": [
    "# Bahria University"
   ]
  },
  {
   "cell_type": "code",
   "execution_count": 5,
   "metadata": {},
   "outputs": [
    {
     "name": "stdout",
     "output_type": "stream",
     "text": [
      " input your name ali\n",
      " Input Your Father namejamshaid\n",
      " Input your uni nust\n",
      " Input your marks 23\n",
      " Input your marks 32\n",
      " Input your marks 33\n",
      " Input your marks 23\n",
      " Input your marks 23\n",
      "\n",
      "PIAIC ISLAMABAD BATCH3\n",
      "NAME:ali\n",
      "FATHER NAME : jamshaid\n",
      "UNIVERSITY : nust\n",
      "sdss:23\n",
      "programming:32\n",
      "rs:33\n",
      "gis:23\n",
      "water:23\n",
      "x:(134, 'total marks')\n",
      "percentage:(26.8, '%')\n",
      "\n"
     ]
    }
   ],
   "source": [
    "Name=input (\" input your name \")\n",
    "Father_name=input (\" Input Your Father name\")\n",
    "university=input (\" Input your uni \")\n",
    "sdss=int(input (\" Input your marks \"))\n",
    "programming =int(input (\" Input your marks \"))\n",
    "rs =int(input (\" Input your marks \"))\n",
    "gis =int(input (\" Input your marks \"))\n",
    "water =int(input (\" Input your marks \"))\n",
    "x=sdss+programming+rs+gis+water\n",
    "total_marks=(x,\"total marks\")\n",
    "p=(x/500*100)\n",
    "percentage=(p,\"%\")\n",
    "message = \"\"\"\n",
    "PIAIC ISLAMABAD BATCH3\n",
    "NAME:{}\n",
    "FATHER NAME : {}\n",
    "UNIVERSITY : {}\n",
    "sdss:{}\n",
    "programming:{}\n",
    "rs:{}\n",
    "gis:{}\n",
    "water:{}\n",
    "x:{}\n",
    "percentage:{}\n",
    "\"\"\"\n",
    "message1=message.format(Name,Father_name,university,sdss,programming,rs,gis,water,total_marks,percentage)\n",
    "print(message1)\n"
   ]
  },
  {
   "cell_type": "markdown",
   "metadata": {},
   "source": []
  }
 ],
 "metadata": {
  "kernelspec": {
   "display_name": "Python 3",
   "language": "python",
   "name": "python3"
  },
  "language_info": {
   "codemirror_mode": {
    "name": "ipython",
    "version": 3
   },
   "file_extension": ".py",
   "mimetype": "text/x-python",
   "name": "python",
   "nbconvert_exporter": "python",
   "pygments_lexer": "ipython3",
   "version": "3.7.4"
  }
 },
 "nbformat": 4,
 "nbformat_minor": 2
}
