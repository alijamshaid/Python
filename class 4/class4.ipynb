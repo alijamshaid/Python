{
 "cells": [
  {
   "cell_type": "code",
   "execution_count": 2,
   "metadata": {},
   "outputs": [
    {
     "name": "stdout",
     "output_type": "stream",
     "text": [
      "hamza\n",
      "43\n"
     ]
    }
   ],
   "source": [
    "# 1 2 3 4 5 \n",
    "names =[\"ali\",26,\"hamza\",26,\"umair\",29,\"juanid\",29,\"waheed\",33,\"burhan\",25,\"irfan\",43]\n",
    "# -5 -4 -3 -2 -1\n",
    "print (names[2])\n",
    "print(names[-1])"
   ]
  },
  {
   "cell_type": "code",
   "execution_count": 5,
   "metadata": {},
   "outputs": [
    {
     "data": {
      "text/plain": [
       "['__add__',\n",
       " '__class__',\n",
       " '__contains__',\n",
       " '__delattr__',\n",
       " '__delitem__',\n",
       " '__dir__',\n",
       " '__doc__',\n",
       " '__eq__',\n",
       " '__format__',\n",
       " '__ge__',\n",
       " '__getattribute__',\n",
       " '__getitem__',\n",
       " '__gt__',\n",
       " '__hash__',\n",
       " '__iadd__',\n",
       " '__imul__',\n",
       " '__init__',\n",
       " '__init_subclass__',\n",
       " '__iter__',\n",
       " '__le__',\n",
       " '__len__',\n",
       " '__lt__',\n",
       " '__mul__',\n",
       " '__ne__',\n",
       " '__new__',\n",
       " '__reduce__',\n",
       " '__reduce_ex__',\n",
       " '__repr__',\n",
       " '__reversed__',\n",
       " '__rmul__',\n",
       " '__setattr__',\n",
       " '__setitem__',\n",
       " '__sizeof__',\n",
       " '__str__',\n",
       " '__subclasshook__',\n",
       " 'append',\n",
       " 'clear',\n",
       " 'copy',\n",
       " 'count',\n",
       " 'extend',\n",
       " 'index',\n",
       " 'insert',\n",
       " 'pop',\n",
       " 'remove',\n",
       " 'reverse',\n",
       " 'sort']"
      ]
     },
     "execution_count": 5,
     "metadata": {},
     "output_type": "execute_result"
    }
   ],
   "source": [
    "dir (list)"
   ]
  },
  {
   "cell_type": "code",
   "execution_count": 6,
   "metadata": {},
   "outputs": [
    {
     "data": {
      "text/plain": [
       "46"
      ]
     },
     "execution_count": 6,
     "metadata": {},
     "output_type": "execute_result"
    }
   ],
   "source": [
    "len(dir(list))"
   ]
  },
  {
   "cell_type": "code",
   "execution_count": 18,
   "metadata": {},
   "outputs": [
    {
     "data": {
      "text/plain": [
       "['a', 'b', 'c']"
      ]
     },
     "execution_count": 18,
     "metadata": {},
     "output_type": "execute_result"
    }
   ],
   "source": [
    "#names =[\"ali\",26,\"hamza\",26,\"umair\",29,\"juanid\",29,\"waheed\",33,\"burhan\",25,\"irfan\",43]\n",
    "names = []\n",
    "names.append(\"a\")\n",
    "names.append(\"b\")\n",
    "names.append(\"c\")\n",
    "names"
   ]
  },
  {
   "cell_type": "code",
   "execution_count": 19,
   "metadata": {},
   "outputs": [
    {
     "name": "stdout",
     "output_type": "stream",
     "text": [
      "['ali', 26, 'hamza', 26, 'umair', 29, 'juanid', 29]\n",
      "[]\n"
     ]
    }
   ],
   "source": [
    "names =[\"ali\",26,\"hamza\",26,\"umair\",29,\"juanid\",29]\n",
    "print(names)\n",
    "names.clear() ##perform in memory operations because it remove the real data so be carefull clear is not in line operation\n",
    "print(names)"
   ]
  },
  {
   "cell_type": "code",
   "execution_count": 3,
   "metadata": {},
   "outputs": [
    {
     "name": "stdout",
     "output_type": "stream",
     "text": [
      "names ['ali', 26, 'hamza', 26, 'umair', 29, 'juanid', 29]\n",
      "names ['ali', 26, 'hamza', 26, 'umair', 29, 'juanid', 29]\n",
      "names ['pakistan', 26, 'hamza', 26, 'umair', 29, 'juanid', 29]\n",
      "names ['pakistan', 26, 'hamza', 26, 'umair', 29, 'juanid', 29]\n"
     ]
    }
   ],
   "source": [
    "names =[\"ali\",26,\"hamza\",26,\"umair\",29,\"juanid\",29]\n",
    "names1=names.copy()#deep copy\n",
    "names1=names# shaloow copy because its adrees is differnt but the real data is same\n",
    "print (\"names\",names)\n",
    "print(\"names\",names1)\n",
    "names[0] = \"pakistan\" # shaloow data because its adrees is differnt but the real data is same\n",
    "print (\"names\",names)\n",
    "print(\"names\",names1)"
   ]
  },
  {
   "cell_type": "code",
   "execution_count": 33,
   "metadata": {},
   "outputs": [
    {
     "name": "stdout",
     "output_type": "stream",
     "text": [
      "2\n"
     ]
    }
   ],
   "source": [
    "names =[\"ali\",26,\"hamza\",26,\"umair\",29,\"juanid\",29]\n",
    "print(names.count(26))"
   ]
  },
  {
   "cell_type": "code",
   "execution_count": 36,
   "metadata": {},
   "outputs": [
    {
     "name": "stdout",
     "output_type": "stream",
     "text": [
      "[1, 2, 3, 4, 5, 6]\n",
      "[1, 2, 3, 4, 5, 6]\n",
      "[1, 2, 3]\n",
      "[4, 5, 6]\n"
     ]
    }
   ],
   "source": [
    "l1=[1,2,3]\n",
    "l2=[4,5,6]\n",
    "print(l1+l2) #inline operations\n",
    "print(l1.__add__(l2))\n",
    "print (l1)\n",
    "print (l2)"
   ]
  },
  {
   "cell_type": "code",
   "execution_count": 37,
   "metadata": {},
   "outputs": [
    {
     "name": "stdout",
     "output_type": "stream",
     "text": [
      "[1, 2, 3, 4, 5, 6]\n",
      "[4, 5, 6]\n"
     ]
    }
   ],
   "source": [
    "l1=[1,2,3]\n",
    "l2=[4,5,6]\n",
    "l1.extend(l2)#in memory operations only changes l1 becoz it extended\n",
    "print (l1)\n",
    "print (l2)"
   ]
  },
  {
   "cell_type": "code",
   "execution_count": 16,
   "metadata": {},
   "outputs": [
    {
     "name": "stdout",
     "output_type": "stream",
     "text": [
      "1\n",
      "0\n",
      "6\n",
      "1\n"
     ]
    }
   ],
   "source": [
    "l1=[\"a\",\"b\",\"c\",\"d\",\"e\",'a','f','d']\n",
    "print(l1.index('b'))\n",
    "print(l1.index('a'))\n",
    "print(l1.index('f', 5))\n",
    "print(l1.index('b',1))"
   ]
  },
  {
   "cell_type": "code",
   "execution_count": 49,
   "metadata": {},
   "outputs": [
    {
     "name": "stdout",
     "output_type": "stream",
     "text": [
      "['n', 'o', 'z', 'a', 'b', 'c', 'd', 'e']\n"
     ]
    }
   ],
   "source": [
    "l1=[\"a\",\"b\",\"c\",\"d\",\"e\"]\n",
    "l1.insert(0,\"z\")\n",
    "l1.insert(0,\"o\")\n",
    "l1.insert(0,\"n\")\n",
    "print(l1)\n"
   ]
  },
  {
   "cell_type": "code",
   "execution_count": 51,
   "metadata": {},
   "outputs": [
    {
     "name": "stdout",
     "output_type": "stream",
     "text": [
      "['a', 'b', 'c']\n"
     ]
    }
   ],
   "source": [
    "l1=[\"a\",\"b\",\"c\",\"d\",\"e\"]\n",
    "del l1[-1]\n",
    "del l1[-1]\n",
    "print(l1)"
   ]
  },
  {
   "cell_type": "code",
   "execution_count": 85,
   "metadata": {},
   "outputs": [
    {
     "name": "stdout",
     "output_type": "stream",
     "text": [
      "['a', 'b']\n",
      "['e', 'd', 'c']\n"
     ]
    }
   ],
   "source": [
    "l1=[]\n",
    "names=[\"a\",\"b\",\"c\",\"d\",\"e\"]\n",
    "a=names.pop()\n",
    "l1.append(a)#return \n",
    "a=names.pop()\n",
    "l1.append(a)#return\n",
    "a=names.pop()\n",
    "l1.append(a)#return\n",
    "print(names)\n",
    "print(l1)"
   ]
  },
  {
   "cell_type": "code",
   "execution_count": 86,
   "metadata": {},
   "outputs": [
    {
     "name": "stdout",
     "output_type": "stream",
     "text": [
      "5\n"
     ]
    }
   ],
   "source": [
    "l1=[1,2,3,4,5]\n",
    "a=l1.pop()\n",
    "print(a)"
   ]
  },
  {
   "cell_type": "code",
   "execution_count": 87,
   "metadata": {},
   "outputs": [
    {
     "name": "stdout",
     "output_type": "stream",
     "text": [
      "ali\n",
      "None\n"
     ]
    }
   ],
   "source": [
    "a=print(\"ali\")\n",
    "print(a)#print is not the return function therefore cant be used "
   ]
  },
  {
   "cell_type": "code",
   "execution_count": 88,
   "metadata": {},
   "outputs": [
    {
     "name": "stdout",
     "output_type": "stream",
     "text": [
      "c\n"
     ]
    }
   ],
   "source": [
    "l1=['a','b','c','d','e']\n",
    "a=l1.pop(2)\n",
    "print(a)"
   ]
  },
  {
   "cell_type": "code",
   "execution_count": 89,
   "metadata": {},
   "outputs": [
    {
     "name": "stdout",
     "output_type": "stream",
     "text": [
      "b\n",
      "['a', 'c', 'd', 'e']\n"
     ]
    }
   ],
   "source": [
    "l1=['a','b','c','d','e']\n",
    "a=l1.pop(l1.index(\"b\"))\n",
    "print(a)\n",
    "print(l1)"
   ]
  },
  {
   "cell_type": "code",
   "execution_count": 91,
   "metadata": {},
   "outputs": [
    {
     "name": "stdout",
     "output_type": "stream",
     "text": [
      "None\n",
      "['a', 'c', 'd', 'e']\n"
     ]
    }
   ],
   "source": [
    "l1=['a','b','c','d','e']\n",
    "a=l1.remove('b')# non return function\n",
    "print(a)\n",
    "print(l1)"
   ]
  },
  {
   "cell_type": "code",
   "execution_count": 92,
   "metadata": {},
   "outputs": [
    {
     "name": "stdout",
     "output_type": "stream",
     "text": [
      "['a', 'b', 'c', 'd', 'e']\n",
      "['e', 'd', 'c', 'b', 'a']\n"
     ]
    }
   ],
   "source": [
    "l1=['a','b','c','d','e']\n",
    "print(l1)\n",
    "l1.reverse()\n",
    "print(l1)#inmemory function becoz it update real data"
   ]
  },
  {
   "cell_type": "code",
   "execution_count": 94,
   "metadata": {},
   "outputs": [
    {
     "name": "stdout",
     "output_type": "stream",
     "text": [
      "['a', 'd', 'c', 'e', 'b']\n",
      "['a', 'b', 'c', 'd', 'e']\n"
     ]
    }
   ],
   "source": [
    "l1=['a','d','c','e','b']\n",
    "print(l1)\n",
    "l1.sort()\n",
    "print(l1)"
   ]
  },
  {
   "cell_type": "code",
   "execution_count": 96,
   "metadata": {},
   "outputs": [
    {
     "name": "stdout",
     "output_type": "stream",
     "text": [
      "['a', 'd', 'c', 'e', 'b']\n",
      "['e', 'd', 'c', 'b', 'a']\n"
     ]
    }
   ],
   "source": [
    "l1=['a','d','c','e','b']\n",
    "print(l1)\n",
    "l1.sort(reverse=True)\n",
    "print(l1)"
   ]
  },
  {
   "cell_type": "code",
   "execution_count": 101,
   "metadata": {},
   "outputs": [
    {
     "name": "stdout",
     "output_type": "stream",
     "text": [
      "['a', 'b', 'c', 'd', 'e']\n",
      "[]\n"
     ]
    }
   ],
   "source": [
    "e=['a','b','c','d']\n",
    "e.append('e')\n",
    "print(e)\n",
    "e.clear()\n",
    "print(e)"
   ]
  },
  {
   "cell_type": "code",
   "execution_count": 106,
   "metadata": {},
   "outputs": [
    {
     "name": "stdout",
     "output_type": "stream",
     "text": [
      "['a', 'b', 'c', 'd']\n",
      "1\n",
      "['a', 'b', 'c', 'd', 'g', 'h']\n",
      "['g', 'h']\n"
     ]
    }
   ],
   "source": [
    "e=['a','b','c','d']\n",
    "f=['g','h']\n",
    "#e.copy(f)\n",
    "print(e)\n",
    "print(e.count('a'))\n",
    "e.extend(f)\n",
    "print(e)\n",
    "print(f)"
   ]
  },
  {
   "cell_type": "code",
   "execution_count": 112,
   "metadata": {},
   "outputs": [
    {
     "name": "stdout",
     "output_type": "stream",
     "text": [
      "0\n"
     ]
    }
   ],
   "source": [
    "e=['a','b','c','d']\n",
    "print(e.index('a'))"
   ]
  },
  {
   "cell_type": "code",
   "execution_count": 114,
   "metadata": {},
   "outputs": [
    {
     "data": {
      "text/plain": [
       "['a', 'b', 'c', 'd', 1, 4, 6]"
      ]
     },
     "execution_count": 114,
     "metadata": {},
     "output_type": "execute_result"
    }
   ],
   "source": [
    "e=['a','b','c','d']\n",
    "e.__add__([1,4,6])\n"
   ]
  },
  {
   "cell_type": "code",
   "execution_count": 115,
   "metadata": {},
   "outputs": [
    {
     "data": {
      "text/plain": [
       "list"
      ]
     },
     "execution_count": 115,
     "metadata": {},
     "output_type": "execute_result"
    }
   ],
   "source": [
    "e=['a','b','c','d']\n",
    "e.__class__"
   ]
  },
  {
   "cell_type": "code",
   "execution_count": 119,
   "metadata": {},
   "outputs": [
    {
     "data": {
      "text/plain": [
       "True"
      ]
     },
     "execution_count": 119,
     "metadata": {},
     "output_type": "execute_result"
    }
   ],
   "source": [
    "e=['a','b','c','d']\n",
    "'c' in e"
   ]
  },
  {
   "cell_type": "code",
   "execution_count": 120,
   "metadata": {},
   "outputs": [
    {
     "name": "stdout",
     "output_type": "stream",
     "text": [
      "['a', 'c', 'd']\n"
     ]
    }
   ],
   "source": [
    "e=['a','b','c','d']\n",
    "e.__delitem__(1)\n",
    "print(e)"
   ]
  },
  {
   "cell_type": "code",
   "execution_count": 121,
   "metadata": {},
   "outputs": [
    {
     "data": {
      "text/plain": [
       "'Built-in mutable sequence.\\n\\nIf no argument is given, the constructor creates a new empty list.\\nThe argument must be an iterable if specified.'"
      ]
     },
     "execution_count": 121,
     "metadata": {},
     "output_type": "execute_result"
    }
   ],
   "source": [
    "e=['a','b','c','d']\n",
    "e.__doc__"
   ]
  },
  {
   "cell_type": "code",
   "execution_count": 129,
   "metadata": {},
   "outputs": [
    {
     "name": "stdout",
     "output_type": "stream",
     "text": [
      "False\n",
      "True\n",
      "True\n",
      "3\n"
     ]
    }
   ],
   "source": [
    "l1=[5,8,9]\n",
    "l2=[3,2,1]\n",
    "l3=[7,8,9]\n",
    "l4=[5,8,9]\n",
    "print(l1.__eq__(l2))\n",
    "print(l1.__ge__(l2))\n",
    "print(l1.__eq__(l4))\n",
    "print(l1.__len__())"
   ]
  },
  {
   "cell_type": "code",
   "execution_count": 126,
   "metadata": {},
   "outputs": [
    {
     "name": "stdout",
     "output_type": "stream",
     "text": [
      "Help on class list in module builtins:\n",
      "\n",
      "class list(object)\n",
      " |  list(iterable=(), /)\n",
      " |  \n",
      " |  Built-in mutable sequence.\n",
      " |  \n",
      " |  If no argument is given, the constructor creates a new empty list.\n",
      " |  The argument must be an iterable if specified.\n",
      " |  \n",
      " |  Methods defined here:\n",
      " |  \n",
      " |  __add__(self, value, /)\n",
      " |      Return self+value.\n",
      " |  \n",
      " |  __contains__(self, key, /)\n",
      " |      Return key in self.\n",
      " |  \n",
      " |  __delitem__(self, key, /)\n",
      " |      Delete self[key].\n",
      " |  \n",
      " |  __eq__(self, value, /)\n",
      " |      Return self==value.\n",
      " |  \n",
      " |  __ge__(self, value, /)\n",
      " |      Return self>=value.\n",
      " |  \n",
      " |  __getattribute__(self, name, /)\n",
      " |      Return getattr(self, name).\n",
      " |  \n",
      " |  __getitem__(...)\n",
      " |      x.__getitem__(y) <==> x[y]\n",
      " |  \n",
      " |  __gt__(self, value, /)\n",
      " |      Return self>value.\n",
      " |  \n",
      " |  __iadd__(self, value, /)\n",
      " |      Implement self+=value.\n",
      " |  \n",
      " |  __imul__(self, value, /)\n",
      " |      Implement self*=value.\n",
      " |  \n",
      " |  __init__(self, /, *args, **kwargs)\n",
      " |      Initialize self.  See help(type(self)) for accurate signature.\n",
      " |  \n",
      " |  __iter__(self, /)\n",
      " |      Implement iter(self).\n",
      " |  \n",
      " |  __le__(self, value, /)\n",
      " |      Return self<=value.\n",
      " |  \n",
      " |  __len__(self, /)\n",
      " |      Return len(self).\n",
      " |  \n",
      " |  __lt__(self, value, /)\n",
      " |      Return self<value.\n",
      " |  \n",
      " |  __mul__(self, value, /)\n",
      " |      Return self*value.\n",
      " |  \n",
      " |  __ne__(self, value, /)\n",
      " |      Return self!=value.\n",
      " |  \n",
      " |  __repr__(self, /)\n",
      " |      Return repr(self).\n",
      " |  \n",
      " |  __reversed__(self, /)\n",
      " |      Return a reverse iterator over the list.\n",
      " |  \n",
      " |  __rmul__(self, value, /)\n",
      " |      Return value*self.\n",
      " |  \n",
      " |  __setitem__(self, key, value, /)\n",
      " |      Set self[key] to value.\n",
      " |  \n",
      " |  __sizeof__(self, /)\n",
      " |      Return the size of the list in memory, in bytes.\n",
      " |  \n",
      " |  append(self, object, /)\n",
      " |      Append object to the end of the list.\n",
      " |  \n",
      " |  clear(self, /)\n",
      " |      Remove all items from list.\n",
      " |  \n",
      " |  copy(self, /)\n",
      " |      Return a shallow copy of the list.\n",
      " |  \n",
      " |  count(self, value, /)\n",
      " |      Return number of occurrences of value.\n",
      " |  \n",
      " |  extend(self, iterable, /)\n",
      " |      Extend list by appending elements from the iterable.\n",
      " |  \n",
      " |  index(self, value, start=0, stop=9223372036854775807, /)\n",
      " |      Return first index of value.\n",
      " |      \n",
      " |      Raises ValueError if the value is not present.\n",
      " |  \n",
      " |  insert(self, index, object, /)\n",
      " |      Insert object before index.\n",
      " |  \n",
      " |  pop(self, index=-1, /)\n",
      " |      Remove and return item at index (default last).\n",
      " |      \n",
      " |      Raises IndexError if list is empty or index is out of range.\n",
      " |  \n",
      " |  remove(self, value, /)\n",
      " |      Remove first occurrence of value.\n",
      " |      \n",
      " |      Raises ValueError if the value is not present.\n",
      " |  \n",
      " |  reverse(self, /)\n",
      " |      Reverse *IN PLACE*.\n",
      " |  \n",
      " |  sort(self, /, *, key=None, reverse=False)\n",
      " |      Stable sort *IN PLACE*.\n",
      " |  \n",
      " |  ----------------------------------------------------------------------\n",
      " |  Static methods defined here:\n",
      " |  \n",
      " |  __new__(*args, **kwargs) from builtins.type\n",
      " |      Create and return a new object.  See help(type) for accurate signature.\n",
      " |  \n",
      " |  ----------------------------------------------------------------------\n",
      " |  Data and other attributes defined here:\n",
      " |  \n",
      " |  __hash__ = None\n",
      "\n"
     ]
    }
   ],
   "source": [
    "help(list)"
   ]
  },
  {
   "cell_type": "markdown",
   "metadata": {},
   "source": [
    "# Tuple"
   ]
  },
  {
   "cell_type": "code",
   "execution_count": null,
   "metadata": {},
   "outputs": [],
   "source": [
    "l1=(\"a\",\"b\",\"c\")\n",
    "print(l1)"
   ]
  },
  {
   "cell_type": "markdown",
   "metadata": {},
   "source": [
    "# Loop(while,for)"
   ]
  },
  {
   "cell_type": "code",
   "execution_count": null,
   "metadata": {},
   "outputs": [],
   "source": [
    "#counter\n",
    "#logic\n",
    "#increment / decrementc"
   ]
  },
  {
   "cell_type": "code",
   "execution_count": 131,
   "metadata": {},
   "outputs": [
    {
     "name": "stdout",
     "output_type": "stream",
     "text": [
      "ali 1\n",
      "ali 2\n",
      "ali 3\n",
      "ali 4\n",
      "ali 5\n",
      "ali 6\n",
      "ali 7\n",
      "ali 8\n",
      "ali 9\n",
      "ali 10\n"
     ]
    }
   ],
   "source": [
    "counter =1\n",
    "while counter <=10:\n",
    "    print (\"ali\",counter)\n",
    "    counter +=1"
   ]
  },
  {
   "cell_type": "code",
   "execution_count": 10,
   "metadata": {},
   "outputs": [
    {
     "name": "stdout",
     "output_type": "stream",
     "text": [
      "enter your number5\n",
      "1 X 1 = 1\n",
      "1 X 2 = 2\n",
      "1 X 3 = 3\n",
      "1 X 4 = 4\n",
      "1 X 5 = 5\n",
      "1 X 6 = 6\n",
      "1 X 7 = 7\n",
      "1 X 8 = 8\n",
      "1 X 9 = 9\n",
      "1 X 10 = 10\n",
      "2 X 1 = 2\n",
      "2 X 2 = 4\n",
      "2 X 3 = 6\n",
      "2 X 4 = 8\n",
      "2 X 5 = 10\n",
      "2 X 6 = 12\n",
      "2 X 7 = 14\n",
      "2 X 8 = 16\n",
      "2 X 9 = 18\n",
      "2 X 10 = 20\n",
      "3 X 1 = 3\n",
      "3 X 2 = 6\n",
      "3 X 3 = 9\n",
      "3 X 4 = 12\n",
      "3 X 5 = 15\n",
      "3 X 6 = 18\n",
      "3 X 7 = 21\n",
      "3 X 8 = 24\n",
      "3 X 9 = 27\n",
      "3 X 10 = 30\n",
      "4 X 1 = 4\n",
      "4 X 2 = 8\n",
      "4 X 3 = 12\n",
      "4 X 4 = 16\n",
      "4 X 5 = 20\n",
      "4 X 6 = 24\n",
      "4 X 7 = 28\n",
      "4 X 8 = 32\n",
      "4 X 9 = 36\n",
      "4 X 10 = 40\n",
      "5 X 1 = 5\n",
      "5 X 2 = 10\n",
      "5 X 3 = 15\n",
      "5 X 4 = 20\n",
      "5 X 5 = 25\n",
      "5 X 6 = 30\n",
      "5 X 7 = 35\n",
      "5 X 8 = 40\n",
      "5 X 9 = 45\n",
      "5 X 10 = 50\n"
     ]
    }
   ],
   "source": [
    "x=int(input(\"enter your number\"))\n",
    "for t in range(1,x+1):\n",
    "    for n in range(1,11):\n",
    "        print (f'{t} X {n} = {t*n}')"
   ]
  },
  {
   "cell_type": "code",
   "execution_count": 13,
   "metadata": {},
   "outputs": [
    {
     "name": "stdout",
     "output_type": "stream",
     "text": [
      "enter number5\n",
      "1x1=1\t2x1=2\t3x1=3\t4x1=4\t1x2=2\t2x2=4\t3x2=6\t4x2=8\t1x3=3\t2x3=6\t3x3=9\t4x3=12\t1x4=4\t2x4=8\t3x4=12\t4x4=16\t1x5=5\t2x5=10\t3x5=15\t4x5=20\t1x6=6\t2x6=12\t3x6=18\t4x6=24\t1x7=7\t2x7=14\t3x7=21\t4x7=28\t1x8=8\t2x8=16\t3x8=24\t4x8=32\t1x9=9\t2x9=18\t3x9=27\t4x9=36\t1x10=10\t2x10=20\t3x10=30\t4x10=40\t"
     ]
    }
   ],
   "source": [
    "user=int(input(\"enter number\"))\n",
    "for r in range(1,11):\n",
    "    for t in range(1,user):\n",
    "        print(f'{t}x{r}={r*t}',end='\\t')"
   ]
  },
  {
   "cell_type": "code",
   "execution_count": 1,
   "metadata": {},
   "outputs": [
    {
     "name": "stdout",
     "output_type": "stream",
     "text": [
      "enter number4\n",
      "1x1=1\t2x1=2\t3x1=3\t1x2=2\t2x2=4\t3x2=6\t1x3=3\t2x3=6\t3x3=9\t1x4=4\t2x4=8\t3x4=12\t"
     ]
    }
   ],
   "source": [
    "user=int(input(\"enter number\"))\n",
    "for r in range(1,5):\n",
    "    for t in range(1,user):\n",
    "        print(f'{t}x{r}={r*t}',end='\\t')"
   ]
  },
  {
   "cell_type": "code",
   "execution_count": 24,
   "metadata": {},
   "outputs": [
    {
     "name": "stdout",
     "output_type": "stream",
     "text": [
      "enter number for the table : 33\n",
      "1 * 1 = 1\t1 * 2 = 2\t1 * 3 = 3\t1 * 4 = 4\t1 * 5 = 5\t1 * 6 = 6\t1 * 7 = 7\t1 * 8 = 8\t1 * 9 = 9\t1 * 10 = 10\t\n",
      "2 * 1 = 2\t2 * 2 = 4\t2 * 3 = 6\t2 * 4 = 8\t2 * 5 = 10\t2 * 6 = 12\t2 * 7 = 14\t2 * 8 = 16\t2 * 9 = 18\t2 * 10 = 20\t\n",
      "3 * 1 = 3\t3 * 2 = 6\t3 * 3 = 9\t3 * 4 = 12\t3 * 5 = 15\t3 * 6 = 18\t3 * 7 = 21\t3 * 8 = 24\t3 * 9 = 27\t3 * 10 = 30\t\n",
      "4 * 1 = 4\t4 * 2 = 8\t4 * 3 = 12\t4 * 4 = 16\t4 * 5 = 20\t4 * 6 = 24\t4 * 7 = 28\t4 * 8 = 32\t4 * 9 = 36\t4 * 10 = 40\t\n",
      "5 * 1 = 5\t5 * 2 = 10\t5 * 3 = 15\t5 * 4 = 20\t5 * 5 = 25\t5 * 6 = 30\t5 * 7 = 35\t5 * 8 = 40\t5 * 9 = 45\t5 * 10 = 50\t\n",
      "6 * 1 = 6\t6 * 2 = 12\t6 * 3 = 18\t6 * 4 = 24\t6 * 5 = 30\t6 * 6 = 36\t6 * 7 = 42\t6 * 8 = 48\t6 * 9 = 54\t6 * 10 = 60\t\n",
      "7 * 1 = 7\t7 * 2 = 14\t7 * 3 = 21\t7 * 4 = 28\t7 * 5 = 35\t7 * 6 = 42\t7 * 7 = 49\t7 * 8 = 56\t7 * 9 = 63\t7 * 10 = 70\t\n",
      "8 * 1 = 8\t8 * 2 = 16\t8 * 3 = 24\t8 * 4 = 32\t8 * 5 = 40\t8 * 6 = 48\t8 * 7 = 56\t8 * 8 = 64\t8 * 9 = 72\t8 * 10 = 80\t\n",
      "9 * 1 = 9\t9 * 2 = 18\t9 * 3 = 27\t9 * 4 = 36\t9 * 5 = 45\t9 * 6 = 54\t9 * 7 = 63\t9 * 8 = 72\t9 * 9 = 81\t9 * 10 = 90\t\n",
      "10 * 1 = 10\t10 * 2 = 20\t10 * 3 = 30\t10 * 4 = 40\t10 * 5 = 50\t10 * 6 = 60\t10 * 7 = 70\t10 * 8 = 80\t10 * 9 = 90\t10 * 10 = 100\t\n",
      "11 * 1 = 11\t11 * 2 = 22\t11 * 3 = 33\t11 * 4 = 44\t11 * 5 = 55\t11 * 6 = 66\t11 * 7 = 77\t11 * 8 = 88\t11 * 9 = 99\t11 * 10 = 110\t\n",
      "12 * 1 = 12\t12 * 2 = 24\t12 * 3 = 36\t12 * 4 = 48\t12 * 5 = 60\t12 * 6 = 72\t12 * 7 = 84\t12 * 8 = 96\t12 * 9 = 108\t12 * 10 = 120\t\n",
      "13 * 1 = 13\t13 * 2 = 26\t13 * 3 = 39\t13 * 4 = 52\t13 * 5 = 65\t13 * 6 = 78\t13 * 7 = 91\t13 * 8 = 104\t13 * 9 = 117\t13 * 10 = 130\t\n",
      "14 * 1 = 14\t14 * 2 = 28\t14 * 3 = 42\t14 * 4 = 56\t14 * 5 = 70\t14 * 6 = 84\t14 * 7 = 98\t14 * 8 = 112\t14 * 9 = 126\t14 * 10 = 140\t\n",
      "15 * 1 = 15\t15 * 2 = 30\t15 * 3 = 45\t15 * 4 = 60\t15 * 5 = 75\t15 * 6 = 90\t15 * 7 = 105\t15 * 8 = 120\t15 * 9 = 135\t15 * 10 = 150\t\n",
      "16 * 1 = 16\t16 * 2 = 32\t16 * 3 = 48\t16 * 4 = 64\t16 * 5 = 80\t16 * 6 = 96\t16 * 7 = 112\t16 * 8 = 128\t16 * 9 = 144\t16 * 10 = 160\t\n",
      "17 * 1 = 17\t17 * 2 = 34\t17 * 3 = 51\t17 * 4 = 68\t17 * 5 = 85\t17 * 6 = 102\t17 * 7 = 119\t17 * 8 = 136\t17 * 9 = 153\t17 * 10 = 170\t\n",
      "18 * 1 = 18\t18 * 2 = 36\t18 * 3 = 54\t18 * 4 = 72\t18 * 5 = 90\t18 * 6 = 108\t18 * 7 = 126\t18 * 8 = 144\t18 * 9 = 162\t18 * 10 = 180\t\n",
      "19 * 1 = 19\t19 * 2 = 38\t19 * 3 = 57\t19 * 4 = 76\t19 * 5 = 95\t19 * 6 = 114\t19 * 7 = 133\t19 * 8 = 152\t19 * 9 = 171\t19 * 10 = 190\t\n",
      "20 * 1 = 20\t20 * 2 = 40\t20 * 3 = 60\t20 * 4 = 80\t20 * 5 = 100\t20 * 6 = 120\t20 * 7 = 140\t20 * 8 = 160\t20 * 9 = 180\t20 * 10 = 200\t\n",
      "21 * 1 = 21\t21 * 2 = 42\t21 * 3 = 63\t21 * 4 = 84\t21 * 5 = 105\t21 * 6 = 126\t21 * 7 = 147\t21 * 8 = 168\t21 * 9 = 189\t21 * 10 = 210\t\n",
      "22 * 1 = 22\t22 * 2 = 44\t22 * 3 = 66\t22 * 4 = 88\t22 * 5 = 110\t22 * 6 = 132\t22 * 7 = 154\t22 * 8 = 176\t22 * 9 = 198\t22 * 10 = 220\t\n",
      "23 * 1 = 23\t23 * 2 = 46\t23 * 3 = 69\t23 * 4 = 92\t23 * 5 = 115\t23 * 6 = 138\t23 * 7 = 161\t23 * 8 = 184\t23 * 9 = 207\t23 * 10 = 230\t\n",
      "24 * 1 = 24\t24 * 2 = 48\t24 * 3 = 72\t24 * 4 = 96\t24 * 5 = 120\t24 * 6 = 144\t24 * 7 = 168\t24 * 8 = 192\t24 * 9 = 216\t24 * 10 = 240\t\n",
      "25 * 1 = 25\t25 * 2 = 50\t25 * 3 = 75\t25 * 4 = 100\t25 * 5 = 125\t25 * 6 = 150\t25 * 7 = 175\t25 * 8 = 200\t25 * 9 = 225\t25 * 10 = 250\t\n",
      "26 * 1 = 26\t26 * 2 = 52\t26 * 3 = 78\t26 * 4 = 104\t26 * 5 = 130\t26 * 6 = 156\t26 * 7 = 182\t26 * 8 = 208\t26 * 9 = 234\t26 * 10 = 260\t\n",
      "27 * 1 = 27\t27 * 2 = 54\t27 * 3 = 81\t27 * 4 = 108\t27 * 5 = 135\t27 * 6 = 162\t27 * 7 = 189\t27 * 8 = 216\t27 * 9 = 243\t27 * 10 = 270\t\n",
      "28 * 1 = 28\t28 * 2 = 56\t28 * 3 = 84\t28 * 4 = 112\t28 * 5 = 140\t28 * 6 = 168\t28 * 7 = 196\t28 * 8 = 224\t28 * 9 = 252\t28 * 10 = 280\t\n",
      "29 * 1 = 29\t29 * 2 = 58\t29 * 3 = 87\t29 * 4 = 116\t29 * 5 = 145\t29 * 6 = 174\t29 * 7 = 203\t29 * 8 = 232\t29 * 9 = 261\t29 * 10 = 290\t\n",
      "30 * 1 = 30\t30 * 2 = 60\t30 * 3 = 90\t30 * 4 = 120\t30 * 5 = 150\t30 * 6 = 180\t30 * 7 = 210\t30 * 8 = 240\t30 * 9 = 270\t30 * 10 = 300\t\n",
      "31 * 1 = 31\t31 * 2 = 62\t31 * 3 = 93\t31 * 4 = 124\t31 * 5 = 155\t31 * 6 = 186\t31 * 7 = 217\t31 * 8 = 248\t31 * 9 = 279\t31 * 10 = 310\t\n",
      "32 * 1 = 32\t32 * 2 = 64\t32 * 3 = 96\t32 * 4 = 128\t32 * 5 = 160\t32 * 6 = 192\t32 * 7 = 224\t32 * 8 = 256\t32 * 9 = 288\t32 * 10 = 320\t\n"
     ]
    }
   ],
   "source": [
    "table=int(input(\"enter number for the table : \"))\n",
    "for i in range(1,table):\n",
    "    for x in range(1,11):\n",
    "        print(i,\"*\",x,\"=\",i * x, end='\\t')\n",
    "    print ()"
   ]
  }
 ],
 "metadata": {
  "kernelspec": {
   "display_name": "Python 3",
   "language": "python",
   "name": "python3"
  },
  "language_info": {
   "codemirror_mode": {
    "name": "ipython",
    "version": 3
   },
   "file_extension": ".py",
   "mimetype": "text/x-python",
   "name": "python",
   "nbconvert_exporter": "python",
   "pygments_lexer": "ipython3",
   "version": "3.7.4"
  }
 },
 "nbformat": 4,
 "nbformat_minor": 2
}
