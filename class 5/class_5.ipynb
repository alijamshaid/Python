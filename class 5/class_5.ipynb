{
 "cells": [
  {
   "cell_type": "code",
   "execution_count": 5,
   "metadata": {},
   "outputs": [
    {
     "name": "stdout",
     "output_type": "stream",
     "text": [
      "data sciences\n",
      "{'name': 'muhammad ali', 'city': 'nowshera', 'dob': 'sep 1993', 'specility': 'data sciences'}\n"
     ]
    }
   ],
   "source": [
    "d1={\"name\":\"muhammad ali\",\"city\":\"nowshera\",\"dob\":\"sep 1993\",\"specility\":\"data sciences\"}\n",
    "print(d1[\"specility\"])\n",
    "print(d1)"
   ]
  },
  {
   "cell_type": "code",
   "execution_count": 7,
   "metadata": {},
   "outputs": [
    {
     "data": {
      "text/plain": [
       "{'name': 'muhammad ali', 'age': 26}"
      ]
     },
     "execution_count": 7,
     "metadata": {},
     "output_type": "execute_result"
    }
   ],
   "source": [
    "d2={}\n",
    "d2[\"name\"]=\"muhammad ali\"\n",
    "d2[\"age\"]=26\n",
    "d2"
   ]
  },
  {
   "cell_type": "code",
   "execution_count": 20,
   "metadata": {},
   "outputs": [
    {
     "name": "stdout",
     "output_type": "stream",
     "text": [
      "enter your name : muhammad ali\n",
      "enter your age : 26\n",
      "enter your university : nust\n",
      "enter your skills python,R,sql,hadoop,spark\n"
     ]
    },
    {
     "data": {
      "text/plain": [
       "['python', 'R', 'sql', 'hadoop', 'spark']"
      ]
     },
     "execution_count": 20,
     "metadata": {},
     "output_type": "execute_result"
    }
   ],
   "source": [
    "d3={}\n",
    "d3[\"name\"]=input(\"enter your name : \")\n",
    "d3[\"age\"]=int(input(\"enter your age : \"))\n",
    "d3[\"university\"]=input(\"enter your university : \")\n",
    "d3[\"skills\"]=input(\"enter your skills \").split(\",\")\n",
    "d3[\"skills\"]"
   ]
  },
  {
   "cell_type": "code",
   "execution_count": 21,
   "metadata": {},
   "outputs": [
    {
     "name": "stdout",
     "output_type": "stream",
     "text": [
      "sql\n"
     ]
    }
   ],
   "source": [
    "print(d3[\"skills\"][2])"
   ]
  },
  {
   "cell_type": "code",
   "execution_count": 22,
   "metadata": {},
   "outputs": [
    {
     "name": "stdout",
     "output_type": "stream",
     "text": [
      "{'name': 'muhammad ali', 'age': 26, 'university': 'nust', 'skills': ['python', 'R', 'sql', 'hadoop', 'spark']}\n",
      "{}\n"
     ]
    }
   ],
   "source": [
    "print(d3)\n",
    "d3.clear()\n",
    "print(d3)"
   ]
  },
  {
   "cell_type": "code",
   "execution_count": 2,
   "metadata": {},
   "outputs": [
    {
     "name": "stdout",
     "output_type": "stream",
     "text": [
      "enter name : muhammad ali\n",
      "enter age : 26\n",
      "enter uni : nust\n",
      "{'name': 'muhammad ali', 'age': 26, 'uni': 'nust'}\n"
     ]
    },
    {
     "ename": "NameError",
     "evalue": "name 'd4' is not defined",
     "output_type": "error",
     "traceback": [
      "\u001b[1;31m---------------------------------------------------------------------------\u001b[0m",
      "\u001b[1;31mNameError\u001b[0m                                 Traceback (most recent call last)",
      "\u001b[1;32m<ipython-input-2-6d57200612fd>\u001b[0m in \u001b[0;36m<module>\u001b[1;34m\u001b[0m\n\u001b[0;32m      5\u001b[0m \u001b[0mprint\u001b[0m\u001b[1;33m(\u001b[0m\u001b[0md4\u001b[0m\u001b[1;33m)\u001b[0m\u001b[1;33m\u001b[0m\u001b[1;33m\u001b[0m\u001b[0m\n\u001b[0;32m      6\u001b[0m \u001b[1;32mdel\u001b[0m\u001b[1;33m(\u001b[0m\u001b[0md4\u001b[0m\u001b[1;33m)\u001b[0m\u001b[1;33m\u001b[0m\u001b[1;33m\u001b[0m\u001b[0m\n\u001b[1;32m----> 7\u001b[1;33m \u001b[0mprint\u001b[0m\u001b[1;33m(\u001b[0m\u001b[0md4\u001b[0m\u001b[1;33m)\u001b[0m\u001b[1;33m\u001b[0m\u001b[1;33m\u001b[0m\u001b[0m\n\u001b[0m",
      "\u001b[1;31mNameError\u001b[0m: name 'd4' is not defined"
     ]
    }
   ],
   "source": [
    "d4={}\n",
    "d4[\"name\"]=input(\"enter name : \")\n",
    "d4[\"age\"]=int(input(\"enter age : \"))\n",
    "d4[\"uni\"]=input(\"enter uni : \" )\n",
    "print(d4)\n",
    "del(d4)\n",
    "print(d4)"
   ]
  },
  {
   "cell_type": "code",
   "execution_count": 6,
   "metadata": {},
   "outputs": [
    {
     "name": "stdout",
     "output_type": "stream",
     "text": [
      "{'name': 'islamabad', 'temp': 12, 'office': 'teradata'}\n",
      "{'name': 'nowshera', 'temp': 12, 'office': 'teradata'}\n",
      "{'name': 'islamabad', 'temp': 12, 'office': 'teradata'}\n"
     ]
    }
   ],
   "source": [
    "d5={\"name\":\"islamabad\",\"temp\":12,\"office\":\"teradata\"}\n",
    "d6=d5.copy()\n",
    "print(d5)\n",
    "d5[\"name\"]=\"nowshera\"\n",
    "print(d5)\n",
    "print(d6)"
   ]
  },
  {
   "cell_type": "code",
   "execution_count": 13,
   "metadata": {},
   "outputs": [
    {
     "data": {
      "text/plain": [
       "{'name': None, 'age': None, 'university': None, 'city': None, 'skills': None}"
      ]
     },
     "execution_count": 13,
     "metadata": {},
     "output_type": "execute_result"
    }
   ],
   "source": [
    "l1=[\"name\",\"age\",\"university\",\"city\",\"skills\"]\n",
    "dict.fromkeys(l1)"
   ]
  },
  {
   "cell_type": "code",
   "execution_count": 25,
   "metadata": {},
   "outputs": [
    {
     "name": "stdout",
     "output_type": "stream",
     "text": [
      "enter names to create a list : muhammad ali,nust,pakistan\n",
      "{'muhammad ali': None, 'nust': None, 'pakistan': None}\n"
     ]
    }
   ],
   "source": [
    "l2=input(\"enter names to create a list : \")\n",
    "l3=l2.split(\",\")\n",
    "d7={}\n",
    "for keys in l3:\n",
    "    d7[keys]=None\n",
    "print(d7)"
   ]
  },
  {
   "cell_type": "code",
   "execution_count": 46,
   "metadata": {},
   "outputs": [
    {
     "name": "stdout",
     "output_type": "stream",
     "text": [
      "enter keys : name,age\n",
      "enter values : ali,26\n",
      "{'name': 'age', 'ali': '26'}\n"
     ]
    }
   ],
   "source": [
    "l3=input(\"enter keys : \").split(\",\")\n",
    "l4=input(\"enter values : \").split(\",\")\n",
    "d8={}\n",
    "for x,y in l3,l4:\n",
    "    d8[x]=y\n",
    "print(d8)"
   ]
  },
  {
   "cell_type": "code",
   "execution_count": 51,
   "metadata": {},
   "outputs": [
    {
     "name": "stdout",
     "output_type": "stream",
     "text": [
      "enter keys : name,uni,city\n",
      "enter values : ali,nust,nowshera\n",
      "{'name': 'ali', 'uni': 'nust', 'city': 'nowshera'}\n"
     ]
    }
   ],
   "source": [
    "l5=input(\"enter keys : \").split(\",\")\n",
    "l6=input(\"enter values : \").split(\",\")\n",
    "d9={}\n",
    "for x in range(len(l5)):\n",
    "    d9[l5[x]]=l6[x]\n",
    "print(d9)"
   ]
  },
  {
   "cell_type": "code",
   "execution_count": 53,
   "metadata": {},
   "outputs": [
    {
     "name": "stdout",
     "output_type": "stream",
     "text": [
      "enter keys : name,age,uni\n",
      "enter values : ali,26,nust\n",
      "{'name': 'ali', 'age': '26', 'uni': 'nust'}\n"
     ]
    }
   ],
   "source": [
    "l7=input(\"enter keys : \").split(\",\")\n",
    "l8=input(\"enter values : \").split(\",\")\n",
    "d10={}\n",
    "for x,y in zip(l7,l8):\n",
    "    d10[x]=y\n",
    "print(d10)"
   ]
  },
  {
   "cell_type": "code",
   "execution_count": 65,
   "metadata": {},
   "outputs": [
    {
     "name": "stdout",
     "output_type": "stream",
     "text": [
      "enter keys : a,b,c,d\n",
      "enter values : 1,2,3,4\n",
      "{'a': '1', ',': ',', 'b': '2', 'c': '3', 'd': '4'}\n"
     ]
    }
   ],
   "source": [
    "l9=input(\"enter keys : \")\n",
    "l10=input(\"enter values : \")\n",
    "dd1={}\n",
    "i=0\n",
    "while i < (len(l9)):\n",
    "    dd1[l9[i]]=l10[i]\n",
    "    i +=1\n",
    "print(dd1)      "
   ]
  },
  {
   "cell_type": "code",
   "execution_count": 1,
   "metadata": {},
   "outputs": [
    {
     "name": "stdout",
     "output_type": "stream",
     "text": [
      "enter keys : a,b,c,d,e,f,g,h,i,j,k,l,m,n,o\n",
      "enter values : 1,2,3,4,5,6,7,8,9,10,11,12,13,14,15\n"
     ]
    },
    {
     "data": {
      "text/plain": [
       "{'a': '1',\n",
       " ',': '1',\n",
       " 'b': '2',\n",
       " 'c': '3',\n",
       " 'd': '4',\n",
       " 'e': '5',\n",
       " 'f': '6',\n",
       " 'g': '7',\n",
       " 'h': '8',\n",
       " 'i': '9',\n",
       " 'j': '1',\n",
       " 'k': ',',\n",
       " 'l': '1',\n",
       " 'm': '1',\n",
       " 'n': ',',\n",
       " 'o': '3'}"
      ]
     },
     "execution_count": 1,
     "metadata": {},
     "output_type": "execute_result"
    }
   ],
   "source": [
    "l9=input(\"enter keys : \")\n",
    "l10=input(\"enter values : \")\n",
    "{l9[x]:l10[x] for x in range(len(l9))}"
   ]
  },
  {
   "cell_type": "code",
   "execution_count": 5,
   "metadata": {},
   "outputs": [
    {
     "name": "stdout",
     "output_type": "stream",
     "text": [
      "enter keys : a,b,c\n",
      "enter values : 1,2,3\n"
     ]
    },
    {
     "data": {
      "text/plain": [
       "[('a', '1'), (',', ','), ('b', '2'), (',', ','), ('c', '3')]"
      ]
     },
     "execution_count": 5,
     "metadata": {},
     "output_type": "execute_result"
    }
   ],
   "source": [
    "l1=input(\"enter keys : \")\n",
    "l2=input(\"enter values : \")\n",
    "list(zip(l1,l2))"
   ]
  },
  {
   "cell_type": "code",
   "execution_count": 6,
   "metadata": {},
   "outputs": [
    {
     "name": "stdout",
     "output_type": "stream",
     "text": [
      "enter name : ali\n",
      "enter age : 26\n",
      "enter skills : python,R,SQL,hadoop,spqk\n"
     ]
    },
    {
     "data": {
      "text/plain": [
       "{'name': 'ali',\n",
       " 'age': '26',\n",
       " 'skills': ['python', 'R', 'SQL', 'hadoop', 'spqk']}"
      ]
     },
     "execution_count": 6,
     "metadata": {},
     "output_type": "execute_result"
    }
   ],
   "source": [
    "d1={}\n",
    "d1[\"name\"]=input(\"enter name : \")\n",
    "d1[\"age\"]=input(\"enter age : \")\n",
    "d1[\"skills\"]=input(\"enter skills : \").split(\",\")\n",
    "d1"
   ]
  },
  {
   "cell_type": "code",
   "execution_count": 22,
   "metadata": {},
   "outputs": [
    {
     "data": {
      "text/plain": [
       "[('A', 'z', '0'),\n",
       " ('B', 'y', '1'),\n",
       " ('C', 'x', '2'),\n",
       " ('D', 'w', '3'),\n",
       " ('E', 'v', '4'),\n",
       " ('F', 'u', '5'),\n",
       " ('G', 't', '6'),\n",
       " ('H', 's', '7'),\n",
       " ('I', 'r', '8'),\n",
       " ('J', 'q', '9')]"
      ]
     },
     "execution_count": 22,
     "metadata": {},
     "output_type": "execute_result"
    }
   ],
   "source": [
    "a=[chr(i) for i in range(65,91)]\n",
    "b=[chr(i) for i in range(97,123)]\n",
    "c=[chr(i) for i in range(48,58)]\n",
    "d=list(zip(a,sorted(b,reverse=True),c))\n",
    "d"
   ]
  },
  {
   "cell_type": "code",
   "execution_count": 26,
   "metadata": {},
   "outputs": [
    {
     "data": {
      "text/plain": [
       "[('J', 'q', '9'),\n",
       " ('I', 'r', '6'),\n",
       " ('H', 's', '7'),\n",
       " ('G', 't', '8'),\n",
       " ('F', 'u', '5'),\n",
       " ('E', 'v', '3'),\n",
       " ('D', 'w', '4'),\n",
       " ('C', 'x', '2'),\n",
       " ('B', 'y', '1'),\n",
       " ('A', 'z', '0')]"
      ]
     },
     "execution_count": 26,
     "metadata": {},
     "output_type": "execute_result"
    }
   ],
   "source": [
    "d = [('A', 'z', '0'),\n",
    "     ('B', 'y', '1'),\n",
    "     ('C', 'x', '2'),\n",
    "     ('D', 'w', '4'),\n",
    "     ('E', 'v', '3'),\n",
    "     ('F', 'u', '5'),\n",
    "     ('G', 't', '8'),\n",
    "     ('H', 's', '7'),\n",
    "     ('I', 'r', '6'),\n",
    "     ('J', 'q', '9')]\n",
    "f=sorted(d,reverse=True)\n",
    "f"
   ]
  },
  {
   "cell_type": "code",
   "execution_count": 39,
   "metadata": {},
   "outputs": [
    {
     "data": {
      "text/plain": [
       "[('J', 'q', '9'),\n",
       " ('I', 'r', '6'),\n",
       " ('H', 's', '7'),\n",
       " ('G', 't', '8'),\n",
       " ('F', 'u', '5'),\n",
       " ('E', 'v', '3'),\n",
       " ('D', 'w', '4'),\n",
       " ('C', 'x', '2'),\n",
       " ('B', 'y', '1'),\n",
       " ('A', 'z', '0')]"
      ]
     },
     "execution_count": 39,
     "metadata": {},
     "output_type": "execute_result"
    }
   ],
   "source": [
    "d = [('A', 'z', '0'),\n",
    "     ('B', 'y', '1'),\n",
    "     ('C', 'x', '2'),\n",
    "     ('D', 'w', '4'),\n",
    "     ('E', 'v', '3'),\n",
    "     ('F', 'u', '5'),\n",
    "     ('G', 't', '8'),\n",
    "     ('H', 's', '7'),\n",
    "     ('I', 'r', '6'),\n",
    "     ('J', 'q', '9')]\n",
    "sorted(d,reverse=True,key=lambda x:x[0])"
   ]
  },
  {
   "cell_type": "code",
   "execution_count": 7,
   "metadata": {},
   "outputs": [
    {
     "data": {
      "text/plain": [
       "[('J', 'q', '9'),\n",
       " ('G', 't', '8'),\n",
       " ('H', 's', '7'),\n",
       " ('I', 'r', '6'),\n",
       " ('F', 'u', '5'),\n",
       " ('D', 'w', '4'),\n",
       " ('E', 'v', '3'),\n",
       " ('C', 'x', '2'),\n",
       " ('B', 'y', '1'),\n",
       " ('A', 'z', '0')]"
      ]
     },
     "execution_count": 7,
     "metadata": {},
     "output_type": "execute_result"
    }
   ],
   "source": [
    "d = [('A', 'z', '0'),\n",
    "     ('B', 'y', '1'),\n",
    "     ('C', 'x', '2'),\n",
    "     ('D', 'w', '4'),\n",
    "     ('E', 'v', '3'),\n",
    "     ('F', 'u', '5'),\n",
    "     ('G', 't', '8'),\n",
    "     ('H', 's', '7'),\n",
    "     ('I', 'r', '6'),\n",
    "     ('J', 'q', '9')]\n",
    "def abc(x):\n",
    "    return x[2]\n",
    "sorted(d,reverse=True,key=abc)\n"
   ]
  },
  {
   "cell_type": "code",
   "execution_count": 12,
   "metadata": {},
   "outputs": [
    {
     "data": {
      "text/plain": [
       "{'age': 26, 'name': 'ali', 'university': 'nust'}"
      ]
     },
     "execution_count": 12,
     "metadata": {},
     "output_type": "execute_result"
    }
   ],
   "source": [
    "d1={\"name\":\"ali\",\"age\":26,\"university\":\"nust\"}\n",
    "d2={}\n",
    "for x in sorted(d1.keys()):\n",
    "    d2[x]=d1[x]\n",
    "d2"
   ]
  },
  {
   "cell_type": "code",
   "execution_count": 23,
   "metadata": {},
   "outputs": [
    {
     "data": {
      "text/plain": [
       "{'name': 85, 'university': 85, 'age': 26}"
      ]
     },
     "execution_count": 23,
     "metadata": {},
     "output_type": "execute_result"
    }
   ],
   "source": [
    "d1={\n",
    "    \"name\":85,\n",
    "    \"age\":26,\n",
    "    \"university\":85}\n",
    "#{k:v for k,v in sorted(d1.items(),key=lambda x:x[1],reverse=True)}\n",
    "{k:v for k,v in sorted(d1.items(), key=lambda x:x[1], reverse=True) }"
   ]
  },
  {
   "cell_type": "code",
   "execution_count": 20,
   "metadata": {},
   "outputs": [
    {
     "data": {
      "text/plain": [
       "{'c': 5, 'd': 3, 'b': 2, 'a': 1}"
      ]
     },
     "execution_count": 20,
     "metadata": {},
     "output_type": "execute_result"
    }
   ],
   "source": [
    "d1={\n",
    "    'a':1,\n",
    "    'c':5,\n",
    "    'b':2,\n",
    "    'd':3\n",
    "}\n",
    "\n",
    "{k:v for k,v in sorted(d1.items(), key=lambda x:x[1], reverse=True) }"
   ]
  },
  {
   "cell_type": "code",
   "execution_count": 4,
   "metadata": {},
   "outputs": [
    {
     "name": "stdout",
     "output_type": "stream",
     "text": [
      "enter name : ali\n",
      "enter uni : nust\n",
      "enter city : nowshera\n",
      "enter more recordyes\n",
      "enter name : umair\n",
      "enter uni : fast\n",
      "enter city : isb\n",
      "enter more recordwaheed\n",
      "enter name : waheed\n",
      "enter uni : karachi\n",
      "enter city : kch\n",
      "enter more recordyes\n",
      "enter name : burhan\n",
      "enter uni : peshawar \n",
      "enter city : swabi\n",
      "enter more recordno\n"
     ]
    },
    {
     "data": {
      "text/plain": [
       "[{'name': 'ali', 'uni': 'nust', 'city': 'nowshera'},\n",
       " {'name': 'umair', 'uni': 'fast', 'city': 'isb'},\n",
       " {'name': 'waheed', 'uni': 'karachi', 'city': 'kch'},\n",
       " {'name': 'burhan', 'uni': 'peshawar ', 'city': 'swabi'}]"
      ]
     },
     "execution_count": 4,
     "metadata": {},
     "output_type": "execute_result"
    }
   ],
   "source": [
    "students=[]\n",
    "flag=''\n",
    "while flag != \"no\":\n",
    "    d1={}\n",
    "    d1[\"name\"]=input(\"enter name : \")\n",
    "    d1[\"uni\"]=input(\"enter uni : \")\n",
    "    d1[\"city\"]=input(\"enter city : \")\n",
    "    students.append(d1)\n",
    "    flag=input(\"enter more record\")\n",
    "d1\n",
    "students"
   ]
  }
 ],
 "metadata": {
  "kernelspec": {
   "display_name": "Python 3",
   "language": "python",
   "name": "python3"
  },
  "language_info": {
   "codemirror_mode": {
    "name": "ipython",
    "version": 3
   },
   "file_extension": ".py",
   "mimetype": "text/x-python",
   "name": "python",
   "nbconvert_exporter": "python",
   "pygments_lexer": "ipython3",
   "version": "3.7.3"
  }
 },
 "nbformat": 4,
 "nbformat_minor": 2
}
