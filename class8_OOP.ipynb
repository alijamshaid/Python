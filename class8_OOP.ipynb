{
 "cells": [
  {
   "cell_type": "markdown",
   "metadata": {},
   "source": [
    "# OOP"
   ]
  },
  {
   "cell_type": "markdown",
   "metadata": {},
   "source": [
    "Topic\n",
    "- Class\n",
    "- instance\n",
    "- method\n",
    "- attributes\n",
    "- Class variable\n",
    "- instance variable\n",
    "- inheritance\n",
    "- encapsulation\n",
    "- abstraction\n",
    "- polymorphism"
   ]
  },
  {
   "cell_type": "code",
   "execution_count": 1,
   "metadata": {},
   "outputs": [],
   "source": [
    "s1=\"muhammad ali\"\n",
    "s1fn=\"jamshaid khan\"\n",
    "s1age=\"26\"\n",
    "def s1login():pass\n",
    "def s1logout():pass\n",
    "def s1quiz():pass\n",
    "s1=\"muhamamd awais\"\n",
    "s1fn=\"bf\"\n",
    "s1age=20\n",
    "def login():pass\n",
    "def logout():pass\n",
    "def s1quiz():pass"
   ]
  },
  {
   "cell_type": "code",
   "execution_count": 2,
   "metadata": {},
   "outputs": [],
   "source": [
    "class Student():\n",
    "    pass\n",
    "s1 = Student()"
   ]
  },
  {
   "cell_type": "markdown",
   "metadata": {},
   "source": [
    "# Method and attributes"
   ]
  },
  {
   "cell_type": "code",
   "execution_count": 3,
   "metadata": {},
   "outputs": [
    {
     "name": "stdout",
     "output_type": "stream",
     "text": [
      "1\n",
      "2\n",
      "3\n"
     ]
    }
   ],
   "source": [
    "class Student():\n",
    "    def __init__(self,sid):#constructor\n",
    "        self.sid=sid #attributes,properties,datamembers,fields\n",
    "        self.name=\"\"\n",
    "        self.fname=\"\"\n",
    "        self.DOB=0\n",
    "    def login(self,user,password):\n",
    "        self.name=user\n",
    "        print(\"welcome\",self.name)\n",
    "    def logout(self):\n",
    "        print(\"logout!\")\n",
    "s1=Student(1)\n",
    "s2=Student(2)\n",
    "s3=Student(3)\n",
    "print(s1.sid,s2.sid,s3.sid,sep=\"\\n\")"
   ]
  },
  {
   "cell_type": "code",
   "execution_count": 4,
   "metadata": {},
   "outputs": [
    {
     "name": "stdout",
     "output_type": "stream",
     "text": [
      "muahmamd ali\n",
      "jamshaid khan\n",
      "nowshera\n"
     ]
    }
   ],
   "source": [
    "s1.name=\"muahmamd ali\"\n",
    "s2.name=\"jamshaid khan\"\n",
    "s3.name=\"nowshera\"\n",
    "print(s1.name,s2.name,s3.name,sep=\"\\n\")"
   ]
  },
  {
   "cell_type": "code",
   "execution_count": 5,
   "metadata": {},
   "outputs": [
    {
     "name": "stdout",
     "output_type": "stream",
     "text": [
      "welcome muhamamd ali\n"
     ]
    }
   ],
   "source": [
    "s3.login(\"muhamamd ali\",1234)"
   ]
  },
  {
   "cell_type": "code",
   "execution_count": 6,
   "metadata": {},
   "outputs": [
    {
     "name": "stdout",
     "output_type": "stream",
     "text": [
      "logout!\n"
     ]
    }
   ],
   "source": [
    "s3.logout()"
   ]
  },
  {
   "cell_type": "markdown",
   "metadata": {},
   "source": [
    "# Class Variable"
   ]
  },
  {
   "cell_type": "code",
   "execution_count": 7,
   "metadata": {},
   "outputs": [],
   "source": [
    "class Student():\n",
    "    counter=0 #class variable\n",
    "    def __init__(self,pn):#constructor\n",
    "        self.sid=pn #atrributes/properties/data members/fields\n",
    "        self.name=\"\"\n",
    "        self.fname=\"\"\n",
    "        self.DOB=0\n",
    "        Student.counter += 1 #update class var\n",
    "    def login(self,user,password):\n",
    "        self.name=user\n",
    "        print(\"welcome\",self.name)\n",
    "    def logout(self):\n",
    "        print(\"logout!\")"
   ]
  },
  {
   "cell_type": "code",
   "execution_count": 8,
   "metadata": {},
   "outputs": [
    {
     "data": {
      "text/plain": [
       "3"
      ]
     },
     "execution_count": 8,
     "metadata": {},
     "output_type": "execute_result"
    }
   ],
   "source": [
    "s1=Student(1)\n",
    "s2=Student(2)\n",
    "s3=Student(3)\n",
    "Student.counter #calling with class ref"
   ]
  },
  {
   "cell_type": "code",
   "execution_count": 9,
   "metadata": {},
   "outputs": [
    {
     "data": {
      "text/plain": [
       "3"
      ]
     },
     "execution_count": 9,
     "metadata": {},
     "output_type": "execute_result"
    }
   ],
   "source": [
    "s1.counter"
   ]
  },
  {
   "cell_type": "markdown",
   "metadata": {},
   "source": [
    "# Inheritance"
   ]
  },
  {
   "cell_type": "code",
   "execution_count": 10,
   "metadata": {},
   "outputs": [
    {
     "name": "stdout",
     "output_type": "stream",
     "text": [
      "black\n",
      "eating food\n"
     ]
    }
   ],
   "source": [
    "class Parent():\n",
    "    def __init__(self):\n",
    "        self.name=\"ali jamshaid\"\n",
    "        self.id=19\n",
    "        self.eye_color=\"black\"\n",
    "    def speak(self):\n",
    "        print(\"parent speaking\")\n",
    "    def eat(self):\n",
    "        print(\"eating food\")\n",
    "class Child(Parent):\n",
    "    pass\n",
    "p1=Parent()\n",
    "print(p1.eye_color)\n",
    "c1=Child()\n",
    "c1.eat()\n",
    "    \n",
    "        \n",
    "        "
   ]
  },
  {
   "cell_type": "code",
   "execution_count": 11,
   "metadata": {},
   "outputs": [
    {
     "name": "stdout",
     "output_type": "stream",
     "text": [
      "black\n",
      "father eating\n",
      "father speaking\n",
      "father listening\n",
      "mother eating\n"
     ]
    }
   ],
   "source": [
    "class Father():\n",
    "    def __init__(self):\n",
    "        self.eye_color=\"brown\"\n",
    "        self.face_color=\"white\"\n",
    "        self.hair_color=\"black\"\n",
    "    def speak(self):print(\"father speaking\")\n",
    "    def eat(Self):print(\"father eating\")\n",
    "class Mother():\n",
    "    def __init__(self):\n",
    "        self.height=\"mheight\"\n",
    "        self.weight=\"m_weight\"\n",
    "        self.hair_color=\"m_color\"\n",
    "    def listening(self):print(\"father listening\")\n",
    "    def eatingmore(Self):print(\"mother eating\")\n",
    "class Child(Father, Mother):\n",
    "    pass\n",
    "c1=Child()\n",
    "print(c1.hair_color)\n",
    "c1.eat()\n",
    "c1.speak()\n",
    "c1.listening()\n",
    "c1.eatingmore()\n",
    "#c1.weight() ask from sir"
   ]
  },
  {
   "cell_type": "code",
   "execution_count": 12,
   "metadata": {},
   "outputs": [
    {
     "data": {
      "text/plain": [
       "'Data Scientist'"
      ]
     },
     "execution_count": 12,
     "metadata": {},
     "output_type": "execute_result"
    }
   ],
   "source": [
    "class Employee():\n",
    "    def __init__(self,id,name,salary):\n",
    "        self.id=id\n",
    "        self.name=name\n",
    "        self.salary=salary\n",
    "class Developer(Employee):\n",
    "    def __init__(self,id,name,salary,designation):\n",
    "        super().__init__(id,name,salary)\n",
    "        self.designation=designation\n",
    "d1=Developer(1,\"muhammad ali\",\"1 billion dollars in sh allah\",\"Data Scientist\")\n",
    "d1.designation"
   ]
  },
  {
   "cell_type": "markdown",
   "metadata": {},
   "source": [
    "# polymorphism"
   ]
  },
  {
   "cell_type": "markdown",
   "metadata": {},
   "source": [
    "# overloading"
   ]
  },
  {
   "cell_type": "code",
   "execution_count": 13,
   "metadata": {},
   "outputs": [
    {
     "name": "stdout",
     "output_type": "stream",
     "text": [
      "16\n",
      "13.3\n",
      "12\n"
     ]
    }
   ],
   "source": [
    "class A():\n",
    "    def abc(self,*n):\n",
    "        print(sum(n))\n",
    "abj1=A()\n",
    "abj1.abc(1,4,5,6)\n",
    "abj1.abc(5,8.3)\n",
    "abj1.abc(4,8)"
   ]
  },
  {
   "cell_type": "markdown",
   "metadata": {},
   "source": [
    "# overriding"
   ]
  },
  {
   "cell_type": "code",
   "execution_count": 14,
   "metadata": {},
   "outputs": [
    {
     "name": "stdout",
     "output_type": "stream",
     "text": [
      "nust\n"
     ]
    }
   ],
   "source": [
    "class A():\n",
    "    def a1(self):print(\"muhammad ali\")\n",
    "    def a2(self):print(\"muhammad ali jamshaid\")\n",
    "class B(A):\n",
    "    def a2(self):print(\"nust\")\n",
    "obj1=B()\n",
    "obj1.a2()"
   ]
  },
  {
   "cell_type": "markdown",
   "metadata": {},
   "source": [
    "# encapsulation"
   ]
  },
  {
   "cell_type": "code",
   "execution_count": 15,
   "metadata": {},
   "outputs": [],
   "source": [
    "class A():\n",
    "    def __init__(self,name,age):\n",
    "        self.__sname=name #make private attribute therefore before attribute we use __\n",
    "        self.__age=age"
   ]
  },
  {
   "cell_type": "code",
   "execution_count": 16,
   "metadata": {},
   "outputs": [],
   "source": [
    "obj1=A(\"ali\",26)"
   ]
  },
  {
   "cell_type": "code",
   "execution_count": 17,
   "metadata": {},
   "outputs": [
    {
     "ename": "NameError",
     "evalue": "name 'obj' is not defined",
     "output_type": "error",
     "traceback": [
      "\u001b[1;31m---------------------------------------------------------------------------\u001b[0m",
      "\u001b[1;31mNameError\u001b[0m                                 Traceback (most recent call last)",
      "\u001b[1;32m<ipython-input-17-2256b9eae8da>\u001b[0m in \u001b[0;36m<module>\u001b[1;34m\u001b[0m\n\u001b[1;32m----> 1\u001b[1;33m \u001b[0mobj\u001b[0m\u001b[1;33m.\u001b[0m\u001b[0msname\u001b[0m \u001b[1;31m#its not working becoz attribute is private which does not work outside class\u001b[0m\u001b[1;33m\u001b[0m\u001b[1;33m\u001b[0m\u001b[0m\n\u001b[0m",
      "\u001b[1;31mNameError\u001b[0m: name 'obj' is not defined"
     ]
    }
   ],
   "source": [
    "obj.sname #its not working becoz attribute is private which does not work outside class"
   ]
  },
  {
   "cell_type": "code",
   "execution_count": 18,
   "metadata": {},
   "outputs": [
    {
     "data": {
      "text/plain": [
       "'ali'"
      ]
     },
     "execution_count": 18,
     "metadata": {},
     "output_type": "execute_result"
    }
   ],
   "source": [
    "obj1._A__sname #its jogar not possible in OOP but its technique"
   ]
  },
  {
   "cell_type": "code",
   "execution_count": 21,
   "metadata": {},
   "outputs": [
    {
     "name": "stdout",
     "output_type": "stream",
     "text": [
      "Name:  Ali\n",
      "Age:  26\n",
      "Secure code running on backened\n"
     ]
    }
   ],
   "source": [
    "class A():\n",
    "    def __init__(self,name,age):\n",
    "        self.__sname=name #make private attribute therefore before attribute we use __\n",
    "        self.__age=age\n",
    "    def display(self):       #getter\n",
    "        print(\"Name: \",self.__sname)\n",
    "        print(\"Age: \",self.__age)\n",
    "        self.__abc()\n",
    "    def change(self,a,b):   #setter\n",
    "        self.__sname=a\n",
    "        self.__age=b\n",
    "    def __abc(self):\n",
    "        print(\"Secure code running on backened\")\n",
    "s1= A(\"Ali\",26)\n",
    "s1.display()\n"
   ]
  },
  {
   "cell_type": "code",
   "execution_count": 20,
   "metadata": {},
   "outputs": [
    {
     "name": "stdout",
     "output_type": "stream",
     "text": [
      "Name:  Asif\n",
      "Age:  30\n",
      "Name:  ali\n",
      "Age:  26\n"
     ]
    }
   ],
   "source": [
    "s1.display()\n",
    "s1.change(\"ali\",26)\n",
    "s1.display()"
   ]
  },
  {
   "cell_type": "markdown",
   "metadata": {},
   "source": [
    "# Abstract Class"
   ]
  },
  {
   "cell_type": "code",
   "execution_count": 22,
   "metadata": {},
   "outputs": [],
   "source": [
    "class A:\n",
    "    def __init__(self,name,age):\n",
    "        self.sname=name\n",
    "        self.age=age\n",
    "    def dis(self):print(\"hello world!\")\n",
    "class B(A):\n",
    "    pass \n",
    "obj1 = A(\"A\",1)\n",
    "obj2 = B(\"B\",2)"
   ]
  },
  {
   "cell_type": "code",
   "execution_count": 24,
   "metadata": {},
   "outputs": [
    {
     "name": "stdout",
     "output_type": "stream",
     "text": [
      "A B\n"
     ]
    }
   ],
   "source": [
    "print(obj1.sname,obj2.sname)"
   ]
  },
  {
   "cell_type": "code",
   "execution_count": 31,
   "metadata": {},
   "outputs": [],
   "source": [
    "from abc import ABC, abstractmethod\n",
    "class Human(ABC):#abstarct class\n",
    "    @abstractmethod   #@with keyword is called decorator\n",
    "    def __init__(self):\n",
    "        self.name=None\n",
    "        self.age=None\n",
    "    def eat(self,food):\n",
    "        print(food)\n",
    "class Male(Human):\n",
    "    def __init__(self,n,a):\n",
    "        self.name=n\n",
    "        self.age=a"
   ]
  },
  {
   "cell_type": "code",
   "execution_count": 32,
   "metadata": {},
   "outputs": [
    {
     "ename": "TypeError",
     "evalue": "Can't instantiate abstract class Human with abstract methods __init__",
     "output_type": "error",
     "traceback": [
      "\u001b[1;31m---------------------------------------------------------------------------\u001b[0m",
      "\u001b[1;31mTypeError\u001b[0m                                 Traceback (most recent call last)",
      "\u001b[1;32m<ipython-input-32-f2bbc531494f>\u001b[0m in \u001b[0;36m<module>\u001b[1;34m\u001b[0m\n\u001b[1;32m----> 1\u001b[1;33m \u001b[0mh1\u001b[0m\u001b[1;33m=\u001b[0m\u001b[0mHuman\u001b[0m\u001b[1;33m(\u001b[0m\u001b[1;33m)\u001b[0m\u001b[1;33m\u001b[0m\u001b[1;33m\u001b[0m\u001b[0m\n\u001b[0m",
      "\u001b[1;31mTypeError\u001b[0m: Can't instantiate abstract class Human with abstract methods __init__"
     ]
    }
   ],
   "source": [
    "h1=Human()"
   ]
  },
  {
   "cell_type": "code",
   "execution_count": 44,
   "metadata": {},
   "outputs": [
    {
     "name": "stdout",
     "output_type": "stream",
     "text": [
      "muhammad ali jamshaid \n",
      "26\n"
     ]
    }
   ],
   "source": [
    "m1=Male(\"muhammad ali jamshaid \",26)\n",
    "print(m1.name)\n",
    "print(m1.age)"
   ]
  },
  {
   "cell_type": "code",
   "execution_count": null,
   "metadata": {},
   "outputs": [],
   "source": []
  }
 ],
 "metadata": {
  "kernelspec": {
   "display_name": "Python 3",
   "language": "python",
   "name": "python3"
  },
  "language_info": {
   "codemirror_mode": {
    "name": "ipython",
    "version": 3
   },
   "file_extension": ".py",
   "mimetype": "text/x-python",
   "name": "python",
   "nbconvert_exporter": "python",
   "pygments_lexer": "ipython3",
   "version": "3.7.3"
  }
 },
 "nbformat": 4,
 "nbformat_minor": 2
}
