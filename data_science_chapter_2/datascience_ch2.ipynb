{
 "cells": [
  {
   "cell_type": "code",
   "execution_count": 8,
   "metadata": {},
   "outputs": [
    {
     "name": "stdout",
     "output_type": "stream",
     "text": [
      "3\n",
      "3\n",
      "6\n",
      "4\n",
      "7\n",
      "5\n",
      "8\n",
      "6\n",
      "9\n",
      "7\n",
      "10\n",
      "3\n",
      "4\n",
      "3\n",
      "7\n",
      "4\n",
      "8\n",
      "5\n",
      "9\n",
      "6\n",
      "10\n",
      "7\n",
      "11\n",
      "4\n",
      "5\n",
      "3\n",
      "8\n",
      "4\n",
      "9\n",
      "5\n",
      "10\n",
      "6\n",
      "11\n",
      "7\n",
      "12\n",
      "5\n",
      "6\n",
      "3\n",
      "9\n",
      "4\n",
      "10\n",
      "5\n",
      "11\n",
      "6\n",
      "12\n",
      "7\n",
      "13\n",
      "6\n",
      "7\n",
      "3\n",
      "10\n",
      "4\n",
      "11\n",
      "5\n",
      "12\n",
      "6\n",
      "13\n",
      "7\n",
      "14\n",
      "7\n",
      "done looping\n"
     ]
    }
   ],
   "source": [
    "for i in [3,4,5,6,7]:\n",
    "    print (i)\n",
    "    for j in [3,4,5,6,7]:\n",
    "        print (j)\n",
    "        print (i+j)\n",
    "    print (i)\n",
    "print (\"done looping\")"
   ]
  },
  {
   "cell_type": "code",
   "execution_count": 12,
   "metadata": {},
   "outputs": [
    {
     "name": "stdout",
     "output_type": "stream",
     "text": [
      "[[1, 2, 3], [4, 5, 6], [7, 8, 9], [10, 11, 12], [13, 14, 15]]\n",
      "[1, 2, 3]\n"
     ]
    }
   ],
   "source": [
    "list_of_lists=[[1,2,3],[4,5,6],[7,8,9],[10,11,12],[13,14,15]]\n",
    "print(list_of_lists)\n",
    "print(list_of_lists[0])"
   ]
  },
  {
   "cell_type": "code",
   "execution_count": 18,
   "metadata": {},
   "outputs": [
    {
     "name": "stdout",
     "output_type": "stream",
     "text": [
      "5\n"
     ]
    }
   ],
   "source": [
    "two_plus_three =2 + \\\n",
    "3\n",
    "print(two_plus_three)"
   ]
  },
  {
   "cell_type": "code",
   "execution_count": 19,
   "metadata": {},
   "outputs": [
    {
     "name": "stdout",
     "output_type": "stream",
     "text": [
      "1\n",
      "2\n",
      "3\n",
      "4\n",
      "5\n"
     ]
    }
   ],
   "source": [
    "for i in [1,2,3,4,5]:\n",
    "    \n",
    "    print(i)"
   ]
  },
  {
   "cell_type": "code",
   "execution_count": 24,
   "metadata": {},
   "outputs": [
    {
     "data": {
      "text/plain": [
       "re.compile(r'[0-9]+', re.IGNORECASE|re.UNICODE)"
      ]
     },
     "execution_count": 24,
     "metadata": {},
     "output_type": "execute_result"
    }
   ],
   "source": [
    "import re\n",
    "my_regex=re.compile(\"[0-9]+\",re.I)\n",
    "my_regex"
   ]
  },
  {
   "cell_type": "code",
   "execution_count": 26,
   "metadata": {},
   "outputs": [
    {
     "name": "stdout",
     "output_type": "stream",
     "text": [
      "10\n",
      "<function match at 0x03734618>\n"
     ]
    }
   ],
   "source": [
    "match =10\n",
    "print(match)\n",
    "from re import *\n",
    "print (match)"
   ]
  },
  {
   "cell_type": "code",
   "execution_count": 30,
   "metadata": {},
   "outputs": [
    {
     "data": {
      "text/plain": [
       "2"
      ]
     },
     "execution_count": 30,
     "metadata": {},
     "output_type": "execute_result"
    }
   ],
   "source": [
    "from __future__ import division\n",
    "5//2"
   ]
  },
  {
   "cell_type": "code",
   "execution_count": 49,
   "metadata": {},
   "outputs": [
    {
     "data": {
      "text/plain": [
       "6"
      ]
     },
     "execution_count": 49,
     "metadata": {},
     "output_type": "execute_result"
    }
   ],
   "source": [
    "def double(x):\n",
    "    return (x*523)\n",
    "def apply_to_one(a):\n",
    "    return a(4)\n",
    "mydouble=double\n",
    "n=apply_to_one(mydouble)\n",
    "y=apply_to_one(lambda x:x+2)\n",
    "y"
   ]
  },
  {
   "cell_type": "code",
   "execution_count": 53,
   "metadata": {},
   "outputs": [
    {
     "name": "stdout",
     "output_type": "stream",
     "text": [
      "9\n"
     ]
    }
   ],
   "source": [
    "anotherdouble=lambda x:x+2\n",
    "print(anotherdouble(7))"
   ]
  },
  {
   "cell_type": "code",
   "execution_count": 55,
   "metadata": {},
   "outputs": [
    {
     "name": "stdout",
     "output_type": "stream",
     "text": [
      "how are you man\n",
      "i am fine dear\n"
     ]
    }
   ],
   "source": [
    "def myprint(message=\"how are you man\"):\n",
    "    return(print(message))\n",
    "\n",
    "myprint()\n",
    "myprint(\"i am fine dear\")"
   ]
  },
  {
   "cell_type": "code",
   "execution_count": 59,
   "metadata": {},
   "outputs": [
    {
     "data": {
      "text/plain": [
       "-10"
      ]
     },
     "execution_count": 59,
     "metadata": {},
     "output_type": "execute_result"
    }
   ],
   "source": [
    "def subtract(a=0,b=0):\n",
    "    return(a-b)\n",
    "subtract(9-19)"
   ]
  },
  {
   "cell_type": "code",
   "execution_count": 72,
   "metadata": {},
   "outputs": [
    {
     "name": "stdout",
     "output_type": "stream",
     "text": [
      "2\n",
      "\t1\n"
     ]
    }
   ],
   "source": [
    "tabche=\"\\t1\"\n",
    "print(len(tabche))\n",
    "print(tabche)"
   ]
  },
  {
   "cell_type": "code",
   "execution_count": null,
   "metadata": {},
   "outputs": [],
   "source": []
  },
  {
   "cell_type": "code",
   "execution_count": 73,
   "metadata": {},
   "outputs": [
    {
     "name": "stdout",
     "output_type": "stream",
     "text": [
      "3\n",
      "\\t1\n"
     ]
    }
   ],
   "source": [
    "not_tabchr=r\"\\t1\"\n",
    "print(len(not_tabchr))\n",
    "print(not_tabchr)\n"
   ]
  },
  {
   "cell_type": "code",
   "execution_count": 74,
   "metadata": {},
   "outputs": [
    {
     "name": "stdout",
     "output_type": "stream",
     "text": [
      "hello what is your namee...?\n",
      "my name is muhammad ali.\n",
      "from which city do you belong...?\n",
      "i am from nowshera\n"
     ]
    }
   ],
   "source": [
    "multi_line_string=\"\"\"hello what is your namee...?\n",
    "my name is muhammad ali.\n",
    "from which city do you belong...?\n",
    "i am from nowshera\"\"\"\n",
    "print(multi_line_string)"
   ]
  },
  {
   "cell_type": "code",
   "execution_count": 80,
   "metadata": {},
   "outputs": [
    {
     "name": "stdout",
     "output_type": "stream",
     "text": [
      "10.0\n"
     ]
    }
   ],
   "source": [
    "try:\n",
    "    x=50/5\n",
    "    print(x)\n",
    "except ZeroDivisionError:\n",
    "    print(\"there is some error\")"
   ]
  },
  {
   "cell_type": "code",
   "execution_count": 86,
   "metadata": {},
   "outputs": [
    {
     "name": "stdout",
     "output_type": "stream",
     "text": [
      "range(0, 10)\n",
      "1\n",
      "9\n",
      "7\n",
      "0\n"
     ]
    }
   ],
   "source": [
    "x=range(10)\n",
    "print(x)\n",
    "print(x[1])\n",
    "print(x[-1])\n",
    "print(x[-3])\n",
    "print(x[0])"
   ]
  },
  {
   "cell_type": "code",
   "execution_count": 101,
   "metadata": {},
   "outputs": [
    {
     "name": "stdout",
     "output_type": "stream",
     "text": [
      "[1, 2, 3, 7]\n",
      "[5, 6, 7, 8, 9, 10]\n",
      "[1, 2, 3]\n",
      "[1, 2, 3, 7, 5, 6, 7]\n",
      "[2, 3, 7, 5, 6, 7, 8, 9]\n",
      "[1, 2, 3, 7, 5, 6, 7, 8, 9, 10]\n",
      "[1, 2, 3, 7, 5, 6, 7, 8, 9, 10]\n"
     ]
    }
   ],
   "source": [
    "x=[1,2,3,7,5,6,7,8,9,10]\n",
    "print(x[:4])\n",
    "print(x[4:])\n",
    "print(x[0:3])\n",
    "print(x[:-3])\n",
    "print(x[1:-1])\n",
    "print(x)\n",
    "print(x[:])"
   ]
  },
  {
   "cell_type": "code",
   "execution_count": 104,
   "metadata": {},
   "outputs": [
    {
     "name": "stdout",
     "output_type": "stream",
     "text": [
      "False\n",
      "True\n"
     ]
    }
   ],
   "source": [
    "print(1 in [0,2,3,4,5])\n",
    "print(4 in [0,2,3,4,5])"
   ]
  },
  {
   "cell_type": "code",
   "execution_count": 110,
   "metadata": {},
   "outputs": [
    {
     "name": "stdout",
     "output_type": "stream",
     "text": [
      "[1, 2, 3, 4, 5, 6, 7, 8]\n"
     ]
    },
    {
     "data": {
      "text/plain": [
       "[8, 7, 6, 5, 4, 3, 2, 1]"
      ]
     },
     "execution_count": 110,
     "metadata": {},
     "output_type": "execute_result"
    }
   ],
   "source": [
    "x=[1,2,3,4]\n",
    "x.extend([5,6,7,8])\n",
    "print(x)\n",
    "x.reverse()\n",
    "x"
   ]
  },
  {
   "cell_type": "code",
   "execution_count": 111,
   "metadata": {},
   "outputs": [
    {
     "name": "stdout",
     "output_type": "stream",
     "text": [
      "[1, 2, 3]\n",
      "[1, 2, 3, 4, 5, 6]\n"
     ]
    }
   ],
   "source": [
    "x=[1,2,3]\n",
    "y=x+[4,5,6]\n",
    "print(x)\n",
    "print(y)"
   ]
  },
  {
   "cell_type": "code",
   "execution_count": 118,
   "metadata": {},
   "outputs": [
    {
     "name": "stdout",
     "output_type": "stream",
     "text": [
      "7\n",
      "2\n"
     ]
    }
   ],
   "source": [
    "x.append(7)\n",
    "x\n",
    "print(x[-1])\n",
    "print(x[1])"
   ]
  },
  {
   "cell_type": "code",
   "execution_count": 119,
   "metadata": {},
   "outputs": [
    {
     "name": "stdout",
     "output_type": "stream",
     "text": [
      "3\n"
     ]
    }
   ],
   "source": [
    "x,y=[2,3]\n",
    "print(y)"
   ]
  },
  {
   "cell_type": "code",
   "execution_count": 120,
   "metadata": {},
   "outputs": [
    {
     "data": {
      "text/plain": [
       "9"
      ]
     },
     "execution_count": 120,
     "metadata": {},
     "output_type": "execute_result"
    }
   ],
   "source": [
    "a,b,c,d,e=[7,5,9,3,5]\n",
    "c"
   ]
  },
  {
   "cell_type": "code",
   "execution_count": 128,
   "metadata": {},
   "outputs": [
    {
     "data": {
      "text/plain": [
       "(4, 5)"
      ]
     },
     "execution_count": 128,
     "metadata": {},
     "output_type": "execute_result"
    }
   ],
   "source": [
    "_,y=[4,5]\n",
    "_,y"
   ]
  },
  {
   "cell_type": "code",
   "execution_count": 10,
   "metadata": {},
   "outputs": [
    {
     "name": "stdout",
     "output_type": "stream",
     "text": [
      "[1, 2]\n",
      "cannot modify tuple\n",
      "(1, 2)\n"
     ]
    }
   ],
   "source": [
    "my_list=[1,2]\n",
    "print(my_list)\n",
    "my_tuple=(1,2)\n",
    "try:\n",
    "    my_tuple[1]=3\n",
    "except TypeError:\n",
    "    print (\"cannot modify tuple\")\n",
    "print(my_tuple)"
   ]
  },
  {
   "cell_type": "code",
   "execution_count": 16,
   "metadata": {},
   "outputs": [
    {
     "name": "stdout",
     "output_type": "stream",
     "text": [
      "(5, 6)\n",
      "21\n"
     ]
    }
   ],
   "source": [
    "def sum_and_product(x,y):\n",
    "    return(x+y),(x*y)\n",
    "sp=sum_and_product(2,3)\n",
    "print(sp)\n",
    "s,p=sum_and_product(7,3)\n",
    "print(p)"
   ]
  },
  {
   "cell_type": "code",
   "execution_count": 18,
   "metadata": {},
   "outputs": [
    {
     "name": "stdout",
     "output_type": "stream",
     "text": [
      "3119268316\n",
      "{'name': 'muhammad qasim', 'adress': 'karachi', 'age': 33, 'skills': ('python', 'ai', 'machine learning')}\n"
     ]
    }
   ],
   "source": [
    "dict1={}\n",
    "dict2=dict()\n",
    "dict3={\"name\":\"muhammad ali\",\"address\":\"nowshera\",\"contact\": 3119268316}\n",
    "print(dict3['contact'])\n",
    "dict2[\"name\"]=\"muhammad qasim\"\n",
    "dict2[\"adress\"]=\"karachi\"\n",
    "dict2[\"age\"]=33\n",
    "dict2[\"skills\"]=(\"python\",\"ai\",\"machine learning\")\n",
    "print(dict2)\n"
   ]
  },
  {
   "cell_type": "code",
   "execution_count": 21,
   "metadata": {},
   "outputs": [
    {
     "name": "stdout",
     "output_type": "stream",
     "text": [
      "{('name', 'country', 'city', 'education'): ('muhammad ali', 'pakistan', 'nowshera', 'ai'), 'name': 'muhammad ali', 'age': 26, 'country': 'pakistan', 'education': 'masters'}\n"
     ]
    }
   ],
   "source": [
    "dict1[\"name\"]=(\"muhammad ali\")\n",
    "dict1[\"age\"]=26\n",
    "dict1[\"country\"]=\"pakistan\"\n",
    "dict1[\"education\"]=\"masters\"\n",
    "print(dict1)"
   ]
  },
  {
   "cell_type": "code",
   "execution_count": 22,
   "metadata": {},
   "outputs": [
    {
     "name": "stdout",
     "output_type": "stream",
     "text": [
      "somethine is wrong in the python\n"
     ]
    }
   ],
   "source": [
    "dict4={\"hello\":\"pakistan\",\"python\":\"machine learning\",\"big data\":\"artificial intelligence\"}\n",
    "try:\n",
    "    print(dict4[\"karachi\"])\n",
    "except KeyError:\n",
    "    print(\"somethine is wrong in the python\")"
   ]
  },
  {
   "cell_type": "code",
   "execution_count": 30,
   "metadata": {},
   "outputs": [
    {
     "name": "stdout",
     "output_type": "stream",
     "text": [
      "True\n",
      "True\n",
      "False\n"
     ]
    }
   ],
   "source": [
    "print(\"hello\" in dict4)\n",
    "print(\"python\" in dict4)\n",
    "print(\"country\" in dict4)"
   ]
  },
  {
   "cell_type": "code",
   "execution_count": 34,
   "metadata": {},
   "outputs": [
    {
     "name": "stdout",
     "output_type": "stream",
     "text": [
      "pakistan\n",
      "None\n",
      "usa\n",
      "{'hello': 'pakistan', 'python': 'machine learning', 'big data': 'artificial intelligence'}\n"
     ]
    }
   ],
   "source": [
    "print(dict4.get(\"hello\"))\n",
    "print(dict4.get(\"country\"))\n",
    "print(dict4.get(\"country\",\"usa\"))\n",
    "print(dict4)"
   ]
  },
  {
   "cell_type": "code",
   "execution_count": 38,
   "metadata": {},
   "outputs": [
    {
     "name": "stdout",
     "output_type": "stream",
     "text": [
      "{'hello': 'usa', 'python': 'machine learning', 'big data': 'artificial intelligence', 'position': 'DS'}\n",
      "{'hello': 'usa', 'python': 'machine learning', 'big data': 'artificial intelligence', 'position': 'DS'}\n",
      "4\n"
     ]
    }
   ],
   "source": [
    "dict4[\"hello\"]=\"usa\"\n",
    "print(dict4)\n",
    "dict4[\"position\"]=\"DS\"\n",
    "print(dict4)\n",
    "print(len(dict4))"
   ]
  },
  {
   "cell_type": "code",
   "execution_count": 46,
   "metadata": {},
   "outputs": [
    {
     "name": "stdout",
     "output_type": "stream",
     "text": [
      "dict_keys(['user', 'bachelors', 'skills'])\n",
      "dict_values(['muhammad ali', 'gis/rs from peshawar university', ('python', 'machine learning', 'big data analytics', 'artificial intelligence')])\n",
      "dict_items([('user', 'muhammad ali'), ('bachelors', 'gis/rs from peshawar university'), ('skills', ('python', 'machine learning', 'big data analytics', 'artificial intelligence'))])\n",
      "True\n",
      "True\n"
     ]
    }
   ],
   "source": [
    "twitter={\n",
    "    \"user\":\"muhammad ali\",\n",
    "    \"bachelors\":\"gis/rs from peshawar university\",\n",
    "    \"skills\":(\"python\",\"machine learning\",\"big data analytics\",\"artificial intelligence\")\n",
    "}\n",
    "print(twitter.keys())\n",
    "print(twitter.values())\n",
    "print(twitter.items())\n",
    "print(\"user\" in twitter)\n",
    "substring=(twitter.values())\n",
    "print(\"muhammad ali\" in substring)\n"
   ]
  },
  {
   "cell_type": "code",
   "execution_count": 14,
   "metadata": {},
   "outputs": [
    {
     "name": "stdout",
     "output_type": "stream",
     "text": [
      "{'a': 3, 'c': 2, 'd': 2, 'e': 1, 'f': 2, 'g': 4, 'h': 1, 'u': 1, 'o': 1, 'z': 1, 'v': 1, 'x': 1, 'b': 1, 'q': 1, 'l': 1, 'p': 1}\n"
     ]
    }
   ],
   "source": [
    "doc_dict={}\n",
    "document=(\"a\",\"c\",\"d\",\"e\",\"f\",\"g\",\"h\",\"a\",\"a\",\"f\",\"c\",\"u\",\"g\",\"g\",\"g\",\"o\",\"z\",\"v\",\"x\",\"d\",\"b\",\"q\",\"l\",\"p\")\n",
    "for word in document:\n",
    "    if word in doc_dict:\n",
    "        doc_dict[word] += 1\n",
    "    else:\n",
    "        doc_dict[word] = 1\n",
    "print(doc_dict)\n",
    "    "
   ]
  },
  {
   "cell_type": "code",
   "execution_count": 18,
   "metadata": {},
   "outputs": [
    {
     "name": "stdout",
     "output_type": "stream",
     "text": [
      "enter key : q\n",
      "enter key : w\n",
      "enter key : e\n",
      "enter key : w\n",
      "enter key : q\n",
      "enter key : w\n",
      "enter key : q\n",
      "enter key : a\n",
      "enter key : a\n",
      "enter key : a\n",
      "enter key : end\n",
      "{'q': 3, 'w': 3, 'e': 1, 'a': 3}\n"
     ]
    }
   ],
   "source": [
    "mak_dict={}\n",
    "while True:\n",
    "    keys=input(\"enter key : \")\n",
    "    if keys==\"end\":\n",
    "        break\n",
    "    if keys in mak_dict:\n",
    "        mak_dict[keys] += 1\n",
    "    else:\n",
    "        mak_dict[keys] =1\n",
    "print(mak_dict)"
   ]
  },
  {
   "cell_type": "code",
   "execution_count": 23,
   "metadata": {},
   "outputs": [
    {
     "name": "stdout",
     "output_type": "stream",
     "text": [
      "{'a': 3, 'c': 2, 'd': 2, 'e': 1, 'f': 2, 'g': 4, 'h': 1, 'u': 1, 'o': 1, 'z': 1, 'v': 1, 'x': 1, 'b': 1, 'q': 1, 'l': 1, 'p': 1}\n"
     ]
    }
   ],
   "source": [
    "make_dict={}\n",
    "document=(\"a\",\"c\",\"d\",\"e\",\"f\",\"g\",\"h\",\"a\",\"a\",\"f\",\"c\",\"u\",\"g\",\"g\",\"g\",\"o\",\"z\",\"v\",\"x\",\"d\",\"b\",\"q\",\"l\",\"p\")\n",
    "for word in document:\n",
    "    try: \n",
    "        make_dict[word] += 1\n",
    "    except KeyError:\n",
    "        make_dict[word] = 1\n",
    "print(make_dict)"
   ]
  },
  {
   "cell_type": "code",
   "execution_count": 27,
   "metadata": {},
   "outputs": [
    {
     "name": "stdout",
     "output_type": "stream",
     "text": [
      "0\n",
      "0\n",
      "0\n",
      "0\n",
      "0\n",
      "0\n",
      "0\n",
      "1\n",
      "2\n",
      "1\n",
      "1\n",
      "0\n",
      "1\n",
      "2\n",
      "3\n",
      "0\n",
      "0\n",
      "0\n",
      "0\n",
      "1\n",
      "0\n",
      "0\n",
      "0\n",
      "0\n",
      "{'a': 3, 'c': 2, 'd': 2, 'e': 1, 'f': 2, 'g': 4, 'h': 1, 'u': 1, 'o': 1, 'z': 1, 'v': 1, 'x': 1, 'b': 1, 'q': 1, 'l': 1, 'p': 1}\n"
     ]
    }
   ],
   "source": [
    "word_counts={}\n",
    "documents=(\"a\",\"c\",\"d\",\"e\",\"f\",\"g\",\"h\",\"a\",\"a\",\"f\",\"c\",\"u\",\"g\",\"g\",\"g\",\"o\",\"z\",\"v\",\"x\",\"d\",\"b\",\"q\",\"l\",\"p\")\n",
    "for word in documents:\n",
    "    previous_count=word_counts.get(word,0)\n",
    "    print(previous_count)\n",
    "    word_counts[word]=previous_count+1\n",
    "print(word_counts)"
   ]
  },
  {
   "cell_type": "code",
   "execution_count": 29,
   "metadata": {},
   "outputs": [
    {
     "name": "stdout",
     "output_type": "stream",
     "text": [
      "defaultdict(<class 'int'>, {'a': 3, 'c': 2, 'd': 2, 'e': 1, 'f': 2, 'g': 4, 'h': 1, 'u': 1, 'o': 1, 'z': 1, 'v': 1, 'x': 1, 'b': 1, 'q': 1, 'l': 1, 'p': 1})\n"
     ]
    }
   ],
   "source": [
    "from collections import defaultdict\n",
    "word_counts=defaultdict(int)\n",
    "document=(\"a\",\"c\",\"d\",\"e\",\"f\",\"g\",\"h\",\"a\",\"a\",\"f\",\"c\",\"u\",\"g\",\"g\",\"g\",\"o\",\"z\",\"v\",\"x\",\"d\",\"b\",\"q\",\"l\",\"p\")\n",
    "for word in document:\n",
    "    word_counts[word] += 1\n",
    "print(word_counts)"
   ]
  },
  {
   "cell_type": "code",
   "execution_count": 39,
   "metadata": {},
   "outputs": [
    {
     "name": "stdout",
     "output_type": "stream",
     "text": [
      "defaultdict(<class 'list'>, {2: [5], 4: [7]})\n"
     ]
    }
   ],
   "source": [
    "dd_list=defaultdict(list)\n",
    "dd_list[2].append(5)\n",
    "dd_list[4].append(7)\n",
    "print(dd_list)"
   ]
  },
  {
   "cell_type": "code",
   "execution_count": 43,
   "metadata": {},
   "outputs": [
    {
     "name": "stdout",
     "output_type": "stream",
     "text": [
      "defaultdict(<class 'dict'>, {'skills': {'python': 'sql'}, 'name': 'muhammad ali'})\n"
     ]
    }
   ],
   "source": [
    "dd_dict=defaultdict(dict)\n",
    "dd_dict[\"skills\"][\"python\"]=\"sql\"\n",
    "dd_dict[\"name\"]=\"muhammad ali\"\n",
    "print(dd_dict)"
   ]
  },
  {
   "cell_type": "code",
   "execution_count": 52,
   "metadata": {},
   "outputs": [
    {
     "data": {
      "text/plain": [
       "defaultdict(<function __main__.<lambda>()>, {7: [0, 31]})"
      ]
     },
     "execution_count": 52,
     "metadata": {},
     "output_type": "execute_result"
    }
   ],
   "source": [
    "dd_dict=defaultdict(lambda:[0,0])\n",
    "dd_dict[7][1]=31\n",
    "dd_dict"
   ]
  },
  {
   "cell_type": "code",
   "execution_count": 58,
   "metadata": {},
   "outputs": [
    {
     "data": {
      "text/plain": [
       "Counter({1: 2, 4: 1, 5: 7, 6: 2, 9: 1, 7: 1})"
      ]
     },
     "execution_count": 58,
     "metadata": {},
     "output_type": "execute_result"
    }
   ],
   "source": [
    "from collections import Counter\n",
    "c=Counter([1,4,5,6,1,5,5,5,5,5,9,5,7,6])\n",
    "c"
   ]
  },
  {
   "cell_type": "code",
   "execution_count": 69,
   "metadata": {},
   "outputs": [
    {
     "name": "stdout",
     "output_type": "stream",
     "text": [
      "Counter({'g': 4, 'a': 3, 'c': 2, 'd': 2, 'f': 2, 'e': 1, 'h': 1, 'u': 1, 'o': 1, 'z': 1, 'v': 1, 'x': 1, 'b': 1, 'q': 1, 'l': 1, 'p': 1})\n",
      "g 4\n",
      "a 3\n",
      "c 2\n"
     ]
    }
   ],
   "source": [
    "#from collections import Counter\n",
    "#documents=(\"a\",\"c\",\"d\",\"e\",\"f\",\"g\",\"h\",\"a\",\"a\",\"f\",\"c\",\"u\",\"g\",\"g\",\"g\",\"o\",\"z\",\"v\",\"x\",\"d\",\"b\",\"q\",\"l\",\"p\")\n",
    "word_counts=Counter(documents)\n",
    "print(word_counts)\n",
    "for word,counts in word_counts.most_common(3):\n",
    "    print(word,counts)"
   ]
  },
  {
   "cell_type": "code",
   "execution_count": 79,
   "metadata": {},
   "outputs": [
    {
     "name": "stdout",
     "output_type": "stream",
     "text": [
      "{26, 'muhammad ali'}\n",
      "2\n",
      "True\n",
      "False\n"
     ]
    }
   ],
   "source": [
    "s=set()\n",
    "s.add(\"muhammad ali\")\n",
    "s.add(26)\n",
    "s.add(\"muhammad ali\")\n",
    "print(s)\n",
    "print(len(s))\n",
    "print(26 in s)\n",
    "print(\"gis\" in s)"
   ]
  },
  {
   "cell_type": "code",
   "execution_count": 84,
   "metadata": {},
   "outputs": [
    {
     "data": {
      "text/plain": [
       "True"
      ]
     },
     "execution_count": 84,
     "metadata": {},
     "output_type": "execute_result"
    }
   ],
   "source": [
    "a=[\"a\",\"b\",\"c\",\"c\",\"e\"]\n",
    "\"f\" in a\n",
    "b=set(a)\n",
    "\"c\" in b"
   ]
  },
  {
   "cell_type": "code",
   "execution_count": 90,
   "metadata": {},
   "outputs": [
    {
     "name": "stdout",
     "output_type": "stream",
     "text": [
      "9\n",
      "4\n",
      "{1, 2, 3, 4}\n",
      "[1, 2, 3, 4]\n"
     ]
    }
   ],
   "source": [
    "l_list=[1,2,3,4,4,3,2,1,3]\n",
    "print(len(l_list))\n",
    "s_list=set(l_list)\n",
    "print(len(s_list))\n",
    "print(s_list)\n",
    "as_list=list(s_list)\n",
    "print(as_list)"
   ]
  },
  {
   "cell_type": "code",
   "execution_count": 95,
   "metadata": {},
   "outputs": [
    {
     "name": "stdout",
     "output_type": "stream",
     "text": [
      "will be executed if all the condition become false\n"
     ]
    }
   ],
   "source": [
    "a=10\n",
    "if a > 20:\n",
    "    print(\"if condition becomes true\")\n",
    "elif a < 7:\n",
    "        print(\"if condition does not become true\")\n",
    "else:\n",
    "        print(\"will be executed if all the condition become false\")"
   ]
  },
  {
   "cell_type": "code",
   "execution_count": 99,
   "metadata": {},
   "outputs": [
    {
     "name": "stdout",
     "output_type": "stream",
     "text": [
      "odd\n"
     ]
    }
   ],
   "source": [
    "x=9\n",
    "checking = \"even\" if x % 2 ==0 else \"odd\"\n",
    "print(checking)"
   ]
  },
  {
   "cell_type": "code",
   "execution_count": null,
   "metadata": {},
   "outputs": [
    {
     "name": "stdout",
     "output_type": "stream",
     "text": [
      "1 is less then true\n",
      "3 is less then true\n",
      "5 is less then true\n",
      "7 is less then true\n",
      "9 is less then true\n"
     ]
    }
   ],
   "source": [
    "x=1\n",
    "while True:\n",
    "    if x < 10:\n",
    "        print(x,\"is less then true\")\n",
    "        x +=2"
   ]
  },
  {
   "cell_type": "code",
   "execution_count": 1,
   "metadata": {},
   "outputs": [
    {
     "name": "stdout",
     "output_type": "stream",
     "text": [
      "hello\n"
     ]
    }
   ],
   "source": [
    "print(\"hello\")"
   ]
  },
  {
   "cell_type": "code",
   "execution_count": 5,
   "metadata": {},
   "outputs": [
    {
     "name": "stdout",
     "output_type": "stream",
     "text": [
      "2\n",
      "4\n",
      "6\n",
      "8\n",
      "10\n",
      "12\n",
      "14\n"
     ]
    }
   ],
   "source": [
    "for x in range(2,20,2):\n",
    "    if (x==3):\n",
    "        cotinue\n",
    "    if (x==16):\n",
    "        break\n",
    "    print(x)"
   ]
  },
  {
   "cell_type": "code",
   "execution_count": 8,
   "metadata": {},
   "outputs": [
    {
     "name": "stdout",
     "output_type": "stream",
     "text": [
      "True\n"
     ]
    }
   ],
   "source": [
    "one_less_then_two=1<2\n",
    "print(one_less_then_two)"
   ]
  },
  {
   "cell_type": "code",
   "execution_count": 9,
   "metadata": {},
   "outputs": [
    {
     "name": "stdout",
     "output_type": "stream",
     "text": [
      "False\n"
     ]
    }
   ],
   "source": [
    "print(True==False)"
   ]
  },
  {
   "cell_type": "code",
   "execution_count": 12,
   "metadata": {},
   "outputs": [
    {
     "name": "stdout",
     "output_type": "stream",
     "text": [
      "True\n",
      "True\n"
     ]
    }
   ],
   "source": [
    "x=None\n",
    "print(x==None)\n",
    "print(x is None)"
   ]
  },
  {
   "cell_type": "code",
   "execution_count": 18,
   "metadata": {},
   "outputs": [
    {
     "name": "stdout",
     "output_type": "stream",
     "text": [
      "sdjh\n"
     ]
    }
   ],
   "source": [
    "s=\"sdjh\"\n",
    "if s:\n",
    "    first_char=s[0]\n",
    "else:\n",
    "    first_char= \"\"\n",
    "print(s)"
   ]
  },
  {
   "cell_type": "code",
   "execution_count": 23,
   "metadata": {},
   "outputs": [
    {
     "name": "stdout",
     "output_type": "stream",
     "text": [
      "True\n",
      "False\n",
      "True\n",
      "True\n",
      "False\n"
     ]
    }
   ],
   "source": [
    "a=all([4,5,6,7,8])\n",
    "b=all([4,6,7,\"ali\",{}])\n",
    "print(a)\n",
    "print(b)\n",
    "c=any([4,6,7,\"ali\",{}])\n",
    "print(c)\n",
    "d=all([])\n",
    "e=any([])\n",
    "print(d)\n",
    "print(e)"
   ]
  },
  {
   "cell_type": "code",
   "execution_count": 4,
   "metadata": {},
   "outputs": [
    {
     "name": "stdout",
     "output_type": "stream",
     "text": [
      "[1, 2, 3, 3, 5, 6, 7, 8]\n",
      "[7, 6, 8, 3, 1, 2, 3, 5]\n",
      "[1, 2, 3, 3, 5, 6, 7, 8]\n"
     ]
    }
   ],
   "source": [
    "x=[7,6,8,3,1,2,3,5]\n",
    "y=sorted(x)\n",
    "print(y)\n",
    "print(x)\n",
    "x.sort()\n",
    "print(x)"
   ]
  },
  {
   "cell_type": "code",
   "execution_count": 7,
   "metadata": {},
   "outputs": [
    {
     "name": "stdout",
     "output_type": "stream",
     "text": [
      "[9, 8, 7, 6, 5, 4, 2, 1]\n",
      "[1, 5, 6, 8, 2, 4, 9, 7]\n",
      "[9, 8, 7, 6, 5, 4, 2, 1]\n"
     ]
    }
   ],
   "source": [
    "a=[1,5,6,8,2,4,9,7]\n",
    "b=sorted(a,reverse=True)\n",
    "print(b)\n",
    "print(a)\n",
    "a.sort(    reverse=True)\n",
    "print(a)"
   ]
  },
  {
   "cell_type": "code",
   "execution_count": 15,
   "metadata": {},
   "outputs": [
    {
     "name": "stdout",
     "output_type": "stream",
     "text": [
      "[1, -2, 2, 3, 4, -5, -6, -6, 6, -7, -9]\n",
      "[-9, -7, -6, -6, 6, -5, 4, 3, -2, 2, 1]\n"
     ]
    }
   ],
   "source": [
    "x=[-6,-9,4,-2,3,1,-7,-6,-5,2,6]\n",
    "y=sorted((x),key=abs)\n",
    "z=sorted((x),key=abs,reverse=True)\n",
    "print(y)\n",
    "print(z)"
   ]
  },
  {
   "cell_type": "code",
   "execution_count": 22,
   "metadata": {},
   "outputs": [
    {
     "ename": "SyntaxError",
     "evalue": "invalid syntax (<ipython-input-22-a921688be378>, line 2)",
     "output_type": "error",
     "traceback": [
      "\u001b[1;36m  File \u001b[1;32m\"<ipython-input-22-a921688be378>\"\u001b[1;36m, line \u001b[1;32m2\u001b[0m\n\u001b[1;33m    wc=sorted(word_counts.items(),key=lambda(word_counts):count,reverse=True)\u001b[0m\n\u001b[1;37m                                            ^\u001b[0m\n\u001b[1;31mSyntaxError\u001b[0m\u001b[1;31m:\u001b[0m invalid syntax\n"
     ]
    }
   ],
   "source": [
    "word_counts=[-6,-9,4,-2,3,1,-7,-6,-5,2,6]\n",
    "wc=sorted(word_counts.items(),key=lambda(word_counts):count,reverse=True)\n",
    "print(wc)"
   ]
  },
  {
   "cell_type": "code",
   "execution_count": 28,
   "metadata": {},
   "outputs": [
    {
     "name": "stdout",
     "output_type": "stream",
     "text": [
      "[2, 4, 6, 8, 10]\n"
     ]
    }
   ],
   "source": [
    "numbers=[1,2,3,4,5,6,7,8,9,10]\n",
    "even_numbers=[x for x in numbers if x%2==0]\n",
    "print(even_numbers)"
   ]
  },
  {
   "cell_type": "code",
   "execution_count": 36,
   "metadata": {},
   "outputs": [
    {
     "name": "stdout",
     "output_type": "stream",
     "text": [
      "[2, 4, 6, 8, 10, 12, 14, 16, 18, 20]\n",
      "[0, 1, 4, 9, 16, 25, 36, 49, 64, 81]\n"
     ]
    }
   ],
   "source": [
    "squares=[x*2 for x in numbers]\n",
    "sq=[x*x for x in range(10)]\n",
    "print(squares)\n",
    "print(sq)"
   ]
  },
  {
   "cell_type": "code",
   "execution_count": 37,
   "metadata": {},
   "outputs": [
    {
     "name": "stdout",
     "output_type": "stream",
     "text": [
      "[1, 4, 9, 16, 25, 36, 49, 64, 81, 100]\n"
     ]
    }
   ],
   "source": [
    "even_squares=[x*x for x in numbers]\n",
    "print(even_squares)"
   ]
  },
  {
   "cell_type": "code",
   "execution_count": 38,
   "metadata": {},
   "outputs": [
    {
     "name": "stdout",
     "output_type": "stream",
     "text": [
      "{1: 1, 2: 4, 3: 9, 4: 16, 5: 25, 6: 36, 7: 49, 8: 64, 9: 81, 10: 100}\n"
     ]
    }
   ],
   "source": [
    "d_dict={i:i*i for i in numbers}\n",
    "print(d_dict)"
   ]
  },
  {
   "cell_type": "code",
   "execution_count": 39,
   "metadata": {},
   "outputs": [
    {
     "name": "stdout",
     "output_type": "stream",
     "text": [
      "{1}\n"
     ]
    }
   ],
   "source": [
    "square_set={i*i for i in [1,-1]}\n",
    "print(square_set)"
   ]
  },
  {
   "cell_type": "code",
   "execution_count": 41,
   "metadata": {},
   "outputs": [
    {
     "name": "stdout",
     "output_type": "stream",
     "text": [
      "[2, 2, 2, 2, 2, 2, 2, 2, 2, 2]\n"
     ]
    }
   ],
   "source": [
    "numbers=[1,2,3,4,5,6,7,8,9,10]\n",
    "zeros=[2 for _ in numbers]\n",
    "print(zeros)"
   ]
  },
  {
   "cell_type": "code",
   "execution_count": 44,
   "metadata": {},
   "outputs": [
    {
     "name": "stdout",
     "output_type": "stream",
     "text": [
      "[(0, 0), (0, 1), (1, 0), (1, 1), (2, 0), (2, 1), (3, 0), (3, 1), (4, 0), (4, 1), (5, 0), (5, 1), (6, 0), (6, 1), (7, 0), (7, 1), (8, 0), (8, 1), (9, 0), (9, 1)]\n"
     ]
    }
   ],
   "source": [
    "pairs=[(x,y) for x in range(10) for y in range(2)]\n",
    "print(pairs)"
   ]
  },
  {
   "cell_type": "code",
   "execution_count": 1,
   "metadata": {},
   "outputs": [
    {
     "name": "stdout",
     "output_type": "stream",
     "text": [
      "[(0, 1), (0, 2), (0, 3), (0, 4), (0, 5), (0, 6), (0, 7), (0, 8), (0, 9), (1, 2), (1, 3), (1, 4), (1, 5), (1, 6), (1, 7), (1, 8), (1, 9), (2, 3), (2, 4), (2, 5), (2, 6), (2, 7), (2, 8), (2, 9), (3, 4), (3, 5), (3, 6), (3, 7), (3, 8), (3, 9), (4, 5), (4, 6), (4, 7), (4, 8), (4, 9), (5, 6), (5, 7), (5, 8), (5, 9), (6, 7), (6, 8), (6, 9), (7, 8), (7, 9), (8, 9)]\n"
     ]
    }
   ],
   "source": [
    "increasing_pairs=[(x,y)for x in range(10)for y in range(x+1,10)]\n",
    "print(increasing_pairs)"
   ]
  },
  {
   "cell_type": "code",
   "execution_count": 3,
   "metadata": {},
   "outputs": [
    {
     "name": "stdout",
     "output_type": "stream",
     "text": [
      "[(0, 0), (0, 1), (0, 2), (0, 3), (0, 4), (0, 5), (0, 6), (0, 7), (0, 8), (0, 9), (1, 0), (1, 1), (1, 2), (1, 3), (1, 4), (1, 5), (1, 6), (1, 7), (1, 8), (1, 9), (2, 0), (2, 1), (2, 2), (2, 3), (2, 4), (2, 5), (2, 6), (2, 7), (2, 8), (2, 9), (3, 0), (3, 1), (3, 2), (3, 3), (3, 4), (3, 5), (3, 6), (3, 7), (3, 8), (3, 9), (4, 0), (4, 1), (4, 2), (4, 3), (4, 4), (4, 5), (4, 6), (4, 7), (4, 8), (4, 9), (5, 0), (5, 1), (5, 2), (5, 3), (5, 4), (5, 5), (5, 6), (5, 7), (5, 8), (5, 9), (6, 0), (6, 1), (6, 2), (6, 3), (6, 4), (6, 5), (6, 6), (6, 7), (6, 8), (6, 9), (7, 0), (7, 1), (7, 2), (7, 3), (7, 4), (7, 5), (7, 6), (7, 7), (7, 8), (7, 9), (8, 0), (8, 1), (8, 2), (8, 3), (8, 4), (8, 5), (8, 6), (8, 7), (8, 8), (8, 9), (9, 0), (9, 1), (9, 2), (9, 3), (9, 4), (9, 5), (9, 6), (9, 7), (9, 8), (9, 9)]\n"
     ]
    }
   ],
   "source": [
    "increasing=[(x,y)for x in range(10)for y in range(10)]\n",
    "print(increasing)"
   ]
  },
  {
   "cell_type": "code",
   "execution_count": 27,
   "metadata": {},
   "outputs": [
    {
     "name": "stdout",
     "output_type": "stream",
     "text": [
      "40\n"
     ]
    }
   ],
   "source": [
    "b=[1,2,3,4,5,6,7,8,9,10,11,12,13,1,4,15,15,16,18,19,20,21,22,23,24,25,26,27,28,29,30,31,32,33,34,35,36,38,39,30,40,41,42,43,44,45,46,47,48,49,40,51,50,52,53,54,55,56,57,58,\n",
    "   59,50,60,61,62,63,64,65,65,65,67]\n",
    "def aaa(n):\n",
    "    i=20\n",
    "    if i < n:\n",
    "        yield i\n",
    "        i +=1\n",
    "for i in aaa(30):\n",
    "    print(i*2)"
   ]
  },
  {
   "cell_type": "code",
   "execution_count": 39,
   "metadata": {},
   "outputs": [
    {
     "name": "stdout",
     "output_type": "stream",
     "text": [
      "10\n",
      "11\n",
      "12\n",
      "13\n",
      "14\n",
      "15\n",
      "16\n",
      "17\n",
      "18\n",
      "19\n",
      "20\n",
      "21\n"
     ]
    }
   ],
   "source": [
    "def numbers():\n",
    "    n=10\n",
    "    while True:\n",
    "        yield n\n",
    "        n += 1\n",
    "        if n==22:\n",
    "            break\n",
    "for n in numbers():\n",
    "    print(n)"
   ]
  },
  {
   "cell_type": "code",
   "execution_count": 40,
   "metadata": {},
   "outputs": [
    {
     "name": "stdout",
     "output_type": "stream",
     "text": [
      "[0, 2, 4, 6, 8, 10, 12, 14, 16, 18, 20, 22, 24, 26, 28]\n"
     ]
    }
   ],
   "source": [
    "aa=[i for i in range(30)if i%2==0]\n",
    "print(aa)"
   ]
  },
  {
   "cell_type": "code",
   "execution_count": 41,
   "metadata": {},
   "outputs": [
    {
     "name": "stdout",
     "output_type": "stream",
     "text": [
      "[0.2527081510969841, 0.2705115892344465, 0.5880917758470059, 0.3553095419682819, 0.7691300987590047, 0.7397286936116456, 0.7962173678462008, 0.6586956023054019, 0.7995564046006736, 0.7379083621999705]\n"
     ]
    }
   ],
   "source": [
    "import random\n",
    "x=[random.random() for i in range(10)]\n",
    "print(x)"
   ]
  },
  {
   "cell_type": "code",
   "execution_count": 46,
   "metadata": {},
   "outputs": [
    {
     "name": "stdout",
     "output_type": "stream",
     "text": [
      "0.9056396761745207\n",
      "0.9056396761745207\n"
     ]
    }
   ],
   "source": [
    "random.seed(20)\n",
    "print(random.random())\n",
    "random.seed(20)\n",
    "print(random.random())"
   ]
  },
  {
   "cell_type": "code",
   "execution_count": 53,
   "metadata": {},
   "outputs": [
    {
     "name": "stdout",
     "output_type": "stream",
     "text": [
      "11\n"
     ]
    }
   ],
   "source": [
    "print(random.randrange(10,12))"
   ]
  },
  {
   "cell_type": "code",
   "execution_count": 57,
   "metadata": {},
   "outputs": [
    {
     "name": "stdout",
     "output_type": "stream",
     "text": [
      "[3, 4, 5, 6, 2, 1, 8, 6, 9, 8]\n",
      "[3, 6, 1, 2, 5, 9, 4, 8, 8, 6]\n"
     ]
    }
   ],
   "source": [
    "up_to_ten=[3,4,5,6,2,1,8,6,9,8]\n",
    "print(up_to_ten)\n",
    "random.shuffle(up_to_ten)\n",
    "print(up_to_ten)"
   ]
  },
  {
   "cell_type": "code",
   "execution_count": 63,
   "metadata": {},
   "outputs": [
    {
     "name": "stdout",
     "output_type": "stream",
     "text": [
      "nowshera\n"
     ]
    }
   ],
   "source": [
    "rr=[\"ali\",\"usa\",\"nowshera\"]\n",
    "print(random.choice(rr))"
   ]
  },
  {
   "cell_type": "code",
   "execution_count": 73,
   "metadata": {},
   "outputs": [
    {
     "name": "stdout",
     "output_type": "stream",
     "text": [
      "[1, 9, 8]\n"
     ]
    }
   ],
   "source": [
    "print(random.sample(up_to_ten,3))"
   ]
  },
  {
   "cell_type": "code",
   "execution_count": 78,
   "metadata": {},
   "outputs": [
    {
     "name": "stdout",
     "output_type": "stream",
     "text": [
      "[8, 2, 4, 1, 1]\n"
     ]
    }
   ],
   "source": [
    "rc=[random.choice(up_to_ten)for i in range(5)]\n",
    "print(rc)"
   ]
  },
  {
   "cell_type": "code",
   "execution_count": 91,
   "metadata": {},
   "outputs": [
    {
     "name": "stdout",
     "output_type": "stream",
     "text": [
      " pakistan\n",
      "<re.Match object; span=(26, 35), match='islamabad'>\n",
      "None\n"
     ]
    }
   ],
   "source": [
    "import re\n",
    "text=(\"how are you man i am fine islamabad where are you i am in pakistan islamabad now i want to go for phd islamabad\")\n",
    "print(text[57:66])\n",
    "print(re.search(\"islamabad\",text))\n",
    "print(re.match(\"fine\",text))"
   ]
  },
  {
   "cell_type": "code",
   "execution_count": 97,
   "metadata": {},
   "outputs": [
    {
     "name": "stdout",
     "output_type": "stream",
     "text": [
      "16\n",
      "16384\n",
      "512\n"
     ]
    }
   ],
   "source": [
    "def exp(base,power):\n",
    "    return(base**power)\n",
    "def two_then_me(power):\n",
    "    return(exp(2,power))\n",
    "\n",
    "print(two_then_me(4))\n",
    "print(exp(4,7))\n",
    "print(two_then_me(9))"
   ]
  },
  {
   "cell_type": "code",
   "execution_count": 99,
   "metadata": {},
   "outputs": [
    {
     "name": "stdout",
     "output_type": "stream",
     "text": [
      "216\n"
     ]
    }
   ],
   "source": [
    "from functools import partial\n",
    "two=partial(exp,6)\n",
    "print(two(3))"
   ]
  },
  {
   "cell_type": "code",
   "execution_count": 103,
   "metadata": {},
   "outputs": [
    {
     "name": "stdout",
     "output_type": "stream",
     "text": [
      "512\n"
     ]
    }
   ],
   "source": [
    "three=partial(exp,power=9)\n",
    "print(three(2))"
   ]
  },
  {
   "cell_type": "code",
   "execution_count": 128,
   "metadata": {},
   "outputs": [
    {
     "name": "stdout",
     "output_type": "stream",
     "text": [
      "[4, 6, 8, 10, 12, 14, 16]\n",
      "<map object at 0x06FDCF30>\n"
     ]
    }
   ],
   "source": [
    "def double(a):\n",
    "    return a*2\n",
    "xs=[2,3,4,5,6,7,8]\n",
    "twice=[double(x) for x in xs]\n",
    "print(twice)\n",
    "twice=map(double,xs)\n",
    "p_twice=partial(map,double)\n",
    "ss=p_twice(xs)\n",
    "print(ss)"
   ]
  },
  {
   "cell_type": "code",
   "execution_count": 14,
   "metadata": {},
   "outputs": [
    {
     "ename": "SyntaxError",
     "evalue": "Generator expression must be parenthesized (<ipython-input-14-381b0e2dd3ff>, line 2)",
     "output_type": "error",
     "traceback": [
      "\u001b[1;36m  File \u001b[1;32m\"<ipython-input-14-381b0e2dd3ff>\"\u001b[1;36m, line \u001b[1;32m2\u001b[0m\n\u001b[1;33m    x=map(multiply,[4,3],[3,8] for i in x)\u001b[0m\n\u001b[1;37m                        ^\u001b[0m\n\u001b[1;31mSyntaxError\u001b[0m\u001b[1;31m:\u001b[0m Generator expression must be parenthesized\n"
     ]
    }
   ],
   "source": [
    "def multiply(x,y):return (x*y)\n",
    "x=map(multiply,[4,3],[3,8])"
   ]
  },
  {
   "cell_type": "code",
   "execution_count": 23,
   "metadata": {},
   "outputs": [
    {
     "name": "stdout",
     "output_type": "stream",
     "text": [
      "[2, 4, 6, 8, 10, 12, 14]\n"
     ]
    },
    {
     "ename": "NameError",
     "evalue": "name 'partial' is not defined",
     "output_type": "error",
     "traceback": [
      "\u001b[1;31m---------------------------------------------------------------------------\u001b[0m",
      "\u001b[1;31mNameError\u001b[0m                                 Traceback (most recent call last)",
      "\u001b[1;32m<ipython-input-23-28db9d628fec>\u001b[0m in \u001b[0;36m<module>\u001b[1;34m\u001b[0m\n\u001b[0;32m      5\u001b[0m \u001b[0mprint\u001b[0m\u001b[1;33m(\u001b[0m\u001b[0miseven\u001b[0m\u001b[1;33m)\u001b[0m\u001b[1;33m\u001b[0m\u001b[1;33m\u001b[0m\u001b[0m\n\u001b[0;32m      6\u001b[0m \u001b[0mabc\u001b[0m\u001b[1;33m=\u001b[0m\u001b[0mfilter\u001b[0m\u001b[1;33m(\u001b[0m\u001b[0miseven\u001b[0m\u001b[1;33m,\u001b[0m\u001b[0mab\u001b[0m\u001b[1;33m)\u001b[0m\u001b[1;33m\u001b[0m\u001b[1;33m\u001b[0m\u001b[0m\n\u001b[1;32m----> 7\u001b[1;33m \u001b[0maa\u001b[0m\u001b[1;33m=\u001b[0m\u001b[0mpartial\u001b[0m\u001b[1;33m(\u001b[0m\u001b[0mfilter\u001b[0m\u001b[1;33m,\u001b[0m\u001b[0miseven\u001b[0m\u001b[1;33m)\u001b[0m\u001b[1;33m\u001b[0m\u001b[1;33m\u001b[0m\u001b[0m\n\u001b[0m\u001b[0;32m      8\u001b[0m \u001b[0mabd\u001b[0m\u001b[1;33m=\u001b[0m\u001b[0maa\u001b[0m\u001b[1;33m(\u001b[0m\u001b[0mab\u001b[0m\u001b[1;33m)\u001b[0m\u001b[1;33m\u001b[0m\u001b[1;33m\u001b[0m\u001b[0m\n\u001b[0;32m      9\u001b[0m \u001b[0mprint\u001b[0m\u001b[1;33m(\u001b[0m\u001b[0mabd\u001b[0m\u001b[1;33m)\u001b[0m\u001b[1;33m\u001b[0m\u001b[1;33m\u001b[0m\u001b[0m\n",
      "\u001b[1;31mNameError\u001b[0m: name 'partial' is not defined"
     ]
    }
   ],
   "source": [
    "def iseven(x):\n",
    "    return x%2==0\n",
    "ab=[1,2,3,4,5,6,7,8,9,10,11,12,13,14]\n",
    "iseven=[x for x in ab if iseven(x)]\n",
    "print(iseven)\n",
    "abc=filter(iseven,ab)\n",
    "aa=partial(filter,iseven)\n",
    "abd=aa(ab)\n",
    "print(abd)"
   ]
  },
  {
   "cell_type": "code",
   "execution_count": 28,
   "metadata": {},
   "outputs": [
    {
     "ename": "NameError",
     "evalue": "name 'partial' is not defined",
     "output_type": "error",
     "traceback": [
      "\u001b[1;31m---------------------------------------------------------------------------\u001b[0m",
      "\u001b[1;31mNameError\u001b[0m                                 Traceback (most recent call last)",
      "\u001b[1;32m<ipython-input-28-0c1809015506>\u001b[0m in \u001b[0;36m<module>\u001b[1;34m\u001b[0m\n\u001b[0;32m      1\u001b[0m \u001b[1;31m#x_red=reduce(multiply,ab)\u001b[0m\u001b[1;33m\u001b[0m\u001b[1;33m\u001b[0m\u001b[1;33m\u001b[0m\u001b[0m\n\u001b[1;32m----> 2\u001b[1;33m \u001b[0mlistproduct\u001b[0m\u001b[1;33m=\u001b[0m\u001b[0mpartial\u001b[0m\u001b[1;33m(\u001b[0m\u001b[0mreduce\u001b[0m\u001b[1;33m,\u001b[0m\u001b[0mmultiply\u001b[0m\u001b[1;33m)\u001b[0m\u001b[1;33m\u001b[0m\u001b[1;33m\u001b[0m\u001b[0m\n\u001b[0m\u001b[0;32m      3\u001b[0m \u001b[0mll_pp\u001b[0m\u001b[1;33m=\u001b[0m\u001b[0mlistproduct\u001b[0m\u001b[1;33m(\u001b[0m\u001b[0mab\u001b[0m\u001b[1;33m)\u001b[0m\u001b[1;33m\u001b[0m\u001b[1;33m\u001b[0m\u001b[0m\n\u001b[0;32m      4\u001b[0m \u001b[0mprint\u001b[0m\u001b[1;33m(\u001b[0m\u001b[0mll_pp\u001b[0m\u001b[1;33m)\u001b[0m\u001b[1;33m\u001b[0m\u001b[1;33m\u001b[0m\u001b[0m\n",
      "\u001b[1;31mNameError\u001b[0m: name 'partial' is not defined"
     ]
    }
   ],
   "source": [
    "#x_red=reduce(multiply,ab)\n",
    "listproduct=partial(reduce,multiply)\n",
    "ll_pp=listproduct(ab)\n",
    "print(ll_pp)"
   ]
  },
  {
   "cell_type": "code",
   "execution_count": 11,
   "metadata": {},
   "outputs": [
    {
     "name": "stdout",
     "output_type": "stream",
     "text": [
      "0 3\n",
      "1 5\n",
      "2 4\n",
      "3 1\n",
      "4 2\n",
      "5 7\n",
      "6 5\n",
      "7 8\n",
      "8 9\n",
      "9 6\n"
     ]
    }
   ],
   "source": [
    "documents=[3,5,4,1,2,7,5,8,9,6]\n",
    "for a,b in enumerate(documents):\n",
    "    print(a,b)"
   ]
  },
  {
   "cell_type": "code",
   "execution_count": 19,
   "metadata": {},
   "outputs": [
    {
     "name": "stdout",
     "output_type": "stream",
     "text": [
      "0\n",
      "1\n",
      "2\n",
      "3\n",
      "4\n",
      "5\n",
      "6\n",
      "7\n",
      "8\n",
      "9\n"
     ]
    }
   ],
   "source": [
    "for i in range(len(documents)):print(i)"
   ]
  },
  {
   "cell_type": "code",
   "execution_count": 22,
   "metadata": {},
   "outputs": [
    {
     "name": "stdout",
     "output_type": "stream",
     "text": [
      "0\n",
      "1\n",
      "2\n",
      "3\n",
      "4\n",
      "5\n",
      "6\n",
      "7\n",
      "8\n",
      "9\n"
     ]
    }
   ],
   "source": [
    "for i,_ in enumerate(documents):print(i)"
   ]
  },
  {
   "cell_type": "code",
   "execution_count": 25,
   "metadata": {},
   "outputs": [
    {
     "name": "stdout",
     "output_type": "stream",
     "text": [
      "0 3\n",
      "1 5\n",
      "2 4\n",
      "3 1\n",
      "4 2\n",
      "5 7\n",
      "6 5\n",
      "7 8\n",
      "8 9\n",
      "9 6\n"
     ]
    }
   ],
   "source": [
    "documents=[3,5,4,1,2,7,5,8,9,6]\n",
    "for i in range(len(documents)):\n",
    "    d=documents[i]\n",
    "    print(i,d)"
   ]
  },
  {
   "cell_type": "code",
   "execution_count": 29,
   "metadata": {},
   "outputs": [
    {
     "name": "stdout",
     "output_type": "stream",
     "text": [
      "0 3\n",
      "1 5\n",
      "2 4\n",
      "3 1\n",
      "4 2\n",
      "5 7\n",
      "6 5\n",
      "7 8\n",
      "8 9\n",
      "9 6\n"
     ]
    }
   ],
   "source": [
    "i=0\n",
    "for x in documents:\n",
    "    print(i,x)\n",
    "    i +=1"
   ]
  },
  {
   "cell_type": "code",
   "execution_count": 39,
   "metadata": {},
   "outputs": [
    {
     "name": "stdout",
     "output_type": "stream",
     "text": [
      "[('name', 'muhammmad ali'), ('age', 26), ('city', 'nowshera'), ('education', 'CS')]\n",
      "('name', 'age', 'city', 'education') ('muhammmad ali', 26, 'nowshera', 'CS')\n"
     ]
    }
   ],
   "source": [
    "a=[\"name\",\"age\",\"city\",\"education\"]\n",
    "b=[\"muhammmad ali\",26,\"nowshera\",\"CS\"]\n",
    "c=list(zip(a,b))\n",
    "print(c)\n",
    "a,b=zip(*c)\n",
    "print(a,b)"
   ]
  },
  {
   "cell_type": "code",
   "execution_count": 48,
   "metadata": {},
   "outputs": [
    {
     "name": "stdout",
     "output_type": "stream",
     "text": [
      "3\n"
     ]
    }
   ],
   "source": [
    "def summ(a,b):\n",
    "    return(a+b)\n",
    "#summ(1,2)\n",
    "#summ([1,2])\n",
    "print(summ(*[1,2]))"
   ]
  },
  {
   "cell_type": "code",
   "execution_count": 3,
   "metadata": {},
   "outputs": [
    {
     "data": {
      "text/plain": [
       "<function __main__.doubler.<locals>.g(x)>"
      ]
     },
     "execution_count": 3,
     "metadata": {},
     "output_type": "execute_result"
    }
   ],
   "source": [
    "def doubler(f):\n",
    "    def g(x):\n",
    "        return 2*f(x)\n",
    "    return g\n"
   ]
  }
 ],
 "metadata": {
  "kernelspec": {
   "display_name": "Python 3",
   "language": "python",
   "name": "python3"
  },
  "language_info": {
   "codemirror_mode": {
    "name": "ipython",
    "version": 3
   },
   "file_extension": ".py",
   "mimetype": "text/x-python",
   "name": "python",
   "nbconvert_exporter": "python",
   "pygments_lexer": "ipython3",
   "version": "3.7.3"
  }
 },
 "nbformat": 4,
 "nbformat_minor": 2
}
