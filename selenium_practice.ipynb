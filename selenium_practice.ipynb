{
 "cells": [
  {
   "cell_type": "code",
   "execution_count": 24,
   "metadata": {
    "scrolled": true
   },
   "outputs": [
    {
     "ename": "SyntaxError",
     "evalue": "invalid syntax (<ipython-input-24-14e0cacaab96>, line 14)",
     "output_type": "error",
     "traceback": [
      "\u001b[1;36m  File \u001b[1;32m\"<ipython-input-24-14e0cacaab96>\"\u001b[1;36m, line \u001b[1;32m14\u001b[0m\n\u001b[1;33m    element=driver.find_element_by_xpath(\"//*[@id=\"js_4v\"]/div[1]/div/div[1]/div[1]/div[2]/div/div/div/div/div/div/div[2]/div/div/div/div\")\u001b[0m\n\u001b[1;37m                                                       ^\u001b[0m\n\u001b[1;31mSyntaxError\u001b[0m\u001b[1;31m:\u001b[0m invalid syntax\n"
     ]
    }
   ],
   "source": [
    "from selenium import webdriver\n",
    "from selenium.webdriver.common.keys import Keys\n",
    "import time\n",
    "driver_path=\"F:/path_d/chromedriver.exe\"\n",
    "driver=webdriver.Chrome(driver_path)\n",
    "driver.get(\"https://www.facebook.com\")\n",
    "time.sleep(5)\n",
    "element=driver.find_element_by_id(\"email\")\n",
    "element.send_keys(\"geomatics_ali96@hotmail.com\")\n",
    "element=driver.find_element_by_id(\"pass\")\n",
    "element.send_keys(\"cssinshallah\")\n",
    "driver.find_element_by_id(\"loginbutton\").click()\n",
    "time.sleep(5)\n",
    "element=driver.find_element_by_xpath(\"//*[@id=js_4v]/div[1]/div/div[1]/div[1]/div[2]/div/div/div/div/div/div/div[2]/div/div/div/div\")\n",
    "element.send_keys(\"mirza ghulam was a liar\")\n",
    "#driver.find_element_by_id(\"Post\").click()\n",
    "#driver.findElement(By.partialLinktext(\"Log Out\")).click()"
   ]
  },
  {
   "cell_type": "code",
   "execution_count": null,
   "metadata": {},
   "outputs": [],
   "source": [
    "from selenium import webdriver\n",
    "from selenium.webdriver.common.keys import keys"
   ]
  }
 ],
 "metadata": {
  "kernelspec": {
   "display_name": "Python 3",
   "language": "python",
   "name": "python3"
  },
  "language_info": {
   "codemirror_mode": {
    "name": "ipython",
    "version": 3
   },
   "file_extension": ".py",
   "mimetype": "text/x-python",
   "name": "python",
   "nbconvert_exporter": "python",
   "pygments_lexer": "ipython3",
   "version": "3.7.3"
  }
 },
 "nbformat": 4,
 "nbformat_minor": 2
}
