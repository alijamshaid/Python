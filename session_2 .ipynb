{
 "cells": [
  {
   "cell_type": "code",
   "execution_count": null,
   "metadata": {},
   "outputs": [],
   "source": [
    "# Muhammad ALI\n",
    "# MS GIS/RS NUST\n",
    "# 2017\n",
    "# ARTIFICAL INTELLIGENCE"
   ]
  },
  {
   "cell_type": "code",
   "execution_count": 22,
   "metadata": {},
   "outputs": [
    {
     "data": {
      "text/plain": [
       "3"
      ]
     },
     "execution_count": 22,
     "metadata": {},
     "output_type": "execute_result"
    }
   ],
   "source": [
    "15//4"
   ]
  },
  {
   "cell_type": "code",
   "execution_count": 23,
   "metadata": {},
   "outputs": [
    {
     "data": {
      "text/plain": [
       "3.75"
      ]
     },
     "execution_count": 23,
     "metadata": {},
     "output_type": "execute_result"
    }
   ],
   "source": [
    "15/4"
   ]
  },
  {
   "cell_type": "code",
   "execution_count": 24,
   "metadata": {},
   "outputs": [
    {
     "data": {
      "text/plain": [
       "4.75"
      ]
     },
     "execution_count": 24,
     "metadata": {},
     "output_type": "execute_result"
    }
   ],
   "source": [
    "19/4"
   ]
  },
  {
   "cell_type": "code",
   "execution_count": 25,
   "metadata": {},
   "outputs": [
    {
     "data": {
      "text/plain": [
       "4"
      ]
     },
     "execution_count": 25,
     "metadata": {},
     "output_type": "execute_result"
    }
   ],
   "source": [
    "19//4"
   ]
  },
  {
   "cell_type": "code",
   "execution_count": 26,
   "metadata": {},
   "outputs": [
    {
     "name": "stdout",
     "output_type": "stream",
     "text": [
      "10\n",
      "10\n",
      "140716006613680\n",
      "140716006613680\n",
      "140716006613680\n",
      "140716006613712\n",
      "140716006613712\n",
      "140716006613712\n",
      "140716006613744\n",
      "140716006613712\n"
     ]
    }
   ],
   "source": [
    "a=10\n",
    "b=10\n",
    "print(a)\n",
    "print(b)\n",
    "print(id(a))\n",
    "print(id(b))\n",
    "b += 1\n",
    "print (id(a))\n",
    "print (id(b))\n",
    "aa=11\n",
    "bb=11\n",
    "print(id(aa))\n",
    "print(id(bb))\n",
    "aa +=1\n",
    "print (id(aa))\n",
    "print (id(bb))\n",
    "\n"
   ]
  },
  {
   "cell_type": "code",
   "execution_count": 27,
   "metadata": {},
   "outputs": [
    {
     "data": {
      "text/plain": [
       "int"
      ]
     },
     "execution_count": 27,
     "metadata": {},
     "output_type": "execute_result"
    }
   ],
   "source": [
    "a=7\n",
    "type(a)"
   ]
  },
  {
   "cell_type": "code",
   "execution_count": 28,
   "metadata": {},
   "outputs": [
    {
     "data": {
      "text/plain": [
       "float"
      ]
     },
     "execution_count": 28,
     "metadata": {},
     "output_type": "execute_result"
    }
   ],
   "source": [
    "b=22.7\n",
    "type(b)"
   ]
  },
  {
   "cell_type": "code",
   "execution_count": 29,
   "metadata": {},
   "outputs": [
    {
     "data": {
      "text/plain": [
       "str"
      ]
     },
     "execution_count": 29,
     "metadata": {},
     "output_type": "execute_result"
    }
   ],
   "source": [
    "b=\"muhammad ali\"\n",
    "type(b)"
   ]
  },
  {
   "cell_type": "code",
   "execution_count": 30,
   "metadata": {},
   "outputs": [
    {
     "data": {
      "text/plain": [
       "14"
      ]
     },
     "execution_count": 30,
     "metadata": {},
     "output_type": "execute_result"
    }
   ],
   "source": [
    "int(\"12\")+int(\"2\")"
   ]
  },
  {
   "cell_type": "code",
   "execution_count": 31,
   "metadata": {},
   "outputs": [
    {
     "data": {
      "text/plain": [
       "'muhammad alimuhammad ali'"
      ]
     },
     "execution_count": 31,
     "metadata": {},
     "output_type": "execute_result"
    }
   ],
   "source": [
    "a=\"muhammad ali\"\n",
    "a*2"
   ]
  },
  {
   "cell_type": "code",
   "execution_count": 61,
   "metadata": {},
   "outputs": [
    {
     "name": "stdout",
     "output_type": "stream",
     "text": [
      "igis_nust_islamabad\n"
     ]
    }
   ],
   "source": [
    "name =[\"muhammad_ali\",\"nowshera\",\"swabi\",\"igis_nust_islamabad\",26]\n",
    "print (name[3])"
   ]
  },
  {
   "cell_type": "code",
   "execution_count": 67,
   "metadata": {},
   "outputs": [
    {
     "name": "stdout",
     "output_type": "stream",
     "text": [
      "['bs gis/rs', 'ms gis/rs', 3.7] muhammad ali\n"
     ]
    }
   ],
   "source": [
    "data={\"name\":\"muhammad ali\",\"city of birth\":\"nowshera\",\"age\":26,\"qualification\":[\"bs gis/rs\",\"ms gis/rs\",3.7]}\n",
    "print(data['qualification'],data['name'])"
   ]
  },
  {
   "cell_type": "code",
   "execution_count": 80,
   "metadata": {},
   "outputs": [
    {
     "name": "stdout",
     "output_type": "stream",
     "text": [
      "Muhammad   Ali  Jamshaid \n",
      "['muhammad', 'ali', 'jamshaid']\n",
      "11\n",
      "muhammad   ali  jamshaid \n",
      "muhammad   ali  jamshaid\n",
      "25\n",
      "24\n"
     ]
    }
   ],
   "source": [
    "name = \"muhammad   ali  jamshaid \"\n",
    "print(name.title())\n",
    "print(name.split())\n",
    "print(name.index(\"ali\"))\n",
    "print(name.lstrip())\n",
    "print(name.rstrip())\n",
    "print(len(name.lstrip()))\n",
    "print(len(name.rstrip()))"
   ]
  },
  {
   "cell_type": "code",
   "execution_count": 89,
   "metadata": {},
   "outputs": [
    {
     "name": "stdout",
     "output_type": "stream",
     "text": [
      "my name is muhammad ali and i am currently enrolled in abc.uni\n",
      "my name is muhammad ali and i am currently enrolled in abc.uni\n",
      " is muham\n"
     ]
    }
   ],
   "source": [
    "target=\"my name is muhammad ali and i am currently enrolled in abc.uni\"\n",
    "print(target)\n",
    "print(target[::])\n",
    "print(target[7:16:])"
   ]
  },
  {
   "cell_type": "code",
   "execution_count": 96,
   "metadata": {},
   "outputs": [
    {
     "data": {
      "text/plain": [
       "'3903090786'"
      ]
     },
     "execution_count": 96,
     "metadata": {},
     "output_type": "execute_result"
    }
   ],
   "source": [
    "a = \"390ulksadlj309u0jll786\"\n",
    "\"\".join([b for b in a if str.isnumeric(b)])"
   ]
  },
  {
   "cell_type": "code",
   "execution_count": 104,
   "metadata": {},
   "outputs": [
    {
     "name": "stdout",
     "output_type": "stream",
     "text": [
      "Nust university islamabad\n",
      "name:muhammad ali\n",
      "programme:ms gis/rs\n",
      "semester:research phase\n"
     ]
    }
   ],
   "source": [
    "card =\"\"\"Nust university islamabad\n",
    "name:muhammad ali\n",
    "programme:ms gis/rs\n",
    "semester:research phase\"\"\"\n",
    "print (card)"
   ]
  },
  {
   "cell_type": "code",
   "execution_count": 113,
   "metadata": {},
   "outputs": [
    {
     "name": "stdout",
     "output_type": "stream",
     "text": [
      "\n",
      "name=muhammad ali\n",
      "city=nowshera\n",
      "university=nust\n",
      "programme=GIS/RS\n",
      "school= IGIS NUST\n",
      "cgpa=3.700000\n"
     ]
    }
   ],
   "source": [
    "name=\"muhammad ali\"\n",
    "city=\"nowshera\"\n",
    "university=\"nust\"\n",
    "programme=\"GIS/RS\"\n",
    "school=\" IGIS NUST\"\n",
    "cgpa=3.7\n",
    "card=\"\"\"\n",
    "name=%s\n",
    "city=%s\n",
    "university=%s\n",
    "programme=%s\n",
    "school=%s\n",
    "cgpa=%f\"\"\"\n",
    "print (card%(name,city,university,programme,school,cgpa))"
   ]
  },
  {
   "cell_type": "code",
   "execution_count": 114,
   "metadata": {},
   "outputs": [
    {
     "name": "stdout",
     "output_type": "stream",
     "text": [
      "\n",
      "name=muhammad ali\n",
      "city=nowshera\n",
      "university=nust\n",
      "programme=GIS/RS\n",
      "school= IGIS NUST\n",
      "cgpa=3.7\n"
     ]
    }
   ],
   "source": [
    "name=\"muhammad ali\"\n",
    "city=\"nowshera\"\n",
    "university=\"nust\"\n",
    "programme=\"GIS/RS\"\n",
    "school=\" IGIS NUST\"\n",
    "cgpa=3.7\n",
    "card=\"\"\"\n",
    "name={}\n",
    "city={}\n",
    "university={}\n",
    "programme={}\n",
    "school={}\n",
    "cgpa={}\"\"\"\n",
    "print(card.format(name,city,university,programme,school,cgpa))\n"
   ]
  },
  {
   "cell_type": "code",
   "execution_count": 115,
   "metadata": {},
   "outputs": [
    {
     "name": "stdout",
     "output_type": "stream",
     "text": [
      "\n",
      "name=muhammad ali\n",
      "city=nowshera\n",
      "university=nust\n",
      "programme=GIS/RS\n",
      "school= IGIS NUST\n",
      "cgpa=3.7\n"
     ]
    }
   ],
   "source": [
    "name=\"muhammad ali\"\n",
    "city=\"nowshera\"\n",
    "university=\"nust\"\n",
    "programme=\"GIS/RS\"\n",
    "school=\" IGIS NUST\"\n",
    "cgpa=3.7\n",
    "card=\"\"\"\n",
    "name={0}\n",
    "city={1}\n",
    "university={2}\n",
    "programme={3}\n",
    "school={4}\n",
    "cgpa={5}\"\"\"\n",
    "print(card.format(name,city,university,programme,school,cgpa))"
   ]
  },
  {
   "cell_type": "code",
   "execution_count": 116,
   "metadata": {},
   "outputs": [
    {
     "name": "stdout",
     "output_type": "stream",
     "text": [
      "\n",
      "name=muhammad ali\n",
      "city=nowshera\n",
      "university=nust\n",
      "programme=GIS/RS\n",
      "school= IGIS NUST\n",
      "cgpa=3.7\n"
     ]
    }
   ],
   "source": [
    "name=\"muhammad ali\"\n",
    "city=\"nowshera\"\n",
    "university=\"nust\"\n",
    "programme=\"GIS/RS\"\n",
    "school=\" IGIS NUST\"\n",
    "cgpa=3.7\n",
    "card=\"\"\"\n",
    "name={n}\n",
    "city={c}\n",
    "university={u}\n",
    "programme={p}\n",
    "school={s}\n",
    "cgpa={cg}\"\"\"\n",
    "print(card.format(n=name,c=city,u=university,p=programme,s=school,cg=cgpa))"
   ]
  },
  {
   "cell_type": "code",
   "execution_count": 127,
   "metadata": {},
   "outputs": [
    {
     "name": "stdout",
     "output_type": "stream",
     "text": [
      "muhammad ali \n",
      "university: nust \n",
      "city:nowshera\n",
      "programme:GIS/RS\n",
      "school: IGIS NUST\n",
      "cgpa:3.7\n"
     ]
    }
   ],
   "source": [
    "university=\"nust\"\n",
    "programme=\"GIS/RS\"\n",
    "school=\" IGIS NUST\"\n",
    "cgpa=3.7\n",
    "print(\"muhammad ali \\nuniversity: \" \n",
    "      + university +\" \\ncity:\" + city + \"\\nprogramme:\" + programme + \"\\nschool:\" +school +\n",
    "     \"\\ncgpa:\" +str(cgpa))"
   ]
  },
  {
   "cell_type": "code",
   "execution_count": 132,
   "metadata": {},
   "outputs": [
    {
     "name": "stdout",
     "output_type": "stream",
     "text": [
      "muhammad ali\n"
     ]
    }
   ],
   "source": [
    "a=\"muhammad ali\"\n",
    "print(a)"
   ]
  },
  {
   "cell_type": "code",
   "execution_count": 157,
   "metadata": {},
   "outputs": [
    {
     "data": {
      "text/plain": [
       "['__add__',\n",
       " '__class__',\n",
       " '__contains__',\n",
       " '__delattr__',\n",
       " '__dir__',\n",
       " '__doc__',\n",
       " '__eq__',\n",
       " '__format__',\n",
       " '__ge__',\n",
       " '__getattribute__',\n",
       " '__getitem__',\n",
       " '__getnewargs__',\n",
       " '__gt__',\n",
       " '__hash__',\n",
       " '__init__',\n",
       " '__init_subclass__',\n",
       " '__iter__',\n",
       " '__le__',\n",
       " '__len__',\n",
       " '__lt__',\n",
       " '__mod__',\n",
       " '__mul__',\n",
       " '__ne__',\n",
       " '__new__',\n",
       " '__reduce__',\n",
       " '__reduce_ex__',\n",
       " '__repr__',\n",
       " '__rmod__',\n",
       " '__rmul__',\n",
       " '__setattr__',\n",
       " '__sizeof__',\n",
       " '__str__',\n",
       " '__subclasshook__',\n",
       " 'capitalize',\n",
       " 'casefold',\n",
       " 'center',\n",
       " 'count',\n",
       " 'encode',\n",
       " 'endswith',\n",
       " 'expandtabs',\n",
       " 'find',\n",
       " 'format',\n",
       " 'format_map',\n",
       " 'index',\n",
       " 'isalnum',\n",
       " 'isalpha',\n",
       " 'isascii',\n",
       " 'isdecimal',\n",
       " 'isdigit',\n",
       " 'isidentifier',\n",
       " 'islower',\n",
       " 'isnumeric',\n",
       " 'isprintable',\n",
       " 'isspace',\n",
       " 'istitle',\n",
       " 'isupper',\n",
       " 'join',\n",
       " 'ljust',\n",
       " 'lower',\n",
       " 'lstrip',\n",
       " 'maketrans',\n",
       " 'partition',\n",
       " 'replace',\n",
       " 'rfind',\n",
       " 'rindex',\n",
       " 'rjust',\n",
       " 'rpartition',\n",
       " 'rsplit',\n",
       " 'rstrip',\n",
       " 'split',\n",
       " 'splitlines',\n",
       " 'startswith',\n",
       " 'strip',\n",
       " 'swapcase',\n",
       " 'title',\n",
       " 'translate',\n",
       " 'upper',\n",
       " 'zfill']"
      ]
     },
     "execution_count": 157,
     "metadata": {},
     "output_type": "execute_result"
    }
   ],
   "source": [
    "dir(a)"
   ]
  },
  {
   "cell_type": "code",
   "execution_count": 135,
   "metadata": {},
   "outputs": [
    {
     "name": "stdout",
     "output_type": "stream",
     "text": [
      "Muhammad ali\n"
     ]
    }
   ],
   "source": [
    "print(a.capitalize())"
   ]
  },
  {
   "cell_type": "code",
   "execution_count": 136,
   "metadata": {},
   "outputs": [
    {
     "name": "stdout",
     "output_type": "stream",
     "text": [
      "muhammad ali\n"
     ]
    }
   ],
   "source": [
    "a=\"MUHAMMAD ALI\"\n",
    "print (a.casefold())"
   ]
  },
  {
   "cell_type": "code",
   "execution_count": 144,
   "metadata": {},
   "outputs": [
    {
     "name": "stdout",
     "output_type": "stream",
     "text": [
      "                                                      MUHAMMAD ALI                                                      \n",
      "******************************************************MUHAMMAD ALI******************************************************\n"
     ]
    }
   ],
   "source": [
    "print(a.center(120))\n",
    "print(a.center(120,\"*\"))"
   ]
  },
  {
   "cell_type": "code",
   "execution_count": 151,
   "metadata": {},
   "outputs": [
    {
     "name": "stdout",
     "output_type": "stream",
     "text": [
      "3\n"
     ]
    }
   ],
   "source": [
    "print(a.count(\"A\"))"
   ]
  },
  {
   "cell_type": "markdown",
   "metadata": {},
   "source": [
    "# ENCODE"
   ]
  },
  {
   "cell_type": "code",
   "execution_count": 1,
   "metadata": {},
   "outputs": [
    {
     "name": "stdout",
     "output_type": "stream",
     "text": [
      "b'muhammad ali'\n"
     ]
    }
   ],
   "source": [
    "a=\"muhammad ali\"\n",
    "print(a.encode())"
   ]
  },
  {
   "cell_type": "markdown",
   "metadata": {},
   "source": [
    "# ENDSWITH"
   ]
  },
  {
   "cell_type": "code",
   "execution_count": 16,
   "metadata": {},
   "outputs": [
    {
     "name": "stdout",
     "output_type": "stream",
     "text": [
      "False\n",
      "True\n",
      "False\n",
      "True\n"
     ]
    }
   ],
   "source": [
    "print(a.endswith(\"muhammad\"))\n",
    "print(a.endswith(\"ali\"))\n",
    "print(a.endswith(\"ali\",10,12))\n",
    "print(a.endswith(\"ali\",9,12))"
   ]
  },
  {
   "cell_type": "markdown",
   "metadata": {},
   "source": [
    "# EXPANDTABS"
   ]
  },
  {
   "cell_type": "code",
   "execution_count": 25,
   "metadata": {},
   "outputs": [
    {
     "name": "stdout",
     "output_type": "stream",
     "text": [
      "a \tl \ti\n",
      "a       l       i\n",
      "a         l         i\n"
     ]
    }
   ],
   "source": [
    "st='a \\tl \\ti'\n",
    "print(st)\n",
    "print(st.expandtabs())\n",
    "print(st.expandtabs(10))"
   ]
  },
  {
   "cell_type": "markdown",
   "metadata": {},
   "source": [
    "# FIND"
   ]
  },
  {
   "cell_type": "code",
   "execution_count": 26,
   "metadata": {},
   "outputs": [
    {
     "name": "stdout",
     "output_type": "stream",
     "text": [
      "9\n"
     ]
    }
   ],
   "source": [
    "print(a.find('ali'))"
   ]
  },
  {
   "cell_type": "markdown",
   "metadata": {},
   "source": [
    "# FORMAT"
   ]
  },
  {
   "cell_type": "code",
   "execution_count": 27,
   "metadata": {},
   "outputs": [
    {
     "name": "stdout",
     "output_type": "stream",
     "text": [
      "my name is muhammad ali\n"
     ]
    }
   ],
   "source": [
    "aa='my name is {}'\n",
    "print(aa.format(\"muhammad ali\"))"
   ]
  },
  {
   "cell_type": "markdown",
   "metadata": {},
   "source": [
    "# FORMAT MAP"
   ]
  },
  {
   "cell_type": "code",
   "execution_count": 38,
   "metadata": {},
   "outputs": [
    {
     "name": "stdout",
     "output_type": "stream",
     "text": [
      "my name is muhammad ali and i study in nust university\n"
     ]
    }
   ],
   "source": [
    "a={\"name\":\"muhammad ali\",\"university\":\"nust\"}\n",
    "b=\"my name is {name} and i study in {university} university\"\n",
    "print(b.format_map(a))"
   ]
  },
  {
   "cell_type": "markdown",
   "metadata": {},
   "source": [
    "# INDEX"
   ]
  },
  {
   "cell_type": "code",
   "execution_count": 40,
   "metadata": {},
   "outputs": [
    {
     "name": "stdout",
     "output_type": "stream",
     "text": [
      "9\n"
     ]
    }
   ],
   "source": [
    "x=\"muhammad ali\"\n",
    "print(x.index('ali'))"
   ]
  },
  {
   "cell_type": "markdown",
   "metadata": {},
   "source": [
    "# ISALNUM"
   ]
  },
  {
   "cell_type": "code",
   "execution_count": 92,
   "metadata": {},
   "outputs": [
    {
     "name": "stdout",
     "output_type": "stream",
     "text": [
      "False\n",
      "True\n"
     ]
    }
   ],
   "source": [
    "print(x.isalnum())\n",
    "xx=\"muhamamdali26\"\n",
    "aa=\"muhammad\"\n",
    "print(xx.isalnum())"
   ]
  },
  {
   "cell_type": "markdown",
   "metadata": {},
   "source": [
    "# ISALPHA"
   ]
  },
  {
   "cell_type": "code",
   "execution_count": 93,
   "metadata": {},
   "outputs": [
    {
     "name": "stdout",
     "output_type": "stream",
     "text": [
      "False\n",
      "False\n",
      "True\n"
     ]
    }
   ],
   "source": [
    "print(x.isalpha())\n",
    "print(xx.isalpha())\n",
    "print(aa.isalpha())"
   ]
  },
  {
   "cell_type": "markdown",
   "metadata": {},
   "source": [
    "# ISASCII"
   ]
  },
  {
   "cell_type": "code",
   "execution_count": 119,
   "metadata": {},
   "outputs": [
    {
     "name": "stdout",
     "output_type": "stream",
     "text": [
      "True\n",
      "False\n"
     ]
    }
   ],
   "source": [
    "n=\"muhammad ali 99.3\"\n",
    "print(n.isascii())\n",
    "b=\"python©\"\n",
    "print(b.isascii())"
   ]
  },
  {
   "cell_type": "markdown",
   "metadata": {},
   "source": [
    "# ISDECIMAL"
   ]
  },
  {
   "cell_type": "code",
   "execution_count": 120,
   "metadata": {},
   "outputs": [
    {
     "name": "stdout",
     "output_type": "stream",
     "text": [
      "False\n",
      "True\n"
     ]
    }
   ],
   "source": [
    "print(n.isdecimal())\n",
    "c=\"45\"\n",
    "print(c.isdecimal())"
   ]
  },
  {
   "cell_type": "markdown",
   "metadata": {},
   "source": [
    "# ISDIGIT"
   ]
  },
  {
   "cell_type": "code",
   "execution_count": 122,
   "metadata": {},
   "outputs": [
    {
     "name": "stdout",
     "output_type": "stream",
     "text": [
      "False\n",
      "True\n"
     ]
    }
   ],
   "source": [
    "print(n.isdigit())\n",
    "print(c.isdigit())"
   ]
  },
  {
   "cell_type": "markdown",
   "metadata": {},
   "source": [
    "# ISIDENTIFIER"
   ]
  },
  {
   "cell_type": "code",
   "execution_count": 126,
   "metadata": {},
   "outputs": [
    {
     "name": "stdout",
     "output_type": "stream",
     "text": [
      "False\n",
      "True\n"
     ]
    }
   ],
   "source": [
    "print(n.isidentifier())\n",
    "o=\"string\"\n",
    "print(o.isidentifier())"
   ]
  },
  {
   "cell_type": "markdown",
   "metadata": {},
   "source": [
    "# ISLOWER"
   ]
  },
  {
   "cell_type": "code",
   "execution_count": 128,
   "metadata": {},
   "outputs": [
    {
     "name": "stdout",
     "output_type": "stream",
     "text": [
      "True\n",
      "False\n"
     ]
    }
   ],
   "source": [
    "n=\"muhammad ali\"\n",
    "print(n.islower())\n",
    "i=\"Muhammad Ali\"\n",
    "print(i.islower())"
   ]
  },
  {
   "cell_type": "markdown",
   "metadata": {},
   "source": [
    "# ISNUMERIC"
   ]
  },
  {
   "cell_type": "code",
   "execution_count": 133,
   "metadata": {},
   "outputs": [
    {
     "name": "stdout",
     "output_type": "stream",
     "text": [
      "False\n",
      "True\n"
     ]
    }
   ],
   "source": [
    "print(n.isnumeric())\n",
    "o=\"98\"\n",
    "print(o.isnumeric())"
   ]
  },
  {
   "cell_type": "markdown",
   "metadata": {},
   "source": [
    "# ISPRINTABLE "
   ]
  },
  {
   "cell_type": "code",
   "execution_count": 142,
   "metadata": {},
   "outputs": [
    {
     "name": "stdout",
     "output_type": "stream",
     "text": [
      "True\n",
      "False\n"
     ]
    }
   ],
   "source": [
    "x=\"muhammad    ali\"\n",
    "print(x.isprintable())\n",
    "xy=\"muhammad ali \\n\"\n",
    "print(xy.isprintable())"
   ]
  },
  {
   "cell_type": "markdown",
   "metadata": {},
   "source": [
    "# ISSPACE"
   ]
  },
  {
   "cell_type": "code",
   "execution_count": 149,
   "metadata": {},
   "outputs": [
    {
     "name": "stdout",
     "output_type": "stream",
     "text": [
      "False\n",
      "True\n",
      "True\n"
     ]
    }
   ],
   "source": [
    "print(x.isspace())\n",
    "xy=\" \"\n",
    "ab=\"  \"\n",
    "print(xy.isspace())\n",
    "print(ab.isspace())"
   ]
  },
  {
   "cell_type": "markdown",
   "metadata": {},
   "source": [
    "# ISTITLE"
   ]
  },
  {
   "cell_type": "code",
   "execution_count": 152,
   "metadata": {},
   "outputs": [
    {
     "name": "stdout",
     "output_type": "stream",
     "text": [
      "False\n",
      "True\n"
     ]
    }
   ],
   "source": [
    "print(x.istitle())\n",
    "xx=\"Muhammad Ali\"\n",
    "print(xx.istitle())"
   ]
  },
  {
   "cell_type": "markdown",
   "metadata": {},
   "source": [
    "# ISUPPER"
   ]
  },
  {
   "cell_type": "code",
   "execution_count": 154,
   "metadata": {},
   "outputs": [
    {
     "name": "stdout",
     "output_type": "stream",
     "text": [
      "False\n",
      "True\n"
     ]
    }
   ],
   "source": [
    "print(x.isupper())\n",
    "dd=\"MUHAMMAD ALI\"\n",
    "print(dd.isupper())"
   ]
  },
  {
   "cell_type": "markdown",
   "metadata": {},
   "source": [
    "# JOIN"
   ]
  },
  {
   "cell_type": "code",
   "execution_count": 159,
   "metadata": {},
   "outputs": [
    {
     "name": "stdout",
     "output_type": "stream",
     "text": [
      "m-u-h-a-m-m-a-d- -a-l-i\n",
      "muhammad ali-nowshera-nust-pakistan\n"
     ]
    }
   ],
   "source": [
    "a=\"muhammad ali\"\n",
    "j='-'\n",
    "print('-'.join(a))\n",
    "s=[\"muhammad ali\",\"nowshera\",\"nust\",\"pakistan\"]\n",
    "print(j.join(s))"
   ]
  },
  {
   "cell_type": "markdown",
   "metadata": {},
   "source": [
    "# LJUST"
   ]
  },
  {
   "cell_type": "code",
   "execution_count": 163,
   "metadata": {},
   "outputs": [
    {
     "name": "stdout",
     "output_type": "stream",
     "text": [
      "muhaMMad Ali%%%%%%%%%%%%%%%%%%%%%%%%%%%%\n"
     ]
    }
   ],
   "source": [
    "x=\"muhaMMad Ali\"\n",
    "print(x.ljust(40,\"%\"))"
   ]
  },
  {
   "cell_type": "markdown",
   "metadata": {},
   "source": [
    "# LOWER"
   ]
  },
  {
   "cell_type": "code",
   "execution_count": 164,
   "metadata": {},
   "outputs": [
    {
     "name": "stdout",
     "output_type": "stream",
     "text": [
      "muhammad ali\n"
     ]
    }
   ],
   "source": [
    "print(x.lower())"
   ]
  },
  {
   "cell_type": "markdown",
   "metadata": {},
   "source": [
    "# ISTRIP"
   ]
  },
  {
   "cell_type": "code",
   "execution_count": 160,
   "metadata": {},
   "outputs": [
    {
     "name": "stdout",
     "output_type": "stream",
     "text": [
      "jamshaid\n"
     ]
    }
   ],
   "source": [
    "x=\"muhammad ali jamshaid\"\n",
    "print(x.lstrip(\"muhammad ali\"))"
   ]
  },
  {
   "cell_type": "markdown",
   "metadata": {},
   "source": [
    "# MAKETRANS"
   ]
  },
  {
   "cell_type": "code",
   "execution_count": 251,
   "metadata": {},
   "outputs": [
    {
     "name": "stdout",
     "output_type": "stream",
     "text": [
      "{97: 100, 98: 101, 99: 102}\n"
     ]
    }
   ],
   "source": [
    "dict = str.maketrans(\"abc\", \"def\")\n",
    "print(dict)"
   ]
  },
  {
   "cell_type": "markdown",
   "metadata": {},
   "source": [
    "# PARTITION"
   ]
  },
  {
   "cell_type": "code",
   "execution_count": 168,
   "metadata": {},
   "outputs": [
    {
     "name": "stdout",
     "output_type": "stream",
     "text": [
      "('muhammad ', 'ali', ' jamshaid')\n",
      "('muhammad ali son ', 'of', ' jamshaid khan lives in nowshera of kpk')\n"
     ]
    }
   ],
   "source": [
    "x=\"muhammad ali jamshaid\"\n",
    "print(x.partition(\"ali\"))\n",
    "y=\"muhammad ali son of jamshaid khan lives in nowshera of kpk\"\n",
    "print(y.partition(\"of\"))"
   ]
  },
  {
   "cell_type": "markdown",
   "metadata": {},
   "source": [
    "# REPLACE"
   ]
  },
  {
   "cell_type": "code",
   "execution_count": 216,
   "metadata": {},
   "outputs": [
    {
     "name": "stdout",
     "output_type": "stream",
     "text": [
      "muhammad usama jamshaid\n"
     ]
    }
   ],
   "source": [
    "x=\"muhammad ali jamshaid\"\n",
    "print(x.replace(\"ali\",\"usama\"))"
   ]
  },
  {
   "cell_type": "markdown",
   "metadata": {},
   "source": [
    "# RFIND"
   ]
  },
  {
   "cell_type": "code",
   "execution_count": 199,
   "metadata": {},
   "outputs": [
    {
     "name": "stdout",
     "output_type": "stream",
     "text": [
      "55\n"
     ]
    }
   ],
   "source": [
    "print(y.rfind(\"kpk\"))"
   ]
  },
  {
   "cell_type": "markdown",
   "metadata": {},
   "source": [
    "# RINDEX"
   ]
  },
  {
   "cell_type": "code",
   "execution_count": 196,
   "metadata": {},
   "outputs": [
    {
     "name": "stdout",
     "output_type": "stream",
     "text": [
      "34\n"
     ]
    }
   ],
   "source": [
    "x=\"muhammad ali son of jamshaid khan lives in nowshera\"\n",
    "print(x.rindex(\"lives\"))"
   ]
  },
  {
   "cell_type": "markdown",
   "metadata": {},
   "source": [
    "# RJUST"
   ]
  },
  {
   "cell_type": "code",
   "execution_count": 205,
   "metadata": {},
   "outputs": [
    {
     "name": "stdout",
     "output_type": "stream",
     "text": [
      "######################################muhammad ali\n"
     ]
    }
   ],
   "source": [
    "x=\"muhammad ali\"\n",
    "print(x.rjust(50,\"#\"))"
   ]
  },
  {
   "cell_type": "markdown",
   "metadata": {},
   "source": [
    "# RPARTITION"
   ]
  },
  {
   "cell_type": "code",
   "execution_count": 206,
   "metadata": {},
   "outputs": [
    {
     "name": "stdout",
     "output_type": "stream",
     "text": [
      "('muhammad ali son ', 'of', ' jamshaid khan lives in nowshera')\n"
     ]
    }
   ],
   "source": [
    "xx=\"muhammad ali son of jamshaid khan lives in nowshera\"\n",
    "print(xx.rpartition(\"of\"))"
   ]
  },
  {
   "cell_type": "markdown",
   "metadata": {},
   "source": [
    "# RSPLIT"
   ]
  },
  {
   "cell_type": "code",
   "execution_count": 215,
   "metadata": {},
   "outputs": [
    {
     "name": "stdout",
     "output_type": "stream",
     "text": [
      "['muhammad ', ' jamshaid']\n"
     ]
    }
   ],
   "source": [
    "x=\"muhammad ali jamshaid\"\n",
    "print(x.rsplit(\"ali\"))"
   ]
  },
  {
   "cell_type": "markdown",
   "metadata": {},
   "source": [
    "# RSTRIP"
   ]
  },
  {
   "cell_type": "code",
   "execution_count": 225,
   "metadata": {},
   "outputs": [
    {
     "name": "stdout",
     "output_type": "stream",
     "text": [
      "muhammad ali jamshaid\n"
     ]
    }
   ],
   "source": [
    "x=\"muhammad ali jamshaid\"\n",
    "print(x.rstrip())"
   ]
  },
  {
   "cell_type": "markdown",
   "metadata": {},
   "source": [
    "# SPLIT"
   ]
  },
  {
   "cell_type": "code",
   "execution_count": 224,
   "metadata": {},
   "outputs": [
    {
     "name": "stdout",
     "output_type": "stream",
     "text": [
      "['muhammad', 'ali', 'jamshaid']\n"
     ]
    }
   ],
   "source": [
    "print(x.split())"
   ]
  },
  {
   "cell_type": "markdown",
   "metadata": {},
   "source": [
    "# SPLITLINES"
   ]
  },
  {
   "cell_type": "code",
   "execution_count": 229,
   "metadata": {},
   "outputs": [
    {
     "name": "stdout",
     "output_type": "stream",
     "text": [
      "muhammad \n",
      " ali \n",
      " jamshaid \n",
      "\n",
      "['muhammad \\n', ' ali \\n', ' jamshaid \\n']\n",
      "['muhammad ', ' ali ', ' jamshaid ']\n"
     ]
    }
   ],
   "source": [
    "x=\"muhammad \\n ali \\n jamshaid \\n\"\n",
    "print(x)\n",
    "print(x.splitlines(1))\n",
    "print(x.splitlines())"
   ]
  },
  {
   "cell_type": "markdown",
   "metadata": {},
   "source": [
    "# STARTSWITH"
   ]
  },
  {
   "cell_type": "code",
   "execution_count": 232,
   "metadata": {},
   "outputs": [
    {
     "name": "stdout",
     "output_type": "stream",
     "text": [
      "True\n",
      "False\n"
     ]
    }
   ],
   "source": [
    "x=\"muhammad ali jamashaid\"\n",
    "print(x.startswith(\"mu\"))\n",
    "print(x.startswith(\"ja\"))"
   ]
  },
  {
   "cell_type": "markdown",
   "metadata": {},
   "source": [
    "# STRIP"
   ]
  },
  {
   "cell_type": "code",
   "execution_count": 243,
   "metadata": {},
   "outputs": [
    {
     "name": "stdout",
     "output_type": "stream",
     "text": [
      "muhammad ali jamashaid\n"
     ]
    }
   ],
   "source": [
    "x=\"muhammad ali jamashaid\"\n",
    "print(x.strip())"
   ]
  },
  {
   "cell_type": "markdown",
   "metadata": {},
   "source": [
    "# SWAPCASE"
   ]
  },
  {
   "cell_type": "code",
   "execution_count": 237,
   "metadata": {},
   "outputs": [
    {
     "name": "stdout",
     "output_type": "stream",
     "text": [
      "MUHAMMAD ALI\n"
     ]
    }
   ],
   "source": [
    "x=\"muhammad ali\"\n",
    "print(x.swapcase())"
   ]
  },
  {
   "cell_type": "markdown",
   "metadata": {},
   "source": [
    "# TITLE"
   ]
  },
  {
   "cell_type": "code",
   "execution_count": 238,
   "metadata": {},
   "outputs": [
    {
     "name": "stdout",
     "output_type": "stream",
     "text": [
      "Muhammad Ali\n"
     ]
    }
   ],
   "source": [
    "x=\"muhammad ali\"\n",
    "print (x.title())"
   ]
  },
  {
   "cell_type": "markdown",
   "metadata": {},
   "source": [
    "# UPPER"
   ]
  },
  {
   "cell_type": "code",
   "execution_count": 244,
   "metadata": {},
   "outputs": [
    {
     "name": "stdout",
     "output_type": "stream",
     "text": [
      "MUHAMMAD ALI JAMASHAID\n"
     ]
    }
   ],
   "source": [
    "x=\"muhammad ali jamashaid\"\n",
    "print(x.upper())"
   ]
  },
  {
   "cell_type": "markdown",
   "metadata": {},
   "source": [
    "# ZFILL"
   ]
  },
  {
   "cell_type": "code",
   "execution_count": 249,
   "metadata": {},
   "outputs": [
    {
     "name": "stdout",
     "output_type": "stream",
     "text": [
      "00000000000000000ali\n"
     ]
    }
   ],
   "source": [
    "x=\"ali\"\n",
    "print(x.zfill(20))"
   ]
  }
 ],
 "metadata": {
  "kernelspec": {
   "display_name": "Python 3",
   "language": "python",
   "name": "python3"
  },
  "language_info": {
   "codemirror_mode": {
    "name": "ipython",
    "version": 3
   },
   "file_extension": ".py",
   "mimetype": "text/x-python",
   "name": "python",
   "nbconvert_exporter": "python",
   "pygments_lexer": "ipython3",
   "version": "3.7.4"
  }
 },
 "nbformat": 4,
 "nbformat_minor": 2
}
