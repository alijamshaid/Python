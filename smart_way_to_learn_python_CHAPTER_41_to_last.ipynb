{
 "cells": [
  {
   "cell_type": "code",
   "execution_count": 1,
   "metadata": {},
   "outputs": [
    {
     "name": "stdout",
     "output_type": "stream",
     "text": [
      "muhammad ali\n"
     ]
    }
   ],
   "source": [
    "greeting=\"muhammad ali\"\n",
    "def ali(a):\n",
    "    print(a)\n",
    "ali(greeting)"
   ]
  },
  {
   "cell_type": "code",
   "execution_count": 1,
   "metadata": {},
   "outputs": [
    {
     "name": "stdout",
     "output_type": "stream",
     "text": [
      "enter city : nowshera\n",
      "clean city\n",
      "enter city : q\n"
     ]
    }
   ],
   "source": [
    "cities=[\"islamabad\",\"pakistan\",\"usa\",\"dehli\",\"calcutta\",\"nowshera\",\"france\"]\n",
    "user_input=\"\"\n",
    "while user_input !=\"q\":\n",
    "    user_input=input(\"enter city : \")\n",
    "    if user_input != \"q\":\n",
    "        for x in cities:\n",
    "            if user_input==x:\n",
    "                print(\"clean city\")\n",
    "                break"
   ]
  },
  {
   "cell_type": "code",
   "execution_count": 14,
   "metadata": {},
   "outputs": [
    {
     "name": "stdout",
     "output_type": "stream",
     "text": [
      "['ali', 'umair', 'waheed']\n"
     ]
    }
   ],
   "source": [
    "import json\n",
    "x=[\"ali\",\"umair\",\"waheed\"]\n",
    "with open(\"E:/hello.json\",\"r\",newline=\"\")as f:\n",
    "    data=json.load(f)\n",
    "    print(data)\n",
    "    "
   ]
  },
  {
   "cell_type": "code",
   "execution_count": 22,
   "metadata": {},
   "outputs": [],
   "source": [
    "class Patient():\n",
    "    def __init__(self,lastname,firstname,age):\n",
    "        self.lastname=lastname\n",
    "        self.firstname=firstname\n",
    "        self.age=age\n",
    "pid6=Patient(\"waheed\", \"gul\", 22)\n",
    "pid7=Patient(\"rashid\",\"ali\",25)\n",
    "pid8=Patient(\"waheed\",\"zeb\",37)\n",
    "pid9=Patient(\"rashid\",\"butt\",21)\n",
    "pid10=Patient(\"waheed\",\"karan\",33)"
   ]
  },
  {
   "cell_type": "code",
   "execution_count": 23,
   "metadata": {},
   "outputs": [
    {
     "name": "stdout",
     "output_type": "stream",
     "text": [
      "21\n",
      "25\n"
     ]
    }
   ],
   "source": [
    "age_of_patient=pid9.age\n",
    "print(age_of_patient)\n",
    "print(pid7.age)"
   ]
  },
  {
   "cell_type": "code",
   "execution_count": 24,
   "metadata": {},
   "outputs": [],
   "source": [
    "def say_if_minor(patient_first_name,patient_last_name,patient_age):\n",
    "    if patient_age < 25:\n",
    "        print(patient_first_name + \" \" + patient_last_name + \"is a minor\")"
   ]
  },
  {
   "cell_type": "code",
   "execution_count": 25,
   "metadata": {},
   "outputs": [],
   "source": [
    "say_if_minor(pid10.firstname,pid10.lastname,pid10.age)"
   ]
  },
  {
   "cell_type": "code",
   "execution_count": 32,
   "metadata": {},
   "outputs": [
    {
     "ename": "SyntaxError",
     "evalue": "unexpected EOF while parsing (<ipython-input-32-f1d2e34e9af0>, line 9)",
     "output_type": "error",
     "traceback": [
      "\u001b[1;36m  File \u001b[1;32m\"<ipython-input-32-f1d2e34e9af0>\"\u001b[1;36m, line \u001b[1;32m9\u001b[0m\n\u001b[1;33m    def say_if_minor(self):\u001b[0m\n\u001b[1;37m                           ^\u001b[0m\n\u001b[1;31mSyntaxError\u001b[0m\u001b[1;31m:\u001b[0m unexpected EOF while parsing\n"
     ]
    }
   ],
   "source": [
    "class Patient():\n",
    "    def __init__(self,lastname,firstname,age):\n",
    "        self.lastname=lastname\n",
    "        self.firstname=firstname\n",
    "        self.age=age\n",
    "    def say_if_minor(self,first_name,last_name,age):\n",
    "        if self.age < 25:\n",
    "            print(\"patient_first_name\")\n",
    "def say_if_minor(self):"
   ]
  }
 ],
 "metadata": {
  "kernelspec": {
   "display_name": "Python 3",
   "language": "python",
   "name": "python3"
  },
  "language_info": {
   "codemirror_mode": {
    "name": "ipython",
    "version": 3
   },
   "file_extension": ".py",
   "mimetype": "text/x-python",
   "name": "python",
   "nbconvert_exporter": "python",
   "pygments_lexer": "ipython3",
   "version": "3.7.3"
  }
 },
 "nbformat": 4,
 "nbformat_minor": 2
}
